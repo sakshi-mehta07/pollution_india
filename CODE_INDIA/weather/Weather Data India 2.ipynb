{
 "cells": [
  {
   "cell_type": "code",
   "execution_count": 2,
   "metadata": {},
   "outputs": [],
   "source": [
    "# Import relevant libraries\n",
    "import requests\n",
    "import pandas as pd\n",
    "import os\n",
    "import json\n",
    "import requests\n",
    "from bs4 import BeautifulSoup\n",
    "from unidecode import unidecode"
   ]
  },
  {
   "cell_type": "code",
   "execution_count": 4,
   "metadata": {},
   "outputs": [],
   "source": [
    "os.getcwd()\n",
    "# Directory should be at github repo level.\n",
    "# .. to move up 2 directory level.\n",
    "\n",
    "os.chdir(\"..\")\n",
    "os.chdir(\"..\")"
   ]
  },
  {
   "cell_type": "code",
   "execution_count": 7,
   "metadata": {
    "scrolled": true
   },
   "outputs": [
    {
     "data": {
      "text/plain": [
       "['naharlagun',\n",
       " 'srinagar',\n",
       " 'chittoor',\n",
       " 'kadapa',\n",
       " 'anantapur',\n",
       " 'visakhapatnam',\n",
       " 'amaravati',\n",
       " 'vijayawada',\n",
       " 'rajamahendravaram',\n",
       " 'tirupati',\n",
       " 'hyderabad',\n",
       " 'imphal',\n",
       " 'mandideep',\n",
       " 'satna',\n",
       " 'bhopal',\n",
       " 'ratlam',\n",
       " 'gwalior',\n",
       " 'katni',\n",
       " 'maihar',\n",
       " 'damoh',\n",
       " 'dewas',\n",
       " 'jabalpur',\n",
       " 'ujjain',\n",
       " 'sagar',\n",
       " 'singrauli',\n",
       " 'pithampur',\n",
       " 'indore',\n",
       " 'ambala',\n",
       " 'sirsa',\n",
       " 'palwal',\n",
       " 'kurukshetra',\n",
       " 'ballabgarh',\n",
       " 'manesar',\n",
       " 'narnaul',\n",
       " 'gurugram',\n",
       " 'karnal',\n",
       " 'bahadurgarh',\n",
       " 'rohtak',\n",
       " 'kaithal',\n",
       " 'sonipat',\n",
       " 'mandikhera',\n",
       " 'faridabad',\n",
       " 'hisar',\n",
       " 'yamunanagar',\n",
       " 'charkhi_dadri',\n",
       " 'jind',\n",
       " 'panipat',\n",
       " 'bhiwani',\n",
       " 'panchkula',\n",
       " 'fatehabad',\n",
       " 'dharuhera',\n",
       " 'ankleshwar',\n",
       " 'gandhinagar',\n",
       " 'surat',\n",
       " 'vapi',\n",
       " 'vatva',\n",
       " 'ahmedabad',\n",
       " 'nandesari',\n",
       " 'gangtok',\n",
       " 'baddi',\n",
       " 'delhi',\n",
       " 'ludhiana',\n",
       " 'bathinda',\n",
       " 'mandi_gobindgarh',\n",
       " 'khanna',\n",
       " 'rupnagar',\n",
       " 'jalandhar',\n",
       " 'amritsar',\n",
       " 'patiala',\n",
       " 'mysuru',\n",
       " 'yadgir',\n",
       " 'kolar',\n",
       " 'koppal',\n",
       " 'bidar',\n",
       " 'vijayapura',\n",
       " 'gadag',\n",
       " 'mangalore',\n",
       " 'kalaburagi',\n",
       " 'hubballi',\n",
       " 'udupi',\n",
       " 'belgaum',\n",
       " 'madikeri',\n",
       " 'haveri',\n",
       " 'tumakuru',\n",
       " 'bengaluru',\n",
       " 'dharwad',\n",
       " 'hassan',\n",
       " 'shivamogga',\n",
       " 'chikkamagaluru',\n",
       " 'chamarajanagar',\n",
       " 'chikkaballapur',\n",
       " 'bagalkot',\n",
       " 'davanagere',\n",
       " 'ramanagara',\n",
       " 'raichur',\n",
       " 'karwar',\n",
       " 'latur',\n",
       " 'kalyan',\n",
       " 'sangli',\n",
       " 'dhule',\n",
       " 'bhiwandi',\n",
       " 'virar',\n",
       " 'kolhapur',\n",
       " 'nagpur',\n",
       " 'chandrapur',\n",
       " 'pune',\n",
       " 'jalgaon',\n",
       " 'solapur',\n",
       " 'ulhasnagar',\n",
       " 'amravati',\n",
       " 'parbhani',\n",
       " 'badlapur',\n",
       " 'akola',\n",
       " 'boisar',\n",
       " 'mumbai',\n",
       " 'jalna',\n",
       " 'nashik',\n",
       " 'belapur',\n",
       " 'malegaon',\n",
       " 'thane',\n",
       " 'navi_mumbai',\n",
       " 'mahad',\n",
       " 'nanded',\n",
       " 'baripada',\n",
       " 'bileipada',\n",
       " 'angul',\n",
       " 'tensa',\n",
       " 'cuttack',\n",
       " 'balasore',\n",
       " 'keonjhar',\n",
       " 'rairangpur',\n",
       " 'talcher',\n",
       " 'byasanagar',\n",
       " 'suakati',\n",
       " 'rourkela',\n",
       " 'nayagarh',\n",
       " 'barbil',\n",
       " 'brajrajnagar',\n",
       " 'sirohi',\n",
       " 'baran',\n",
       " 'banswara',\n",
       " 'hanumangarh',\n",
       " 'bharatpur',\n",
       " 'bikaner',\n",
       " 'jalore',\n",
       " 'bhiwadi',\n",
       " 'sikar',\n",
       " 'karauli',\n",
       " 'bhilwara',\n",
       " 'alwar',\n",
       " 'bundi',\n",
       " 'dausa',\n",
       " 'chittorgarh',\n",
       " 'barmer',\n",
       " 'jaipur',\n",
       " 'jaisalmer',\n",
       " 'pratapgarh',\n",
       " 'sawai_madhopur',\n",
       " 'jhalawar',\n",
       " 'jhunjhunu',\n",
       " 'nagaur',\n",
       " 'ajmer',\n",
       " 'rajsamand',\n",
       " 'jodhpur',\n",
       " 'sri_ganganagar',\n",
       " 'pali',\n",
       " 'kota',\n",
       " 'dholpur',\n",
       " 'dungarpur',\n",
       " 'tonk',\n",
       " 'churu',\n",
       " 'udaipur',\n",
       " 'chandigarh',\n",
       " 'thiruvananthapuram',\n",
       " 'thrissur',\n",
       " 'kozhikode',\n",
       " 'kollam',\n",
       " 'kannur',\n",
       " 'eloor',\n",
       " 'ernakulam',\n",
       " 'kochi',\n",
       " 'bhilai',\n",
       " 'chhal',\n",
       " 'milupara',\n",
       " 'bilaspur',\n",
       " 'raipur',\n",
       " 'tumidih',\n",
       " 'kunjemura',\n",
       " 'korba',\n",
       " 'aizawl',\n",
       " 'silchar',\n",
       " 'nalbari',\n",
       " 'guwahati',\n",
       " 'nagaon',\n",
       " 'sivasagar',\n",
       " 'byrnihat',\n",
       " 'shillong',\n",
       " 'tiruchirappalli',\n",
       " 'nagapattinam',\n",
       " 'coimbatore',\n",
       " 'vellore',\n",
       " 'ranipet',\n",
       " 'dindigul',\n",
       " 'tirupur',\n",
       " 'ooty',\n",
       " 'kanchipuram',\n",
       " 'tirunelveli',\n",
       " 'chennai',\n",
       " 'gummidipoondi',\n",
       " 'perundurai',\n",
       " 'thanjavur',\n",
       " 'cuddalore',\n",
       " 'karur',\n",
       " 'thoothukudi',\n",
       " 'pudukottai',\n",
       " 'ariyalur',\n",
       " 'salem',\n",
       " 'madurai',\n",
       " 'ramanathapuram',\n",
       " 'virudhunagar',\n",
       " 'hosur',\n",
       " 'palkalaiperur',\n",
       " 'chengalpattu',\n",
       " 'kolkata',\n",
       " 'haldia',\n",
       " 'durgapur',\n",
       " 'siliguri',\n",
       " 'asansol',\n",
       " 'howrah',\n",
       " 'barrackpore',\n",
       " 'kashipur',\n",
       " 'rishikesh',\n",
       " 'dehradun',\n",
       " 'agra',\n",
       " 'prayagraj',\n",
       " 'meerut',\n",
       " 'jhansi',\n",
       " 'greater_noida',\n",
       " 'kanpur',\n",
       " 'bulandshahr',\n",
       " 'lucknow',\n",
       " 'firozabad',\n",
       " 'moradabad',\n",
       " 'hapur',\n",
       " 'vrindavan',\n",
       " 'ghaziabad',\n",
       " 'bareilly',\n",
       " 'noida',\n",
       " 'varanasi',\n",
       " 'muzaffarnagar',\n",
       " 'gorakhpur',\n",
       " 'khurja',\n",
       " 'baghpat',\n",
       " 'puducherry',\n",
       " 'rajgir',\n",
       " 'araria',\n",
       " 'bettiah',\n",
       " 'begusarai',\n",
       " 'katihar',\n",
       " 'saharsa',\n",
       " 'samastipur',\n",
       " 'motihari',\n",
       " 'muzaffarpur',\n",
       " 'bhagalpur',\n",
       " 'buxar',\n",
       " 'darbhanga',\n",
       " 'sasaram',\n",
       " 'bihar_sharif',\n",
       " 'purnia',\n",
       " 'manguraha',\n",
       " 'patna',\n",
       " 'arrah',\n",
       " 'hajipur',\n",
       " 'siwan',\n",
       " 'chhapra',\n",
       " 'kishanganj',\n",
       " 'munger',\n",
       " 'gaya',\n",
       " 'dhanbad',\n",
       " 'jorapokhar',\n",
       " 'pathardih',\n",
       " 'kohima']"
      ]
     },
     "metadata": {},
     "output_type": "display_data"
    },
    {
     "name": "stdout",
     "output_type": "stream",
     "text": [
      "282\n",
      "31\n"
     ]
    }
   ],
   "source": [
    "city_dict = {'arunachal pradesh': ['naharlagun'],\n",
    " 'jammu and kashmir': ['srinagar'],\n",
    " 'andhra pradesh': ['chittoor',\n",
    "  'kadapa',\n",
    "  'anantapur',\n",
    "  'visakhapatnam',\n",
    "  'amaravati',\n",
    "  'vijayawada',\n",
    "  'rajamahendravaram',\n",
    "  'tirupati'],\n",
    " 'telangana': ['hyderabad'],\n",
    " 'manipur': ['imphal'],\n",
    " 'madhya pradesh': ['mandideep',\n",
    "  'satna',\n",
    "  'bhopal',\n",
    "  'ratlam',\n",
    "  'gwalior',\n",
    "  'katni',\n",
    "  'maihar',\n",
    "  'damoh',\n",
    "  'dewas',\n",
    "  'jabalpur',\n",
    "  'ujjain',\n",
    "  'sagar',\n",
    "  'singrauli',\n",
    "  'pithampur',\n",
    "  'indore'],\n",
    " 'haryana': ['ambala',\n",
    "  'sirsa',\n",
    "  'palwal',\n",
    "  'kurukshetra',\n",
    "  'ballabgarh',\n",
    "  'manesar',\n",
    "  'narnaul',\n",
    "  'gurugram',\n",
    "  'karnal',\n",
    "  'bahadurgarh',\n",
    "  'rohtak',\n",
    "  'kaithal',\n",
    "  'sonipat',\n",
    "  'mandikhera',\n",
    "  'faridabad',\n",
    "  'hisar',\n",
    "  'yamunanagar',\n",
    "  'charkhi_dadri',\n",
    "  'jind',\n",
    "  'panipat',\n",
    "  'bhiwani',\n",
    "  'panchkula',\n",
    "  'fatehabad',\n",
    "  'dharuhera'],\n",
    " 'gujarat': ['ankleshwar',\n",
    "  'gandhinagar',\n",
    "  'surat',\n",
    "  'vapi',\n",
    "  'vatva',\n",
    "  'ahmedabad',\n",
    "  'nandesari'],\n",
    " 'sikkim': ['gangtok'],\n",
    " 'himachal pradesh': ['baddi'],\n",
    " 'delhi': ['delhi'],\n",
    " 'punjab': ['ludhiana',\n",
    "  'bathinda',\n",
    "  'mandi_gobindgarh',\n",
    "  'khanna',\n",
    "  'rupnagar',\n",
    "  'jalandhar',\n",
    "  'amritsar',\n",
    "  'patiala'],\n",
    " 'karnataka': ['mysuru',\n",
    "  'yadgir',\n",
    "  'kolar',\n",
    "  'koppal',\n",
    "  'bidar',\n",
    "  'vijayapura',\n",
    "  'gadag',\n",
    "  'mangalore',\n",
    "  'kalaburagi',\n",
    "  'hubballi',\n",
    "  'udupi',\n",
    "  'belgaum',\n",
    "  'madikeri',\n",
    "  'haveri',\n",
    "  'tumakuru',\n",
    "  'bengaluru',\n",
    "  'dharwad',\n",
    "  'hassan',\n",
    "  'shivamogga',\n",
    "  'chikkamagaluru',\n",
    "  'chamarajanagar',\n",
    "  'chikkaballapur',\n",
    "  'bagalkot',\n",
    "  'davanagere',\n",
    "  'ramanagara',\n",
    "  'raichur',\n",
    "  'karwar'],\n",
    " 'maharashtra': ['latur',\n",
    "  'kalyan',\n",
    "  'sangli',\n",
    "  'dhule',\n",
    "  'bhiwandi',\n",
    "  'virar',\n",
    "  'kolhapur',\n",
    "  'nagpur',\n",
    "  'chandrapur',\n",
    "  'pune',\n",
    "  'jalgaon',\n",
    "  'solapur',\n",
    "  'ulhasnagar',\n",
    "  'amravati',\n",
    "  'parbhani',\n",
    "  'badlapur',\n",
    "  'akola',\n",
    "  'boisar',\n",
    "  'mumbai',\n",
    "  'jalna',\n",
    "  'nashik',\n",
    "  'belapur',\n",
    "  'malegaon',\n",
    "  'thane',\n",
    "  'navi_mumbai',\n",
    "  'mahad',\n",
    "  'nanded'],\n",
    " 'odisha': ['baripada',\n",
    "  'bileipada',\n",
    "  'angul',\n",
    "  'tensa',\n",
    "  'cuttack',\n",
    "  'balasore',\n",
    "  'keonjhar',\n",
    "  'rairangpur',\n",
    "  'talcher',\n",
    "  'byasanagar',\n",
    "  'suakati',\n",
    "  'rourkela',\n",
    "  'nayagarh',\n",
    "  'barbil',\n",
    "  'brajrajnagar'],\n",
    " 'rajasthan': ['sirohi',\n",
    "  'baran',\n",
    "  'banswara',\n",
    "  'hanumangarh',\n",
    "  'bharatpur',\n",
    "  'bikaner',\n",
    "  'jalore',\n",
    "  'bhiwadi',\n",
    "  'sikar',\n",
    "  'karauli',\n",
    "  'bhilwara',\n",
    "  'alwar',\n",
    "  'bundi',\n",
    "  'dausa',\n",
    "  'chittorgarh',\n",
    "  'barmer',\n",
    "  'jaipur',\n",
    "  'jaisalmer',\n",
    "  'pratapgarh',\n",
    "  'sawai_madhopur',\n",
    "  'jhalawar',\n",
    "  'jhunjhunu',\n",
    "  'nagaur',\n",
    "  'ajmer',\n",
    "  'rajsamand',\n",
    "  'jodhpur',\n",
    "  'sri_ganganagar',\n",
    "  'pali',\n",
    "  'kota',\n",
    "  'dholpur',\n",
    "  'dungarpur',\n",
    "  'tonk',\n",
    "  'churu',\n",
    "  'udaipur'],\n",
    " 'chandigarh': ['chandigarh'],\n",
    " 'kerala': ['thiruvananthapuram',\n",
    "  'thrissur',\n",
    "  'kozhikode',\n",
    "  'kollam',\n",
    "  'kannur',\n",
    "  'eloor',\n",
    "  'ernakulam',\n",
    "  'kochi'],\n",
    " 'chhattisgarh': ['bhilai',\n",
    "  'chhal',\n",
    "  'milupara',\n",
    "  'bilaspur',\n",
    "  'raipur',\n",
    "  'tumidih',\n",
    "  'kunjemura',\n",
    "  'korba'],\n",
    " 'tripura': [],\n",
    " 'mizoram': ['aizawl'],\n",
    " 'assam': ['silchar',\n",
    "  'nalbari',\n",
    "  'guwahati',\n",
    "  'nagaon',\n",
    "  'sivasagar',\n",
    "  'byrnihat'],\n",
    " 'meghalaya': ['shillong'],\n",
    " 'tamil nadu': ['tiruchirappalli',\n",
    "  'nagapattinam',\n",
    "  'coimbatore',\n",
    "  'vellore',\n",
    "  'ranipet',\n",
    "  'dindigul',\n",
    "  'tirupur',\n",
    "  'ooty',\n",
    "  'kanchipuram',\n",
    "  'tirunelveli',\n",
    "  'chennai',\n",
    "  'gummidipoondi',\n",
    "  'perundurai',\n",
    "  'thanjavur',\n",
    "  'cuddalore',\n",
    "  'karur',\n",
    "  'thoothukudi',\n",
    "  'pudukottai',\n",
    "  'ariyalur',\n",
    "  'salem',\n",
    "  'madurai',\n",
    "  'ramanathapuram',\n",
    "  'virudhunagar',\n",
    "  'hosur',\n",
    "  'palkalaiperur',\n",
    "  'chengalpattu'],\n",
    " 'west bengal': ['kolkata',\n",
    "  'haldia',\n",
    "  'durgapur',\n",
    "  'siliguri',\n",
    "  'asansol',\n",
    "  'howrah',\n",
    "  'barrackpore'],\n",
    " 'uttarakhand': ['kashipur', 'rishikesh', 'dehradun'],\n",
    " 'uttar pradesh': ['agra',\n",
    "  'prayagraj',\n",
    "  'meerut',\n",
    "  'jhansi',\n",
    "  'greater_noida',\n",
    "  'kanpur',\n",
    "  'bulandshahr',\n",
    "  'lucknow',\n",
    "  'firozabad',\n",
    "  'moradabad',\n",
    "  'hapur',\n",
    "  'vrindavan',\n",
    "  'ghaziabad',\n",
    "  'bareilly',\n",
    "  'noida',\n",
    "  'varanasi',\n",
    "  'muzaffarnagar',\n",
    "  'gorakhpur',\n",
    "  'khurja',\n",
    "  'baghpat'],\n",
    " 'puducherry': ['puducherry'],\n",
    " 'bihar': ['rajgir',\n",
    "  'araria',\n",
    "  'bettiah',\n",
    "  'begusarai',\n",
    "  'katihar',\n",
    "  'saharsa',\n",
    "  'samastipur',\n",
    "  'motihari',\n",
    "  'muzaffarpur',\n",
    "  'bhagalpur',\n",
    "  'buxar',\n",
    "  'darbhanga',\n",
    "  'sasaram',\n",
    "  'bihar_sharif',\n",
    "  'purnia',\n",
    "  'manguraha',\n",
    "  'patna',\n",
    "  'arrah',\n",
    "  'hajipur',\n",
    "  'siwan',\n",
    "  'chhapra',\n",
    "  'kishanganj',\n",
    "  'munger',\n",
    "  'gaya'],\n",
    " 'jharkhand': ['dhanbad', 'jorapokhar', 'pathardih'],\n",
    " 'nagaland': ['kohima']}\n",
    "\n",
    "\n",
    "state_list = list(city_dict.keys())\n",
    "c_list = list(city_dict.values())\n",
    "city_list = []\n",
    "for inner_list in c_list:\n",
    "    city_list.extend(inner_list)"
   ]
  },
  {
   "cell_type": "code",
   "execution_count": 8,
   "metadata": {},
   "outputs": [
    {
     "name": "stdout",
     "output_type": "stream",
     "text": [
      "Request Successful. Status code: 200\n",
      "\n",
      "\n"
     ]
    },
    {
     "data": {
      "text/plain": [
       "'puducherry'"
      ]
     },
     "metadata": {},
     "output_type": "display_data"
    },
    {
     "data": {
      "text/plain": [
       "{'arunachal pradesh': 'AR',\n",
       " 'jammu and kashmir': 'JK',\n",
       " 'andhra pradesh': 'AP',\n",
       " 'telangana': 'TS',\n",
       " 'manipur': 'MN',\n",
       " 'madhya pradesh': 'MP',\n",
       " 'haryana': 'HR',\n",
       " 'gujarat': 'GJ',\n",
       " 'sikkim': 'SK',\n",
       " 'himachal pradesh': 'HP',\n",
       " 'delhi': 'DL',\n",
       " 'punjab': 'PB',\n",
       " 'karnataka': 'KA',\n",
       " 'maharashtra': 'MH',\n",
       " 'odisha': 'OD',\n",
       " 'rajasthan': 'RJ',\n",
       " 'chandigarh': 'CH',\n",
       " 'kerala': 'KL',\n",
       " 'chhattisgarh': 'CG',\n",
       " 'tripura': 'TR',\n",
       " 'mizoram': 'MZ',\n",
       " 'assam': 'AS',\n",
       " 'meghalaya': 'ML',\n",
       " 'tamil nadu': 'TN',\n",
       " 'west bengal': 'WB',\n",
       " 'uttarakhand': 'UK',\n",
       " 'uttar pradesh': 'UP',\n",
       " 'puducherry': 'PY',\n",
       " 'bihar': 'BR',\n",
       " 'jharkhand': 'JH',\n",
       " 'nagaland': 'NL'}"
      ]
     },
     "metadata": {},
     "output_type": "display_data"
    }
   ],
   "source": [
    "# Try to access the website\n",
    "url = \"https://en.wikipedia.org/wiki/ISO_3166-2:IN\"\n",
    "states = {key: None for key in state_list}\n",
    "\n",
    "try:\n",
    "    # Checking if the request was successful \n",
    "    page = requests.get(url,timeout=10) # adding a time-out to prevent indefinite hanging\n",
    "    page.raise_for_status() \n",
    "    print(f\"Request Successful. Status code: {page.status_code}\") \n",
    "    print('\\n')\n",
    "    \n",
    "    # Organizing the HTML output\n",
    "    soup = BeautifulSoup(page.content, 'lxml')\n",
    "    table = soup.find_all(\"table\", { 'class': 'wikitable'})\n",
    "    data_list = table[0].find_all(\"tr\")\n",
    "    for ent in data_list[1:]:\n",
    "        row_data= ent.find_all(\"td\")\n",
    "        d1,d2 = row_data[0:2]\n",
    "        d1 = d1.text.replace('\\n',\"\")[3:]\n",
    "        d2 = d2.text.replace('\\n',\"\")\n",
    "        d2 = unidecode(d2).lower()\n",
    "        if d2 in states.keys():\n",
    "            states[d2]=d1\n",
    "        if d2 == 'puducherry (pondicherry)': \n",
    "            d2 = d2[:-14]\n",
    "            display(d2)\n",
    "            states[d2]=d1\n",
    "# Error messages in case the request was not successful \n",
    "except requests.exceptions.Timeout:\n",
    "    print(\"The request timed out. Please check your network or try again later.\")\n",
    "except requests.exceptions.HTTPError as http_err:\n",
    "    print(f\"HTTP error occurred: {http_er}.\")\n",
    "except requests.exceptions.ConnectionError as con_err:\n",
    "    print(f\"A connection error occurred: {con_err}.\")\n",
    "except ValueError as val_err:\n",
    "    print(f\"Value error: {val_err}.\")"
   ]
  },
  {
   "cell_type": "code",
   "execution_count": 9,
   "metadata": {
    "scrolled": true
   },
   "outputs": [
    {
     "data": {
      "text/plain": [
       "1"
      ]
     },
     "metadata": {},
     "output_type": "display_data"
    },
    {
     "data": {
      "text/plain": [
       "'naharlagun'"
      ]
     },
     "metadata": {},
     "output_type": "display_data"
    },
    {
     "data": {
      "text/plain": [
       "2"
      ]
     },
     "metadata": {},
     "output_type": "display_data"
    },
    {
     "data": {
      "text/plain": [
       "'srinagar'"
      ]
     },
     "metadata": {},
     "output_type": "display_data"
    },
    {
     "data": {
      "text/plain": [
       "3"
      ]
     },
     "metadata": {},
     "output_type": "display_data"
    },
    {
     "data": {
      "text/plain": [
       "'chittoor'"
      ]
     },
     "metadata": {},
     "output_type": "display_data"
    },
    {
     "data": {
      "text/plain": [
       "4"
      ]
     },
     "metadata": {},
     "output_type": "display_data"
    },
    {
     "data": {
      "text/plain": [
       "'kadapa'"
      ]
     },
     "metadata": {},
     "output_type": "display_data"
    },
    {
     "data": {
      "text/plain": [
       "5"
      ]
     },
     "metadata": {},
     "output_type": "display_data"
    },
    {
     "data": {
      "text/plain": [
       "'anantapur'"
      ]
     },
     "metadata": {},
     "output_type": "display_data"
    },
    {
     "data": {
      "text/plain": [
       "6"
      ]
     },
     "metadata": {},
     "output_type": "display_data"
    },
    {
     "data": {
      "text/plain": [
       "'visakhapatnam'"
      ]
     },
     "metadata": {},
     "output_type": "display_data"
    },
    {
     "data": {
      "text/plain": [
       "7"
      ]
     },
     "metadata": {},
     "output_type": "display_data"
    },
    {
     "data": {
      "text/plain": [
       "'amaravati'"
      ]
     },
     "metadata": {},
     "output_type": "display_data"
    },
    {
     "data": {
      "text/plain": [
       "8"
      ]
     },
     "metadata": {},
     "output_type": "display_data"
    },
    {
     "data": {
      "text/plain": [
       "'vijayawada'"
      ]
     },
     "metadata": {},
     "output_type": "display_data"
    },
    {
     "data": {
      "text/plain": [
       "9"
      ]
     },
     "metadata": {},
     "output_type": "display_data"
    },
    {
     "data": {
      "text/plain": [
       "'rajamahendravaram'"
      ]
     },
     "metadata": {},
     "output_type": "display_data"
    },
    {
     "data": {
      "text/plain": [
       "10"
      ]
     },
     "metadata": {},
     "output_type": "display_data"
    },
    {
     "data": {
      "text/plain": [
       "'tirupati'"
      ]
     },
     "metadata": {},
     "output_type": "display_data"
    },
    {
     "data": {
      "text/plain": [
       "11"
      ]
     },
     "metadata": {},
     "output_type": "display_data"
    },
    {
     "data": {
      "text/plain": [
       "'hyderabad'"
      ]
     },
     "metadata": {},
     "output_type": "display_data"
    },
    {
     "name": "stdout",
     "output_type": "stream",
     "text": [
      "City hyderabad cannot be found through the api\n"
     ]
    },
    {
     "data": {
      "text/plain": [
       "12"
      ]
     },
     "metadata": {},
     "output_type": "display_data"
    },
    {
     "data": {
      "text/plain": [
       "'imphal'"
      ]
     },
     "metadata": {},
     "output_type": "display_data"
    },
    {
     "data": {
      "text/plain": [
       "13"
      ]
     },
     "metadata": {},
     "output_type": "display_data"
    },
    {
     "data": {
      "text/plain": [
       "'mandideep'"
      ]
     },
     "metadata": {},
     "output_type": "display_data"
    },
    {
     "data": {
      "text/plain": [
       "14"
      ]
     },
     "metadata": {},
     "output_type": "display_data"
    },
    {
     "data": {
      "text/plain": [
       "'satna'"
      ]
     },
     "metadata": {},
     "output_type": "display_data"
    },
    {
     "data": {
      "text/plain": [
       "15"
      ]
     },
     "metadata": {},
     "output_type": "display_data"
    },
    {
     "data": {
      "text/plain": [
       "'bhopal'"
      ]
     },
     "metadata": {},
     "output_type": "display_data"
    },
    {
     "data": {
      "text/plain": [
       "16"
      ]
     },
     "metadata": {},
     "output_type": "display_data"
    },
    {
     "data": {
      "text/plain": [
       "'ratlam'"
      ]
     },
     "metadata": {},
     "output_type": "display_data"
    },
    {
     "data": {
      "text/plain": [
       "17"
      ]
     },
     "metadata": {},
     "output_type": "display_data"
    },
    {
     "data": {
      "text/plain": [
       "'gwalior'"
      ]
     },
     "metadata": {},
     "output_type": "display_data"
    },
    {
     "data": {
      "text/plain": [
       "18"
      ]
     },
     "metadata": {},
     "output_type": "display_data"
    },
    {
     "data": {
      "text/plain": [
       "'katni'"
      ]
     },
     "metadata": {},
     "output_type": "display_data"
    },
    {
     "data": {
      "text/plain": [
       "19"
      ]
     },
     "metadata": {},
     "output_type": "display_data"
    },
    {
     "data": {
      "text/plain": [
       "'maihar'"
      ]
     },
     "metadata": {},
     "output_type": "display_data"
    },
    {
     "data": {
      "text/plain": [
       "20"
      ]
     },
     "metadata": {},
     "output_type": "display_data"
    },
    {
     "data": {
      "text/plain": [
       "'damoh'"
      ]
     },
     "metadata": {},
     "output_type": "display_data"
    },
    {
     "data": {
      "text/plain": [
       "21"
      ]
     },
     "metadata": {},
     "output_type": "display_data"
    },
    {
     "data": {
      "text/plain": [
       "'dewas'"
      ]
     },
     "metadata": {},
     "output_type": "display_data"
    },
    {
     "data": {
      "text/plain": [
       "22"
      ]
     },
     "metadata": {},
     "output_type": "display_data"
    },
    {
     "data": {
      "text/plain": [
       "'jabalpur'"
      ]
     },
     "metadata": {},
     "output_type": "display_data"
    },
    {
     "data": {
      "text/plain": [
       "23"
      ]
     },
     "metadata": {},
     "output_type": "display_data"
    },
    {
     "data": {
      "text/plain": [
       "'ujjain'"
      ]
     },
     "metadata": {},
     "output_type": "display_data"
    },
    {
     "data": {
      "text/plain": [
       "24"
      ]
     },
     "metadata": {},
     "output_type": "display_data"
    },
    {
     "data": {
      "text/plain": [
       "'sagar'"
      ]
     },
     "metadata": {},
     "output_type": "display_data"
    },
    {
     "data": {
      "text/plain": [
       "25"
      ]
     },
     "metadata": {},
     "output_type": "display_data"
    },
    {
     "data": {
      "text/plain": [
       "'singrauli'"
      ]
     },
     "metadata": {},
     "output_type": "display_data"
    },
    {
     "data": {
      "text/plain": [
       "26"
      ]
     },
     "metadata": {},
     "output_type": "display_data"
    },
    {
     "data": {
      "text/plain": [
       "'pithampur'"
      ]
     },
     "metadata": {},
     "output_type": "display_data"
    },
    {
     "data": {
      "text/plain": [
       "27"
      ]
     },
     "metadata": {},
     "output_type": "display_data"
    },
    {
     "data": {
      "text/plain": [
       "'indore'"
      ]
     },
     "metadata": {},
     "output_type": "display_data"
    },
    {
     "data": {
      "text/plain": [
       "28"
      ]
     },
     "metadata": {},
     "output_type": "display_data"
    },
    {
     "data": {
      "text/plain": [
       "'ambala'"
      ]
     },
     "metadata": {},
     "output_type": "display_data"
    },
    {
     "data": {
      "text/plain": [
       "29"
      ]
     },
     "metadata": {},
     "output_type": "display_data"
    },
    {
     "data": {
      "text/plain": [
       "'sirsa'"
      ]
     },
     "metadata": {},
     "output_type": "display_data"
    },
    {
     "data": {
      "text/plain": [
       "30"
      ]
     },
     "metadata": {},
     "output_type": "display_data"
    },
    {
     "data": {
      "text/plain": [
       "'palwal'"
      ]
     },
     "metadata": {},
     "output_type": "display_data"
    },
    {
     "data": {
      "text/plain": [
       "31"
      ]
     },
     "metadata": {},
     "output_type": "display_data"
    },
    {
     "data": {
      "text/plain": [
       "'kurukshetra'"
      ]
     },
     "metadata": {},
     "output_type": "display_data"
    },
    {
     "data": {
      "text/plain": [
       "32"
      ]
     },
     "metadata": {},
     "output_type": "display_data"
    },
    {
     "data": {
      "text/plain": [
       "'ballabgarh'"
      ]
     },
     "metadata": {},
     "output_type": "display_data"
    },
    {
     "data": {
      "text/plain": [
       "33"
      ]
     },
     "metadata": {},
     "output_type": "display_data"
    },
    {
     "data": {
      "text/plain": [
       "'manesar'"
      ]
     },
     "metadata": {},
     "output_type": "display_data"
    },
    {
     "data": {
      "text/plain": [
       "34"
      ]
     },
     "metadata": {},
     "output_type": "display_data"
    },
    {
     "data": {
      "text/plain": [
       "'narnaul'"
      ]
     },
     "metadata": {},
     "output_type": "display_data"
    },
    {
     "data": {
      "text/plain": [
       "35"
      ]
     },
     "metadata": {},
     "output_type": "display_data"
    },
    {
     "data": {
      "text/plain": [
       "'gurugram'"
      ]
     },
     "metadata": {},
     "output_type": "display_data"
    },
    {
     "data": {
      "text/plain": [
       "36"
      ]
     },
     "metadata": {},
     "output_type": "display_data"
    },
    {
     "data": {
      "text/plain": [
       "'karnal'"
      ]
     },
     "metadata": {},
     "output_type": "display_data"
    },
    {
     "data": {
      "text/plain": [
       "37"
      ]
     },
     "metadata": {},
     "output_type": "display_data"
    },
    {
     "data": {
      "text/plain": [
       "'bahadurgarh'"
      ]
     },
     "metadata": {},
     "output_type": "display_data"
    },
    {
     "data": {
      "text/plain": [
       "38"
      ]
     },
     "metadata": {},
     "output_type": "display_data"
    },
    {
     "data": {
      "text/plain": [
       "'rohtak'"
      ]
     },
     "metadata": {},
     "output_type": "display_data"
    },
    {
     "data": {
      "text/plain": [
       "39"
      ]
     },
     "metadata": {},
     "output_type": "display_data"
    },
    {
     "data": {
      "text/plain": [
       "'kaithal'"
      ]
     },
     "metadata": {},
     "output_type": "display_data"
    },
    {
     "data": {
      "text/plain": [
       "40"
      ]
     },
     "metadata": {},
     "output_type": "display_data"
    },
    {
     "data": {
      "text/plain": [
       "'sonipat'"
      ]
     },
     "metadata": {},
     "output_type": "display_data"
    },
    {
     "data": {
      "text/plain": [
       "41"
      ]
     },
     "metadata": {},
     "output_type": "display_data"
    },
    {
     "data": {
      "text/plain": [
       "'mandikhera'"
      ]
     },
     "metadata": {},
     "output_type": "display_data"
    },
    {
     "name": "stdout",
     "output_type": "stream",
     "text": [
      "City mandikhera cannot be found through the api\n"
     ]
    },
    {
     "data": {
      "text/plain": [
       "42"
      ]
     },
     "metadata": {},
     "output_type": "display_data"
    },
    {
     "data": {
      "text/plain": [
       "'faridabad'"
      ]
     },
     "metadata": {},
     "output_type": "display_data"
    },
    {
     "data": {
      "text/plain": [
       "43"
      ]
     },
     "metadata": {},
     "output_type": "display_data"
    },
    {
     "data": {
      "text/plain": [
       "'hisar'"
      ]
     },
     "metadata": {},
     "output_type": "display_data"
    },
    {
     "data": {
      "text/plain": [
       "44"
      ]
     },
     "metadata": {},
     "output_type": "display_data"
    },
    {
     "data": {
      "text/plain": [
       "'yamunanagar'"
      ]
     },
     "metadata": {},
     "output_type": "display_data"
    },
    {
     "data": {
      "text/plain": [
       "45"
      ]
     },
     "metadata": {},
     "output_type": "display_data"
    },
    {
     "data": {
      "text/plain": [
       "'charkhi_dadri'"
      ]
     },
     "metadata": {},
     "output_type": "display_data"
    },
    {
     "data": {
      "text/plain": [
       "46"
      ]
     },
     "metadata": {},
     "output_type": "display_data"
    },
    {
     "data": {
      "text/plain": [
       "'jind'"
      ]
     },
     "metadata": {},
     "output_type": "display_data"
    },
    {
     "data": {
      "text/plain": [
       "47"
      ]
     },
     "metadata": {},
     "output_type": "display_data"
    },
    {
     "data": {
      "text/plain": [
       "'panipat'"
      ]
     },
     "metadata": {},
     "output_type": "display_data"
    },
    {
     "data": {
      "text/plain": [
       "48"
      ]
     },
     "metadata": {},
     "output_type": "display_data"
    },
    {
     "data": {
      "text/plain": [
       "'bhiwani'"
      ]
     },
     "metadata": {},
     "output_type": "display_data"
    },
    {
     "data": {
      "text/plain": [
       "49"
      ]
     },
     "metadata": {},
     "output_type": "display_data"
    },
    {
     "data": {
      "text/plain": [
       "'panchkula'"
      ]
     },
     "metadata": {},
     "output_type": "display_data"
    },
    {
     "data": {
      "text/plain": [
       "50"
      ]
     },
     "metadata": {},
     "output_type": "display_data"
    },
    {
     "data": {
      "text/plain": [
       "'fatehabad'"
      ]
     },
     "metadata": {},
     "output_type": "display_data"
    },
    {
     "data": {
      "text/plain": [
       "51"
      ]
     },
     "metadata": {},
     "output_type": "display_data"
    },
    {
     "data": {
      "text/plain": [
       "'dharuhera'"
      ]
     },
     "metadata": {},
     "output_type": "display_data"
    },
    {
     "data": {
      "text/plain": [
       "52"
      ]
     },
     "metadata": {},
     "output_type": "display_data"
    },
    {
     "data": {
      "text/plain": [
       "'ankleshwar'"
      ]
     },
     "metadata": {},
     "output_type": "display_data"
    },
    {
     "data": {
      "text/plain": [
       "53"
      ]
     },
     "metadata": {},
     "output_type": "display_data"
    },
    {
     "data": {
      "text/plain": [
       "'gandhinagar'"
      ]
     },
     "metadata": {},
     "output_type": "display_data"
    },
    {
     "data": {
      "text/plain": [
       "54"
      ]
     },
     "metadata": {},
     "output_type": "display_data"
    },
    {
     "data": {
      "text/plain": [
       "'surat'"
      ]
     },
     "metadata": {},
     "output_type": "display_data"
    },
    {
     "data": {
      "text/plain": [
       "55"
      ]
     },
     "metadata": {},
     "output_type": "display_data"
    },
    {
     "data": {
      "text/plain": [
       "'vapi'"
      ]
     },
     "metadata": {},
     "output_type": "display_data"
    },
    {
     "data": {
      "text/plain": [
       "56"
      ]
     },
     "metadata": {},
     "output_type": "display_data"
    },
    {
     "data": {
      "text/plain": [
       "'vatva'"
      ]
     },
     "metadata": {},
     "output_type": "display_data"
    },
    {
     "name": "stdout",
     "output_type": "stream",
     "text": [
      "City vatva cannot be found through the api\n"
     ]
    },
    {
     "data": {
      "text/plain": [
       "57"
      ]
     },
     "metadata": {},
     "output_type": "display_data"
    },
    {
     "data": {
      "text/plain": [
       "'ahmedabad'"
      ]
     },
     "metadata": {},
     "output_type": "display_data"
    },
    {
     "data": {
      "text/plain": [
       "58"
      ]
     },
     "metadata": {},
     "output_type": "display_data"
    },
    {
     "data": {
      "text/plain": [
       "'nandesari'"
      ]
     },
     "metadata": {},
     "output_type": "display_data"
    },
    {
     "name": "stdout",
     "output_type": "stream",
     "text": [
      "City nandesari cannot be found through the api\n"
     ]
    },
    {
     "data": {
      "text/plain": [
       "59"
      ]
     },
     "metadata": {},
     "output_type": "display_data"
    },
    {
     "data": {
      "text/plain": [
       "'gangtok'"
      ]
     },
     "metadata": {},
     "output_type": "display_data"
    },
    {
     "data": {
      "text/plain": [
       "60"
      ]
     },
     "metadata": {},
     "output_type": "display_data"
    },
    {
     "data": {
      "text/plain": [
       "'baddi'"
      ]
     },
     "metadata": {},
     "output_type": "display_data"
    },
    {
     "data": {
      "text/plain": [
       "61"
      ]
     },
     "metadata": {},
     "output_type": "display_data"
    },
    {
     "data": {
      "text/plain": [
       "'delhi'"
      ]
     },
     "metadata": {},
     "output_type": "display_data"
    },
    {
     "data": {
      "text/plain": [
       "62"
      ]
     },
     "metadata": {},
     "output_type": "display_data"
    },
    {
     "data": {
      "text/plain": [
       "'ludhiana'"
      ]
     },
     "metadata": {},
     "output_type": "display_data"
    },
    {
     "data": {
      "text/plain": [
       "63"
      ]
     },
     "metadata": {},
     "output_type": "display_data"
    },
    {
     "data": {
      "text/plain": [
       "'bathinda'"
      ]
     },
     "metadata": {},
     "output_type": "display_data"
    },
    {
     "data": {
      "text/plain": [
       "64"
      ]
     },
     "metadata": {},
     "output_type": "display_data"
    },
    {
     "data": {
      "text/plain": [
       "'mandi_gobindgarh'"
      ]
     },
     "metadata": {},
     "output_type": "display_data"
    },
    {
     "data": {
      "text/plain": [
       "65"
      ]
     },
     "metadata": {},
     "output_type": "display_data"
    },
    {
     "data": {
      "text/plain": [
       "'khanna'"
      ]
     },
     "metadata": {},
     "output_type": "display_data"
    },
    {
     "data": {
      "text/plain": [
       "66"
      ]
     },
     "metadata": {},
     "output_type": "display_data"
    },
    {
     "data": {
      "text/plain": [
       "'rupnagar'"
      ]
     },
     "metadata": {},
     "output_type": "display_data"
    },
    {
     "data": {
      "text/plain": [
       "67"
      ]
     },
     "metadata": {},
     "output_type": "display_data"
    },
    {
     "data": {
      "text/plain": [
       "'jalandhar'"
      ]
     },
     "metadata": {},
     "output_type": "display_data"
    },
    {
     "data": {
      "text/plain": [
       "68"
      ]
     },
     "metadata": {},
     "output_type": "display_data"
    },
    {
     "data": {
      "text/plain": [
       "'amritsar'"
      ]
     },
     "metadata": {},
     "output_type": "display_data"
    },
    {
     "data": {
      "text/plain": [
       "69"
      ]
     },
     "metadata": {},
     "output_type": "display_data"
    },
    {
     "data": {
      "text/plain": [
       "'patiala'"
      ]
     },
     "metadata": {},
     "output_type": "display_data"
    },
    {
     "data": {
      "text/plain": [
       "70"
      ]
     },
     "metadata": {},
     "output_type": "display_data"
    },
    {
     "data": {
      "text/plain": [
       "'mysuru'"
      ]
     },
     "metadata": {},
     "output_type": "display_data"
    },
    {
     "data": {
      "text/plain": [
       "71"
      ]
     },
     "metadata": {},
     "output_type": "display_data"
    },
    {
     "data": {
      "text/plain": [
       "'yadgir'"
      ]
     },
     "metadata": {},
     "output_type": "display_data"
    },
    {
     "name": "stdout",
     "output_type": "stream",
     "text": [
      "City yadgir cannot be found through the api\n"
     ]
    },
    {
     "data": {
      "text/plain": [
       "72"
      ]
     },
     "metadata": {},
     "output_type": "display_data"
    },
    {
     "data": {
      "text/plain": [
       "'kolar'"
      ]
     },
     "metadata": {},
     "output_type": "display_data"
    },
    {
     "data": {
      "text/plain": [
       "73"
      ]
     },
     "metadata": {},
     "output_type": "display_data"
    },
    {
     "data": {
      "text/plain": [
       "'koppal'"
      ]
     },
     "metadata": {},
     "output_type": "display_data"
    },
    {
     "data": {
      "text/plain": [
       "74"
      ]
     },
     "metadata": {},
     "output_type": "display_data"
    },
    {
     "data": {
      "text/plain": [
       "'bidar'"
      ]
     },
     "metadata": {},
     "output_type": "display_data"
    },
    {
     "data": {
      "text/plain": [
       "75"
      ]
     },
     "metadata": {},
     "output_type": "display_data"
    },
    {
     "data": {
      "text/plain": [
       "'vijayapura'"
      ]
     },
     "metadata": {},
     "output_type": "display_data"
    },
    {
     "data": {
      "text/plain": [
       "76"
      ]
     },
     "metadata": {},
     "output_type": "display_data"
    },
    {
     "data": {
      "text/plain": [
       "'gadag'"
      ]
     },
     "metadata": {},
     "output_type": "display_data"
    },
    {
     "data": {
      "text/plain": [
       "77"
      ]
     },
     "metadata": {},
     "output_type": "display_data"
    },
    {
     "data": {
      "text/plain": [
       "'mangalore'"
      ]
     },
     "metadata": {},
     "output_type": "display_data"
    },
    {
     "data": {
      "text/plain": [
       "78"
      ]
     },
     "metadata": {},
     "output_type": "display_data"
    },
    {
     "data": {
      "text/plain": [
       "'kalaburagi'"
      ]
     },
     "metadata": {},
     "output_type": "display_data"
    },
    {
     "data": {
      "text/plain": [
       "79"
      ]
     },
     "metadata": {},
     "output_type": "display_data"
    },
    {
     "data": {
      "text/plain": [
       "'hubballi'"
      ]
     },
     "metadata": {},
     "output_type": "display_data"
    },
    {
     "data": {
      "text/plain": [
       "80"
      ]
     },
     "metadata": {},
     "output_type": "display_data"
    },
    {
     "data": {
      "text/plain": [
       "'udupi'"
      ]
     },
     "metadata": {},
     "output_type": "display_data"
    },
    {
     "data": {
      "text/plain": [
       "81"
      ]
     },
     "metadata": {},
     "output_type": "display_data"
    },
    {
     "data": {
      "text/plain": [
       "'belgaum'"
      ]
     },
     "metadata": {},
     "output_type": "display_data"
    },
    {
     "data": {
      "text/plain": [
       "82"
      ]
     },
     "metadata": {},
     "output_type": "display_data"
    },
    {
     "data": {
      "text/plain": [
       "'madikeri'"
      ]
     },
     "metadata": {},
     "output_type": "display_data"
    },
    {
     "data": {
      "text/plain": [
       "83"
      ]
     },
     "metadata": {},
     "output_type": "display_data"
    },
    {
     "data": {
      "text/plain": [
       "'haveri'"
      ]
     },
     "metadata": {},
     "output_type": "display_data"
    },
    {
     "data": {
      "text/plain": [
       "84"
      ]
     },
     "metadata": {},
     "output_type": "display_data"
    },
    {
     "data": {
      "text/plain": [
       "'tumakuru'"
      ]
     },
     "metadata": {},
     "output_type": "display_data"
    },
    {
     "data": {
      "text/plain": [
       "85"
      ]
     },
     "metadata": {},
     "output_type": "display_data"
    },
    {
     "data": {
      "text/plain": [
       "'bengaluru'"
      ]
     },
     "metadata": {},
     "output_type": "display_data"
    },
    {
     "data": {
      "text/plain": [
       "86"
      ]
     },
     "metadata": {},
     "output_type": "display_data"
    },
    {
     "data": {
      "text/plain": [
       "'dharwad'"
      ]
     },
     "metadata": {},
     "output_type": "display_data"
    },
    {
     "data": {
      "text/plain": [
       "87"
      ]
     },
     "metadata": {},
     "output_type": "display_data"
    },
    {
     "data": {
      "text/plain": [
       "'hassan'"
      ]
     },
     "metadata": {},
     "output_type": "display_data"
    },
    {
     "data": {
      "text/plain": [
       "88"
      ]
     },
     "metadata": {},
     "output_type": "display_data"
    },
    {
     "data": {
      "text/plain": [
       "'shivamogga'"
      ]
     },
     "metadata": {},
     "output_type": "display_data"
    },
    {
     "data": {
      "text/plain": [
       "89"
      ]
     },
     "metadata": {},
     "output_type": "display_data"
    },
    {
     "data": {
      "text/plain": [
       "'chikkamagaluru'"
      ]
     },
     "metadata": {},
     "output_type": "display_data"
    },
    {
     "data": {
      "text/plain": [
       "90"
      ]
     },
     "metadata": {},
     "output_type": "display_data"
    },
    {
     "data": {
      "text/plain": [
       "'chamarajanagar'"
      ]
     },
     "metadata": {},
     "output_type": "display_data"
    },
    {
     "name": "stdout",
     "output_type": "stream",
     "text": [
      "City chamarajanagar cannot be found through the api\n"
     ]
    },
    {
     "data": {
      "text/plain": [
       "91"
      ]
     },
     "metadata": {},
     "output_type": "display_data"
    },
    {
     "data": {
      "text/plain": [
       "'chikkaballapur'"
      ]
     },
     "metadata": {},
     "output_type": "display_data"
    },
    {
     "name": "stdout",
     "output_type": "stream",
     "text": [
      "City chikkaballapur cannot be found through the api\n"
     ]
    },
    {
     "data": {
      "text/plain": [
       "92"
      ]
     },
     "metadata": {},
     "output_type": "display_data"
    },
    {
     "data": {
      "text/plain": [
       "'bagalkot'"
      ]
     },
     "metadata": {},
     "output_type": "display_data"
    },
    {
     "data": {
      "text/plain": [
       "93"
      ]
     },
     "metadata": {},
     "output_type": "display_data"
    },
    {
     "data": {
      "text/plain": [
       "'davanagere'"
      ]
     },
     "metadata": {},
     "output_type": "display_data"
    },
    {
     "data": {
      "text/plain": [
       "94"
      ]
     },
     "metadata": {},
     "output_type": "display_data"
    },
    {
     "data": {
      "text/plain": [
       "'ramanagara'"
      ]
     },
     "metadata": {},
     "output_type": "display_data"
    },
    {
     "data": {
      "text/plain": [
       "95"
      ]
     },
     "metadata": {},
     "output_type": "display_data"
    },
    {
     "data": {
      "text/plain": [
       "'raichur'"
      ]
     },
     "metadata": {},
     "output_type": "display_data"
    },
    {
     "data": {
      "text/plain": [
       "96"
      ]
     },
     "metadata": {},
     "output_type": "display_data"
    },
    {
     "data": {
      "text/plain": [
       "'karwar'"
      ]
     },
     "metadata": {},
     "output_type": "display_data"
    },
    {
     "data": {
      "text/plain": [
       "97"
      ]
     },
     "metadata": {},
     "output_type": "display_data"
    },
    {
     "data": {
      "text/plain": [
       "'latur'"
      ]
     },
     "metadata": {},
     "output_type": "display_data"
    },
    {
     "data": {
      "text/plain": [
       "98"
      ]
     },
     "metadata": {},
     "output_type": "display_data"
    },
    {
     "data": {
      "text/plain": [
       "'kalyan'"
      ]
     },
     "metadata": {},
     "output_type": "display_data"
    },
    {
     "data": {
      "text/plain": [
       "99"
      ]
     },
     "metadata": {},
     "output_type": "display_data"
    },
    {
     "data": {
      "text/plain": [
       "'sangli'"
      ]
     },
     "metadata": {},
     "output_type": "display_data"
    },
    {
     "data": {
      "text/plain": [
       "100"
      ]
     },
     "metadata": {},
     "output_type": "display_data"
    },
    {
     "data": {
      "text/plain": [
       "'dhule'"
      ]
     },
     "metadata": {},
     "output_type": "display_data"
    },
    {
     "data": {
      "text/plain": [
       "101"
      ]
     },
     "metadata": {},
     "output_type": "display_data"
    },
    {
     "data": {
      "text/plain": [
       "'bhiwandi'"
      ]
     },
     "metadata": {},
     "output_type": "display_data"
    },
    {
     "data": {
      "text/plain": [
       "102"
      ]
     },
     "metadata": {},
     "output_type": "display_data"
    },
    {
     "data": {
      "text/plain": [
       "'virar'"
      ]
     },
     "metadata": {},
     "output_type": "display_data"
    },
    {
     "data": {
      "text/plain": [
       "103"
      ]
     },
     "metadata": {},
     "output_type": "display_data"
    },
    {
     "data": {
      "text/plain": [
       "'kolhapur'"
      ]
     },
     "metadata": {},
     "output_type": "display_data"
    },
    {
     "data": {
      "text/plain": [
       "104"
      ]
     },
     "metadata": {},
     "output_type": "display_data"
    },
    {
     "data": {
      "text/plain": [
       "'nagpur'"
      ]
     },
     "metadata": {},
     "output_type": "display_data"
    },
    {
     "data": {
      "text/plain": [
       "105"
      ]
     },
     "metadata": {},
     "output_type": "display_data"
    },
    {
     "data": {
      "text/plain": [
       "'chandrapur'"
      ]
     },
     "metadata": {},
     "output_type": "display_data"
    },
    {
     "data": {
      "text/plain": [
       "106"
      ]
     },
     "metadata": {},
     "output_type": "display_data"
    },
    {
     "data": {
      "text/plain": [
       "'pune'"
      ]
     },
     "metadata": {},
     "output_type": "display_data"
    },
    {
     "data": {
      "text/plain": [
       "107"
      ]
     },
     "metadata": {},
     "output_type": "display_data"
    },
    {
     "data": {
      "text/plain": [
       "'jalgaon'"
      ]
     },
     "metadata": {},
     "output_type": "display_data"
    },
    {
     "data": {
      "text/plain": [
       "108"
      ]
     },
     "metadata": {},
     "output_type": "display_data"
    },
    {
     "data": {
      "text/plain": [
       "'solapur'"
      ]
     },
     "metadata": {},
     "output_type": "display_data"
    },
    {
     "data": {
      "text/plain": [
       "109"
      ]
     },
     "metadata": {},
     "output_type": "display_data"
    },
    {
     "data": {
      "text/plain": [
       "'ulhasnagar'"
      ]
     },
     "metadata": {},
     "output_type": "display_data"
    },
    {
     "data": {
      "text/plain": [
       "110"
      ]
     },
     "metadata": {},
     "output_type": "display_data"
    },
    {
     "data": {
      "text/plain": [
       "'amravati'"
      ]
     },
     "metadata": {},
     "output_type": "display_data"
    },
    {
     "data": {
      "text/plain": [
       "111"
      ]
     },
     "metadata": {},
     "output_type": "display_data"
    },
    {
     "data": {
      "text/plain": [
       "'parbhani'"
      ]
     },
     "metadata": {},
     "output_type": "display_data"
    },
    {
     "data": {
      "text/plain": [
       "112"
      ]
     },
     "metadata": {},
     "output_type": "display_data"
    },
    {
     "data": {
      "text/plain": [
       "'badlapur'"
      ]
     },
     "metadata": {},
     "output_type": "display_data"
    },
    {
     "data": {
      "text/plain": [
       "113"
      ]
     },
     "metadata": {},
     "output_type": "display_data"
    },
    {
     "data": {
      "text/plain": [
       "'akola'"
      ]
     },
     "metadata": {},
     "output_type": "display_data"
    },
    {
     "data": {
      "text/plain": [
       "114"
      ]
     },
     "metadata": {},
     "output_type": "display_data"
    },
    {
     "data": {
      "text/plain": [
       "'boisar'"
      ]
     },
     "metadata": {},
     "output_type": "display_data"
    },
    {
     "data": {
      "text/plain": [
       "115"
      ]
     },
     "metadata": {},
     "output_type": "display_data"
    },
    {
     "data": {
      "text/plain": [
       "'mumbai'"
      ]
     },
     "metadata": {},
     "output_type": "display_data"
    },
    {
     "data": {
      "text/plain": [
       "116"
      ]
     },
     "metadata": {},
     "output_type": "display_data"
    },
    {
     "data": {
      "text/plain": [
       "'jalna'"
      ]
     },
     "metadata": {},
     "output_type": "display_data"
    },
    {
     "data": {
      "text/plain": [
       "117"
      ]
     },
     "metadata": {},
     "output_type": "display_data"
    },
    {
     "data": {
      "text/plain": [
       "'nashik'"
      ]
     },
     "metadata": {},
     "output_type": "display_data"
    },
    {
     "data": {
      "text/plain": [
       "118"
      ]
     },
     "metadata": {},
     "output_type": "display_data"
    },
    {
     "data": {
      "text/plain": [
       "'belapur'"
      ]
     },
     "metadata": {},
     "output_type": "display_data"
    },
    {
     "data": {
      "text/plain": [
       "119"
      ]
     },
     "metadata": {},
     "output_type": "display_data"
    },
    {
     "data": {
      "text/plain": [
       "'malegaon'"
      ]
     },
     "metadata": {},
     "output_type": "display_data"
    },
    {
     "data": {
      "text/plain": [
       "120"
      ]
     },
     "metadata": {},
     "output_type": "display_data"
    },
    {
     "data": {
      "text/plain": [
       "'thane'"
      ]
     },
     "metadata": {},
     "output_type": "display_data"
    },
    {
     "data": {
      "text/plain": [
       "121"
      ]
     },
     "metadata": {},
     "output_type": "display_data"
    },
    {
     "data": {
      "text/plain": [
       "'navi_mumbai'"
      ]
     },
     "metadata": {},
     "output_type": "display_data"
    },
    {
     "data": {
      "text/plain": [
       "122"
      ]
     },
     "metadata": {},
     "output_type": "display_data"
    },
    {
     "data": {
      "text/plain": [
       "'mahad'"
      ]
     },
     "metadata": {},
     "output_type": "display_data"
    },
    {
     "data": {
      "text/plain": [
       "123"
      ]
     },
     "metadata": {},
     "output_type": "display_data"
    },
    {
     "data": {
      "text/plain": [
       "'nanded'"
      ]
     },
     "metadata": {},
     "output_type": "display_data"
    },
    {
     "data": {
      "text/plain": [
       "124"
      ]
     },
     "metadata": {},
     "output_type": "display_data"
    },
    {
     "data": {
      "text/plain": [
       "'baripada'"
      ]
     },
     "metadata": {},
     "output_type": "display_data"
    },
    {
     "name": "stdout",
     "output_type": "stream",
     "text": [
      "City baripada cannot be found through the api\n"
     ]
    },
    {
     "data": {
      "text/plain": [
       "125"
      ]
     },
     "metadata": {},
     "output_type": "display_data"
    },
    {
     "data": {
      "text/plain": [
       "'bileipada'"
      ]
     },
     "metadata": {},
     "output_type": "display_data"
    },
    {
     "name": "stdout",
     "output_type": "stream",
     "text": [
      "City bileipada cannot be found through the api\n"
     ]
    },
    {
     "data": {
      "text/plain": [
       "126"
      ]
     },
     "metadata": {},
     "output_type": "display_data"
    },
    {
     "data": {
      "text/plain": [
       "'angul'"
      ]
     },
     "metadata": {},
     "output_type": "display_data"
    },
    {
     "name": "stdout",
     "output_type": "stream",
     "text": [
      "City angul cannot be found through the api\n"
     ]
    },
    {
     "data": {
      "text/plain": [
       "127"
      ]
     },
     "metadata": {},
     "output_type": "display_data"
    },
    {
     "data": {
      "text/plain": [
       "'tensa'"
      ]
     },
     "metadata": {},
     "output_type": "display_data"
    },
    {
     "name": "stdout",
     "output_type": "stream",
     "text": [
      "City tensa cannot be found through the api\n"
     ]
    },
    {
     "data": {
      "text/plain": [
       "128"
      ]
     },
     "metadata": {},
     "output_type": "display_data"
    },
    {
     "data": {
      "text/plain": [
       "'cuttack'"
      ]
     },
     "metadata": {},
     "output_type": "display_data"
    },
    {
     "name": "stdout",
     "output_type": "stream",
     "text": [
      "City cuttack cannot be found through the api\n"
     ]
    },
    {
     "data": {
      "text/plain": [
       "129"
      ]
     },
     "metadata": {},
     "output_type": "display_data"
    },
    {
     "data": {
      "text/plain": [
       "'balasore'"
      ]
     },
     "metadata": {},
     "output_type": "display_data"
    },
    {
     "name": "stdout",
     "output_type": "stream",
     "text": [
      "City balasore cannot be found through the api\n"
     ]
    },
    {
     "data": {
      "text/plain": [
       "130"
      ]
     },
     "metadata": {},
     "output_type": "display_data"
    },
    {
     "data": {
      "text/plain": [
       "'keonjhar'"
      ]
     },
     "metadata": {},
     "output_type": "display_data"
    },
    {
     "name": "stdout",
     "output_type": "stream",
     "text": [
      "City keonjhar cannot be found through the api\n"
     ]
    },
    {
     "data": {
      "text/plain": [
       "131"
      ]
     },
     "metadata": {},
     "output_type": "display_data"
    },
    {
     "data": {
      "text/plain": [
       "'rairangpur'"
      ]
     },
     "metadata": {},
     "output_type": "display_data"
    },
    {
     "name": "stdout",
     "output_type": "stream",
     "text": [
      "City rairangpur cannot be found through the api\n"
     ]
    },
    {
     "data": {
      "text/plain": [
       "132"
      ]
     },
     "metadata": {},
     "output_type": "display_data"
    },
    {
     "data": {
      "text/plain": [
       "'talcher'"
      ]
     },
     "metadata": {},
     "output_type": "display_data"
    },
    {
     "name": "stdout",
     "output_type": "stream",
     "text": [
      "City talcher cannot be found through the api\n"
     ]
    },
    {
     "data": {
      "text/plain": [
       "133"
      ]
     },
     "metadata": {},
     "output_type": "display_data"
    },
    {
     "data": {
      "text/plain": [
       "'byasanagar'"
      ]
     },
     "metadata": {},
     "output_type": "display_data"
    },
    {
     "name": "stdout",
     "output_type": "stream",
     "text": [
      "City byasanagar cannot be found through the api\n"
     ]
    },
    {
     "data": {
      "text/plain": [
       "134"
      ]
     },
     "metadata": {},
     "output_type": "display_data"
    },
    {
     "data": {
      "text/plain": [
       "'suakati'"
      ]
     },
     "metadata": {},
     "output_type": "display_data"
    },
    {
     "name": "stdout",
     "output_type": "stream",
     "text": [
      "City suakati cannot be found through the api\n"
     ]
    },
    {
     "data": {
      "text/plain": [
       "135"
      ]
     },
     "metadata": {},
     "output_type": "display_data"
    },
    {
     "data": {
      "text/plain": [
       "'rourkela'"
      ]
     },
     "metadata": {},
     "output_type": "display_data"
    },
    {
     "name": "stdout",
     "output_type": "stream",
     "text": [
      "City rourkela cannot be found through the api\n"
     ]
    },
    {
     "data": {
      "text/plain": [
       "136"
      ]
     },
     "metadata": {},
     "output_type": "display_data"
    },
    {
     "data": {
      "text/plain": [
       "'nayagarh'"
      ]
     },
     "metadata": {},
     "output_type": "display_data"
    },
    {
     "name": "stdout",
     "output_type": "stream",
     "text": [
      "City nayagarh cannot be found through the api\n"
     ]
    },
    {
     "data": {
      "text/plain": [
       "137"
      ]
     },
     "metadata": {},
     "output_type": "display_data"
    },
    {
     "data": {
      "text/plain": [
       "'barbil'"
      ]
     },
     "metadata": {},
     "output_type": "display_data"
    },
    {
     "name": "stdout",
     "output_type": "stream",
     "text": [
      "City barbil cannot be found through the api\n"
     ]
    },
    {
     "data": {
      "text/plain": [
       "138"
      ]
     },
     "metadata": {},
     "output_type": "display_data"
    },
    {
     "data": {
      "text/plain": [
       "'brajrajnagar'"
      ]
     },
     "metadata": {},
     "output_type": "display_data"
    },
    {
     "name": "stdout",
     "output_type": "stream",
     "text": [
      "City brajrajnagar cannot be found through the api\n"
     ]
    },
    {
     "data": {
      "text/plain": [
       "139"
      ]
     },
     "metadata": {},
     "output_type": "display_data"
    },
    {
     "data": {
      "text/plain": [
       "'sirohi'"
      ]
     },
     "metadata": {},
     "output_type": "display_data"
    },
    {
     "data": {
      "text/plain": [
       "140"
      ]
     },
     "metadata": {},
     "output_type": "display_data"
    },
    {
     "data": {
      "text/plain": [
       "'baran'"
      ]
     },
     "metadata": {},
     "output_type": "display_data"
    },
    {
     "data": {
      "text/plain": [
       "141"
      ]
     },
     "metadata": {},
     "output_type": "display_data"
    },
    {
     "data": {
      "text/plain": [
       "'banswara'"
      ]
     },
     "metadata": {},
     "output_type": "display_data"
    },
    {
     "data": {
      "text/plain": [
       "142"
      ]
     },
     "metadata": {},
     "output_type": "display_data"
    },
    {
     "data": {
      "text/plain": [
       "'hanumangarh'"
      ]
     },
     "metadata": {},
     "output_type": "display_data"
    },
    {
     "data": {
      "text/plain": [
       "143"
      ]
     },
     "metadata": {},
     "output_type": "display_data"
    },
    {
     "data": {
      "text/plain": [
       "'bharatpur'"
      ]
     },
     "metadata": {},
     "output_type": "display_data"
    },
    {
     "data": {
      "text/plain": [
       "144"
      ]
     },
     "metadata": {},
     "output_type": "display_data"
    },
    {
     "data": {
      "text/plain": [
       "'bikaner'"
      ]
     },
     "metadata": {},
     "output_type": "display_data"
    },
    {
     "data": {
      "text/plain": [
       "145"
      ]
     },
     "metadata": {},
     "output_type": "display_data"
    },
    {
     "data": {
      "text/plain": [
       "'jalore'"
      ]
     },
     "metadata": {},
     "output_type": "display_data"
    },
    {
     "data": {
      "text/plain": [
       "146"
      ]
     },
     "metadata": {},
     "output_type": "display_data"
    },
    {
     "data": {
      "text/plain": [
       "'bhiwadi'"
      ]
     },
     "metadata": {},
     "output_type": "display_data"
    },
    {
     "data": {
      "text/plain": [
       "147"
      ]
     },
     "metadata": {},
     "output_type": "display_data"
    },
    {
     "data": {
      "text/plain": [
       "'sikar'"
      ]
     },
     "metadata": {},
     "output_type": "display_data"
    },
    {
     "data": {
      "text/plain": [
       "148"
      ]
     },
     "metadata": {},
     "output_type": "display_data"
    },
    {
     "data": {
      "text/plain": [
       "'karauli'"
      ]
     },
     "metadata": {},
     "output_type": "display_data"
    },
    {
     "data": {
      "text/plain": [
       "149"
      ]
     },
     "metadata": {},
     "output_type": "display_data"
    },
    {
     "data": {
      "text/plain": [
       "'bhilwara'"
      ]
     },
     "metadata": {},
     "output_type": "display_data"
    },
    {
     "data": {
      "text/plain": [
       "150"
      ]
     },
     "metadata": {},
     "output_type": "display_data"
    },
    {
     "data": {
      "text/plain": [
       "'alwar'"
      ]
     },
     "metadata": {},
     "output_type": "display_data"
    },
    {
     "data": {
      "text/plain": [
       "151"
      ]
     },
     "metadata": {},
     "output_type": "display_data"
    },
    {
     "data": {
      "text/plain": [
       "'bundi'"
      ]
     },
     "metadata": {},
     "output_type": "display_data"
    },
    {
     "data": {
      "text/plain": [
       "152"
      ]
     },
     "metadata": {},
     "output_type": "display_data"
    },
    {
     "data": {
      "text/plain": [
       "'dausa'"
      ]
     },
     "metadata": {},
     "output_type": "display_data"
    },
    {
     "data": {
      "text/plain": [
       "153"
      ]
     },
     "metadata": {},
     "output_type": "display_data"
    },
    {
     "data": {
      "text/plain": [
       "'chittorgarh'"
      ]
     },
     "metadata": {},
     "output_type": "display_data"
    },
    {
     "data": {
      "text/plain": [
       "154"
      ]
     },
     "metadata": {},
     "output_type": "display_data"
    },
    {
     "data": {
      "text/plain": [
       "'barmer'"
      ]
     },
     "metadata": {},
     "output_type": "display_data"
    },
    {
     "data": {
      "text/plain": [
       "155"
      ]
     },
     "metadata": {},
     "output_type": "display_data"
    },
    {
     "data": {
      "text/plain": [
       "'jaipur'"
      ]
     },
     "metadata": {},
     "output_type": "display_data"
    },
    {
     "data": {
      "text/plain": [
       "156"
      ]
     },
     "metadata": {},
     "output_type": "display_data"
    },
    {
     "data": {
      "text/plain": [
       "'jaisalmer'"
      ]
     },
     "metadata": {},
     "output_type": "display_data"
    },
    {
     "data": {
      "text/plain": [
       "157"
      ]
     },
     "metadata": {},
     "output_type": "display_data"
    },
    {
     "data": {
      "text/plain": [
       "'pratapgarh'"
      ]
     },
     "metadata": {},
     "output_type": "display_data"
    },
    {
     "data": {
      "text/plain": [
       "158"
      ]
     },
     "metadata": {},
     "output_type": "display_data"
    },
    {
     "data": {
      "text/plain": [
       "'sawai_madhopur'"
      ]
     },
     "metadata": {},
     "output_type": "display_data"
    },
    {
     "data": {
      "text/plain": [
       "159"
      ]
     },
     "metadata": {},
     "output_type": "display_data"
    },
    {
     "data": {
      "text/plain": [
       "'jhalawar'"
      ]
     },
     "metadata": {},
     "output_type": "display_data"
    },
    {
     "data": {
      "text/plain": [
       "160"
      ]
     },
     "metadata": {},
     "output_type": "display_data"
    },
    {
     "data": {
      "text/plain": [
       "'jhunjhunu'"
      ]
     },
     "metadata": {},
     "output_type": "display_data"
    },
    {
     "data": {
      "text/plain": [
       "161"
      ]
     },
     "metadata": {},
     "output_type": "display_data"
    },
    {
     "data": {
      "text/plain": [
       "'nagaur'"
      ]
     },
     "metadata": {},
     "output_type": "display_data"
    },
    {
     "data": {
      "text/plain": [
       "162"
      ]
     },
     "metadata": {},
     "output_type": "display_data"
    },
    {
     "data": {
      "text/plain": [
       "'ajmer'"
      ]
     },
     "metadata": {},
     "output_type": "display_data"
    },
    {
     "data": {
      "text/plain": [
       "163"
      ]
     },
     "metadata": {},
     "output_type": "display_data"
    },
    {
     "data": {
      "text/plain": [
       "'rajsamand'"
      ]
     },
     "metadata": {},
     "output_type": "display_data"
    },
    {
     "data": {
      "text/plain": [
       "164"
      ]
     },
     "metadata": {},
     "output_type": "display_data"
    },
    {
     "data": {
      "text/plain": [
       "'jodhpur'"
      ]
     },
     "metadata": {},
     "output_type": "display_data"
    },
    {
     "data": {
      "text/plain": [
       "165"
      ]
     },
     "metadata": {},
     "output_type": "display_data"
    },
    {
     "data": {
      "text/plain": [
       "'sri_ganganagar'"
      ]
     },
     "metadata": {},
     "output_type": "display_data"
    },
    {
     "data": {
      "text/plain": [
       "166"
      ]
     },
     "metadata": {},
     "output_type": "display_data"
    },
    {
     "data": {
      "text/plain": [
       "'pali'"
      ]
     },
     "metadata": {},
     "output_type": "display_data"
    },
    {
     "data": {
      "text/plain": [
       "167"
      ]
     },
     "metadata": {},
     "output_type": "display_data"
    },
    {
     "data": {
      "text/plain": [
       "'kota'"
      ]
     },
     "metadata": {},
     "output_type": "display_data"
    },
    {
     "data": {
      "text/plain": [
       "168"
      ]
     },
     "metadata": {},
     "output_type": "display_data"
    },
    {
     "data": {
      "text/plain": [
       "'dholpur'"
      ]
     },
     "metadata": {},
     "output_type": "display_data"
    },
    {
     "data": {
      "text/plain": [
       "169"
      ]
     },
     "metadata": {},
     "output_type": "display_data"
    },
    {
     "data": {
      "text/plain": [
       "'dungarpur'"
      ]
     },
     "metadata": {},
     "output_type": "display_data"
    },
    {
     "data": {
      "text/plain": [
       "170"
      ]
     },
     "metadata": {},
     "output_type": "display_data"
    },
    {
     "data": {
      "text/plain": [
       "'tonk'"
      ]
     },
     "metadata": {},
     "output_type": "display_data"
    },
    {
     "data": {
      "text/plain": [
       "171"
      ]
     },
     "metadata": {},
     "output_type": "display_data"
    },
    {
     "data": {
      "text/plain": [
       "'churu'"
      ]
     },
     "metadata": {},
     "output_type": "display_data"
    },
    {
     "data": {
      "text/plain": [
       "172"
      ]
     },
     "metadata": {},
     "output_type": "display_data"
    },
    {
     "data": {
      "text/plain": [
       "'udaipur'"
      ]
     },
     "metadata": {},
     "output_type": "display_data"
    },
    {
     "data": {
      "text/plain": [
       "173"
      ]
     },
     "metadata": {},
     "output_type": "display_data"
    },
    {
     "data": {
      "text/plain": [
       "'chandigarh'"
      ]
     },
     "metadata": {},
     "output_type": "display_data"
    },
    {
     "data": {
      "text/plain": [
       "174"
      ]
     },
     "metadata": {},
     "output_type": "display_data"
    },
    {
     "data": {
      "text/plain": [
       "'thiruvananthapuram'"
      ]
     },
     "metadata": {},
     "output_type": "display_data"
    },
    {
     "data": {
      "text/plain": [
       "175"
      ]
     },
     "metadata": {},
     "output_type": "display_data"
    },
    {
     "data": {
      "text/plain": [
       "'thrissur'"
      ]
     },
     "metadata": {},
     "output_type": "display_data"
    },
    {
     "data": {
      "text/plain": [
       "176"
      ]
     },
     "metadata": {},
     "output_type": "display_data"
    },
    {
     "data": {
      "text/plain": [
       "'kozhikode'"
      ]
     },
     "metadata": {},
     "output_type": "display_data"
    },
    {
     "data": {
      "text/plain": [
       "177"
      ]
     },
     "metadata": {},
     "output_type": "display_data"
    },
    {
     "data": {
      "text/plain": [
       "'kollam'"
      ]
     },
     "metadata": {},
     "output_type": "display_data"
    },
    {
     "data": {
      "text/plain": [
       "178"
      ]
     },
     "metadata": {},
     "output_type": "display_data"
    },
    {
     "data": {
      "text/plain": [
       "'kannur'"
      ]
     },
     "metadata": {},
     "output_type": "display_data"
    },
    {
     "data": {
      "text/plain": [
       "179"
      ]
     },
     "metadata": {},
     "output_type": "display_data"
    },
    {
     "data": {
      "text/plain": [
       "'eloor'"
      ]
     },
     "metadata": {},
     "output_type": "display_data"
    },
    {
     "data": {
      "text/plain": [
       "180"
      ]
     },
     "metadata": {},
     "output_type": "display_data"
    },
    {
     "data": {
      "text/plain": [
       "'ernakulam'"
      ]
     },
     "metadata": {},
     "output_type": "display_data"
    },
    {
     "data": {
      "text/plain": [
       "181"
      ]
     },
     "metadata": {},
     "output_type": "display_data"
    },
    {
     "data": {
      "text/plain": [
       "'kochi'"
      ]
     },
     "metadata": {},
     "output_type": "display_data"
    },
    {
     "data": {
      "text/plain": [
       "182"
      ]
     },
     "metadata": {},
     "output_type": "display_data"
    },
    {
     "data": {
      "text/plain": [
       "'bhilai'"
      ]
     },
     "metadata": {},
     "output_type": "display_data"
    },
    {
     "name": "stdout",
     "output_type": "stream",
     "text": [
      "City bhilai cannot be found through the api\n"
     ]
    },
    {
     "data": {
      "text/plain": [
       "183"
      ]
     },
     "metadata": {},
     "output_type": "display_data"
    },
    {
     "data": {
      "text/plain": [
       "'chhal'"
      ]
     },
     "metadata": {},
     "output_type": "display_data"
    },
    {
     "name": "stdout",
     "output_type": "stream",
     "text": [
      "City chhal cannot be found through the api\n"
     ]
    },
    {
     "data": {
      "text/plain": [
       "184"
      ]
     },
     "metadata": {},
     "output_type": "display_data"
    },
    {
     "data": {
      "text/plain": [
       "'milupara'"
      ]
     },
     "metadata": {},
     "output_type": "display_data"
    },
    {
     "name": "stdout",
     "output_type": "stream",
     "text": [
      "City milupara cannot be found through the api\n"
     ]
    },
    {
     "data": {
      "text/plain": [
       "185"
      ]
     },
     "metadata": {},
     "output_type": "display_data"
    },
    {
     "data": {
      "text/plain": [
       "'bilaspur'"
      ]
     },
     "metadata": {},
     "output_type": "display_data"
    },
    {
     "name": "stdout",
     "output_type": "stream",
     "text": [
      "City bilaspur cannot be found through the api\n"
     ]
    },
    {
     "data": {
      "text/plain": [
       "186"
      ]
     },
     "metadata": {},
     "output_type": "display_data"
    },
    {
     "data": {
      "text/plain": [
       "'raipur'"
      ]
     },
     "metadata": {},
     "output_type": "display_data"
    },
    {
     "data": {
      "text/plain": [
       "187"
      ]
     },
     "metadata": {},
     "output_type": "display_data"
    },
    {
     "data": {
      "text/plain": [
       "'tumidih'"
      ]
     },
     "metadata": {},
     "output_type": "display_data"
    },
    {
     "name": "stdout",
     "output_type": "stream",
     "text": [
      "City tumidih cannot be found through the api\n"
     ]
    },
    {
     "data": {
      "text/plain": [
       "188"
      ]
     },
     "metadata": {},
     "output_type": "display_data"
    },
    {
     "data": {
      "text/plain": [
       "'kunjemura'"
      ]
     },
     "metadata": {},
     "output_type": "display_data"
    },
    {
     "name": "stdout",
     "output_type": "stream",
     "text": [
      "City kunjemura cannot be found through the api\n"
     ]
    },
    {
     "data": {
      "text/plain": [
       "189"
      ]
     },
     "metadata": {},
     "output_type": "display_data"
    },
    {
     "data": {
      "text/plain": [
       "'korba'"
      ]
     },
     "metadata": {},
     "output_type": "display_data"
    },
    {
     "name": "stdout",
     "output_type": "stream",
     "text": [
      "City korba cannot be found through the api\n"
     ]
    },
    {
     "data": {
      "text/plain": [
       "190"
      ]
     },
     "metadata": {},
     "output_type": "display_data"
    },
    {
     "data": {
      "text/plain": [
       "'aizawl'"
      ]
     },
     "metadata": {},
     "output_type": "display_data"
    },
    {
     "data": {
      "text/plain": [
       "191"
      ]
     },
     "metadata": {},
     "output_type": "display_data"
    },
    {
     "data": {
      "text/plain": [
       "'silchar'"
      ]
     },
     "metadata": {},
     "output_type": "display_data"
    },
    {
     "data": {
      "text/plain": [
       "192"
      ]
     },
     "metadata": {},
     "output_type": "display_data"
    },
    {
     "data": {
      "text/plain": [
       "'nalbari'"
      ]
     },
     "metadata": {},
     "output_type": "display_data"
    },
    {
     "data": {
      "text/plain": [
       "193"
      ]
     },
     "metadata": {},
     "output_type": "display_data"
    },
    {
     "data": {
      "text/plain": [
       "'guwahati'"
      ]
     },
     "metadata": {},
     "output_type": "display_data"
    },
    {
     "data": {
      "text/plain": [
       "194"
      ]
     },
     "metadata": {},
     "output_type": "display_data"
    },
    {
     "data": {
      "text/plain": [
       "'nagaon'"
      ]
     },
     "metadata": {},
     "output_type": "display_data"
    },
    {
     "data": {
      "text/plain": [
       "195"
      ]
     },
     "metadata": {},
     "output_type": "display_data"
    },
    {
     "data": {
      "text/plain": [
       "'sivasagar'"
      ]
     },
     "metadata": {},
     "output_type": "display_data"
    },
    {
     "data": {
      "text/plain": [
       "196"
      ]
     },
     "metadata": {},
     "output_type": "display_data"
    },
    {
     "data": {
      "text/plain": [
       "'byrnihat'"
      ]
     },
     "metadata": {},
     "output_type": "display_data"
    },
    {
     "name": "stdout",
     "output_type": "stream",
     "text": [
      "City byrnihat cannot be found through the api\n"
     ]
    },
    {
     "data": {
      "text/plain": [
       "197"
      ]
     },
     "metadata": {},
     "output_type": "display_data"
    },
    {
     "data": {
      "text/plain": [
       "'shillong'"
      ]
     },
     "metadata": {},
     "output_type": "display_data"
    },
    {
     "data": {
      "text/plain": [
       "198"
      ]
     },
     "metadata": {},
     "output_type": "display_data"
    },
    {
     "data": {
      "text/plain": [
       "'tiruchirappalli'"
      ]
     },
     "metadata": {},
     "output_type": "display_data"
    },
    {
     "data": {
      "text/plain": [
       "199"
      ]
     },
     "metadata": {},
     "output_type": "display_data"
    },
    {
     "data": {
      "text/plain": [
       "'nagapattinam'"
      ]
     },
     "metadata": {},
     "output_type": "display_data"
    },
    {
     "data": {
      "text/plain": [
       "200"
      ]
     },
     "metadata": {},
     "output_type": "display_data"
    },
    {
     "data": {
      "text/plain": [
       "'coimbatore'"
      ]
     },
     "metadata": {},
     "output_type": "display_data"
    },
    {
     "data": {
      "text/plain": [
       "201"
      ]
     },
     "metadata": {},
     "output_type": "display_data"
    },
    {
     "data": {
      "text/plain": [
       "'vellore'"
      ]
     },
     "metadata": {},
     "output_type": "display_data"
    },
    {
     "data": {
      "text/plain": [
       "202"
      ]
     },
     "metadata": {},
     "output_type": "display_data"
    },
    {
     "data": {
      "text/plain": [
       "'ranipet'"
      ]
     },
     "metadata": {},
     "output_type": "display_data"
    },
    {
     "data": {
      "text/plain": [
       "203"
      ]
     },
     "metadata": {},
     "output_type": "display_data"
    },
    {
     "data": {
      "text/plain": [
       "'dindigul'"
      ]
     },
     "metadata": {},
     "output_type": "display_data"
    },
    {
     "data": {
      "text/plain": [
       "204"
      ]
     },
     "metadata": {},
     "output_type": "display_data"
    },
    {
     "data": {
      "text/plain": [
       "'tirupur'"
      ]
     },
     "metadata": {},
     "output_type": "display_data"
    },
    {
     "name": "stdout",
     "output_type": "stream",
     "text": [
      "City tirupur cannot be found through the api\n"
     ]
    },
    {
     "data": {
      "text/plain": [
       "205"
      ]
     },
     "metadata": {},
     "output_type": "display_data"
    },
    {
     "data": {
      "text/plain": [
       "'ooty'"
      ]
     },
     "metadata": {},
     "output_type": "display_data"
    },
    {
     "data": {
      "text/plain": [
       "206"
      ]
     },
     "metadata": {},
     "output_type": "display_data"
    },
    {
     "data": {
      "text/plain": [
       "'kanchipuram'"
      ]
     },
     "metadata": {},
     "output_type": "display_data"
    },
    {
     "data": {
      "text/plain": [
       "207"
      ]
     },
     "metadata": {},
     "output_type": "display_data"
    },
    {
     "data": {
      "text/plain": [
       "'tirunelveli'"
      ]
     },
     "metadata": {},
     "output_type": "display_data"
    },
    {
     "data": {
      "text/plain": [
       "208"
      ]
     },
     "metadata": {},
     "output_type": "display_data"
    },
    {
     "data": {
      "text/plain": [
       "'chennai'"
      ]
     },
     "metadata": {},
     "output_type": "display_data"
    },
    {
     "data": {
      "text/plain": [
       "209"
      ]
     },
     "metadata": {},
     "output_type": "display_data"
    },
    {
     "data": {
      "text/plain": [
       "'gummidipoondi'"
      ]
     },
     "metadata": {},
     "output_type": "display_data"
    },
    {
     "name": "stdout",
     "output_type": "stream",
     "text": [
      "City gummidipoondi cannot be found through the api\n"
     ]
    },
    {
     "data": {
      "text/plain": [
       "210"
      ]
     },
     "metadata": {},
     "output_type": "display_data"
    },
    {
     "data": {
      "text/plain": [
       "'perundurai'"
      ]
     },
     "metadata": {},
     "output_type": "display_data"
    },
    {
     "data": {
      "text/plain": [
       "211"
      ]
     },
     "metadata": {},
     "output_type": "display_data"
    },
    {
     "data": {
      "text/plain": [
       "'thanjavur'"
      ]
     },
     "metadata": {},
     "output_type": "display_data"
    },
    {
     "data": {
      "text/plain": [
       "212"
      ]
     },
     "metadata": {},
     "output_type": "display_data"
    },
    {
     "data": {
      "text/plain": [
       "'cuddalore'"
      ]
     },
     "metadata": {},
     "output_type": "display_data"
    },
    {
     "data": {
      "text/plain": [
       "213"
      ]
     },
     "metadata": {},
     "output_type": "display_data"
    },
    {
     "data": {
      "text/plain": [
       "'karur'"
      ]
     },
     "metadata": {},
     "output_type": "display_data"
    },
    {
     "data": {
      "text/plain": [
       "214"
      ]
     },
     "metadata": {},
     "output_type": "display_data"
    },
    {
     "data": {
      "text/plain": [
       "'thoothukudi'"
      ]
     },
     "metadata": {},
     "output_type": "display_data"
    },
    {
     "data": {
      "text/plain": [
       "215"
      ]
     },
     "metadata": {},
     "output_type": "display_data"
    },
    {
     "data": {
      "text/plain": [
       "'pudukottai'"
      ]
     },
     "metadata": {},
     "output_type": "display_data"
    },
    {
     "data": {
      "text/plain": [
       "216"
      ]
     },
     "metadata": {},
     "output_type": "display_data"
    },
    {
     "data": {
      "text/plain": [
       "'ariyalur'"
      ]
     },
     "metadata": {},
     "output_type": "display_data"
    },
    {
     "data": {
      "text/plain": [
       "217"
      ]
     },
     "metadata": {},
     "output_type": "display_data"
    },
    {
     "data": {
      "text/plain": [
       "'salem'"
      ]
     },
     "metadata": {},
     "output_type": "display_data"
    },
    {
     "data": {
      "text/plain": [
       "218"
      ]
     },
     "metadata": {},
     "output_type": "display_data"
    },
    {
     "data": {
      "text/plain": [
       "'madurai'"
      ]
     },
     "metadata": {},
     "output_type": "display_data"
    },
    {
     "data": {
      "text/plain": [
       "219"
      ]
     },
     "metadata": {},
     "output_type": "display_data"
    },
    {
     "data": {
      "text/plain": [
       "'ramanathapuram'"
      ]
     },
     "metadata": {},
     "output_type": "display_data"
    },
    {
     "data": {
      "text/plain": [
       "220"
      ]
     },
     "metadata": {},
     "output_type": "display_data"
    },
    {
     "data": {
      "text/plain": [
       "'virudhunagar'"
      ]
     },
     "metadata": {},
     "output_type": "display_data"
    },
    {
     "data": {
      "text/plain": [
       "221"
      ]
     },
     "metadata": {},
     "output_type": "display_data"
    },
    {
     "data": {
      "text/plain": [
       "'hosur'"
      ]
     },
     "metadata": {},
     "output_type": "display_data"
    },
    {
     "data": {
      "text/plain": [
       "222"
      ]
     },
     "metadata": {},
     "output_type": "display_data"
    },
    {
     "data": {
      "text/plain": [
       "'palkalaiperur'"
      ]
     },
     "metadata": {},
     "output_type": "display_data"
    },
    {
     "name": "stdout",
     "output_type": "stream",
     "text": [
      "City palkalaiperur cannot be found through the api\n"
     ]
    },
    {
     "data": {
      "text/plain": [
       "223"
      ]
     },
     "metadata": {},
     "output_type": "display_data"
    },
    {
     "data": {
      "text/plain": [
       "'chengalpattu'"
      ]
     },
     "metadata": {},
     "output_type": "display_data"
    },
    {
     "data": {
      "text/plain": [
       "224"
      ]
     },
     "metadata": {},
     "output_type": "display_data"
    },
    {
     "data": {
      "text/plain": [
       "'kolkata'"
      ]
     },
     "metadata": {},
     "output_type": "display_data"
    },
    {
     "data": {
      "text/plain": [
       "225"
      ]
     },
     "metadata": {},
     "output_type": "display_data"
    },
    {
     "data": {
      "text/plain": [
       "'haldia'"
      ]
     },
     "metadata": {},
     "output_type": "display_data"
    },
    {
     "data": {
      "text/plain": [
       "226"
      ]
     },
     "metadata": {},
     "output_type": "display_data"
    },
    {
     "data": {
      "text/plain": [
       "'durgapur'"
      ]
     },
     "metadata": {},
     "output_type": "display_data"
    },
    {
     "data": {
      "text/plain": [
       "227"
      ]
     },
     "metadata": {},
     "output_type": "display_data"
    },
    {
     "data": {
      "text/plain": [
       "'siliguri'"
      ]
     },
     "metadata": {},
     "output_type": "display_data"
    },
    {
     "data": {
      "text/plain": [
       "228"
      ]
     },
     "metadata": {},
     "output_type": "display_data"
    },
    {
     "data": {
      "text/plain": [
       "'asansol'"
      ]
     },
     "metadata": {},
     "output_type": "display_data"
    },
    {
     "data": {
      "text/plain": [
       "229"
      ]
     },
     "metadata": {},
     "output_type": "display_data"
    },
    {
     "data": {
      "text/plain": [
       "'howrah'"
      ]
     },
     "metadata": {},
     "output_type": "display_data"
    },
    {
     "data": {
      "text/plain": [
       "230"
      ]
     },
     "metadata": {},
     "output_type": "display_data"
    },
    {
     "data": {
      "text/plain": [
       "'barrackpore'"
      ]
     },
     "metadata": {},
     "output_type": "display_data"
    },
    {
     "data": {
      "text/plain": [
       "231"
      ]
     },
     "metadata": {},
     "output_type": "display_data"
    },
    {
     "data": {
      "text/plain": [
       "'kashipur'"
      ]
     },
     "metadata": {},
     "output_type": "display_data"
    },
    {
     "name": "stdout",
     "output_type": "stream",
     "text": [
      "City kashipur cannot be found through the api\n"
     ]
    },
    {
     "data": {
      "text/plain": [
       "232"
      ]
     },
     "metadata": {},
     "output_type": "display_data"
    },
    {
     "data": {
      "text/plain": [
       "'rishikesh'"
      ]
     },
     "metadata": {},
     "output_type": "display_data"
    },
    {
     "name": "stdout",
     "output_type": "stream",
     "text": [
      "City rishikesh cannot be found through the api\n"
     ]
    },
    {
     "data": {
      "text/plain": [
       "233"
      ]
     },
     "metadata": {},
     "output_type": "display_data"
    },
    {
     "data": {
      "text/plain": [
       "'dehradun'"
      ]
     },
     "metadata": {},
     "output_type": "display_data"
    },
    {
     "name": "stdout",
     "output_type": "stream",
     "text": [
      "City dehradun cannot be found through the api\n"
     ]
    },
    {
     "data": {
      "text/plain": [
       "234"
      ]
     },
     "metadata": {},
     "output_type": "display_data"
    },
    {
     "data": {
      "text/plain": [
       "'agra'"
      ]
     },
     "metadata": {},
     "output_type": "display_data"
    },
    {
     "data": {
      "text/plain": [
       "235"
      ]
     },
     "metadata": {},
     "output_type": "display_data"
    },
    {
     "data": {
      "text/plain": [
       "'prayagraj'"
      ]
     },
     "metadata": {},
     "output_type": "display_data"
    },
    {
     "data": {
      "text/plain": [
       "236"
      ]
     },
     "metadata": {},
     "output_type": "display_data"
    },
    {
     "data": {
      "text/plain": [
       "'meerut'"
      ]
     },
     "metadata": {},
     "output_type": "display_data"
    },
    {
     "data": {
      "text/plain": [
       "237"
      ]
     },
     "metadata": {},
     "output_type": "display_data"
    },
    {
     "data": {
      "text/plain": [
       "'jhansi'"
      ]
     },
     "metadata": {},
     "output_type": "display_data"
    },
    {
     "data": {
      "text/plain": [
       "238"
      ]
     },
     "metadata": {},
     "output_type": "display_data"
    },
    {
     "data": {
      "text/plain": [
       "'greater_noida'"
      ]
     },
     "metadata": {},
     "output_type": "display_data"
    },
    {
     "data": {
      "text/plain": [
       "239"
      ]
     },
     "metadata": {},
     "output_type": "display_data"
    },
    {
     "data": {
      "text/plain": [
       "'kanpur'"
      ]
     },
     "metadata": {},
     "output_type": "display_data"
    },
    {
     "data": {
      "text/plain": [
       "240"
      ]
     },
     "metadata": {},
     "output_type": "display_data"
    },
    {
     "data": {
      "text/plain": [
       "'bulandshahr'"
      ]
     },
     "metadata": {},
     "output_type": "display_data"
    },
    {
     "data": {
      "text/plain": [
       "241"
      ]
     },
     "metadata": {},
     "output_type": "display_data"
    },
    {
     "data": {
      "text/plain": [
       "'lucknow'"
      ]
     },
     "metadata": {},
     "output_type": "display_data"
    },
    {
     "data": {
      "text/plain": [
       "242"
      ]
     },
     "metadata": {},
     "output_type": "display_data"
    },
    {
     "data": {
      "text/plain": [
       "'firozabad'"
      ]
     },
     "metadata": {},
     "output_type": "display_data"
    },
    {
     "data": {
      "text/plain": [
       "243"
      ]
     },
     "metadata": {},
     "output_type": "display_data"
    },
    {
     "data": {
      "text/plain": [
       "'moradabad'"
      ]
     },
     "metadata": {},
     "output_type": "display_data"
    },
    {
     "data": {
      "text/plain": [
       "244"
      ]
     },
     "metadata": {},
     "output_type": "display_data"
    },
    {
     "data": {
      "text/plain": [
       "'hapur'"
      ]
     },
     "metadata": {},
     "output_type": "display_data"
    },
    {
     "data": {
      "text/plain": [
       "245"
      ]
     },
     "metadata": {},
     "output_type": "display_data"
    },
    {
     "data": {
      "text/plain": [
       "'vrindavan'"
      ]
     },
     "metadata": {},
     "output_type": "display_data"
    },
    {
     "data": {
      "text/plain": [
       "246"
      ]
     },
     "metadata": {},
     "output_type": "display_data"
    },
    {
     "data": {
      "text/plain": [
       "'ghaziabad'"
      ]
     },
     "metadata": {},
     "output_type": "display_data"
    },
    {
     "data": {
      "text/plain": [
       "247"
      ]
     },
     "metadata": {},
     "output_type": "display_data"
    },
    {
     "data": {
      "text/plain": [
       "'bareilly'"
      ]
     },
     "metadata": {},
     "output_type": "display_data"
    },
    {
     "data": {
      "text/plain": [
       "248"
      ]
     },
     "metadata": {},
     "output_type": "display_data"
    },
    {
     "data": {
      "text/plain": [
       "'noida'"
      ]
     },
     "metadata": {},
     "output_type": "display_data"
    },
    {
     "data": {
      "text/plain": [
       "249"
      ]
     },
     "metadata": {},
     "output_type": "display_data"
    },
    {
     "data": {
      "text/plain": [
       "'varanasi'"
      ]
     },
     "metadata": {},
     "output_type": "display_data"
    },
    {
     "data": {
      "text/plain": [
       "250"
      ]
     },
     "metadata": {},
     "output_type": "display_data"
    },
    {
     "data": {
      "text/plain": [
       "'muzaffarnagar'"
      ]
     },
     "metadata": {},
     "output_type": "display_data"
    },
    {
     "data": {
      "text/plain": [
       "251"
      ]
     },
     "metadata": {},
     "output_type": "display_data"
    },
    {
     "data": {
      "text/plain": [
       "'gorakhpur'"
      ]
     },
     "metadata": {},
     "output_type": "display_data"
    },
    {
     "data": {
      "text/plain": [
       "252"
      ]
     },
     "metadata": {},
     "output_type": "display_data"
    },
    {
     "data": {
      "text/plain": [
       "'khurja'"
      ]
     },
     "metadata": {},
     "output_type": "display_data"
    },
    {
     "data": {
      "text/plain": [
       "253"
      ]
     },
     "metadata": {},
     "output_type": "display_data"
    },
    {
     "data": {
      "text/plain": [
       "'baghpat'"
      ]
     },
     "metadata": {},
     "output_type": "display_data"
    },
    {
     "data": {
      "text/plain": [
       "254"
      ]
     },
     "metadata": {},
     "output_type": "display_data"
    },
    {
     "data": {
      "text/plain": [
       "'puducherry'"
      ]
     },
     "metadata": {},
     "output_type": "display_data"
    },
    {
     "data": {
      "text/plain": [
       "255"
      ]
     },
     "metadata": {},
     "output_type": "display_data"
    },
    {
     "data": {
      "text/plain": [
       "'rajgir'"
      ]
     },
     "metadata": {},
     "output_type": "display_data"
    },
    {
     "data": {
      "text/plain": [
       "256"
      ]
     },
     "metadata": {},
     "output_type": "display_data"
    },
    {
     "data": {
      "text/plain": [
       "'araria'"
      ]
     },
     "metadata": {},
     "output_type": "display_data"
    },
    {
     "data": {
      "text/plain": [
       "257"
      ]
     },
     "metadata": {},
     "output_type": "display_data"
    },
    {
     "data": {
      "text/plain": [
       "'bettiah'"
      ]
     },
     "metadata": {},
     "output_type": "display_data"
    },
    {
     "data": {
      "text/plain": [
       "258"
      ]
     },
     "metadata": {},
     "output_type": "display_data"
    },
    {
     "data": {
      "text/plain": [
       "'begusarai'"
      ]
     },
     "metadata": {},
     "output_type": "display_data"
    },
    {
     "data": {
      "text/plain": [
       "259"
      ]
     },
     "metadata": {},
     "output_type": "display_data"
    },
    {
     "data": {
      "text/plain": [
       "'katihar'"
      ]
     },
     "metadata": {},
     "output_type": "display_data"
    },
    {
     "data": {
      "text/plain": [
       "260"
      ]
     },
     "metadata": {},
     "output_type": "display_data"
    },
    {
     "data": {
      "text/plain": [
       "'saharsa'"
      ]
     },
     "metadata": {},
     "output_type": "display_data"
    },
    {
     "data": {
      "text/plain": [
       "261"
      ]
     },
     "metadata": {},
     "output_type": "display_data"
    },
    {
     "data": {
      "text/plain": [
       "'samastipur'"
      ]
     },
     "metadata": {},
     "output_type": "display_data"
    },
    {
     "data": {
      "text/plain": [
       "262"
      ]
     },
     "metadata": {},
     "output_type": "display_data"
    },
    {
     "data": {
      "text/plain": [
       "'motihari'"
      ]
     },
     "metadata": {},
     "output_type": "display_data"
    },
    {
     "data": {
      "text/plain": [
       "263"
      ]
     },
     "metadata": {},
     "output_type": "display_data"
    },
    {
     "data": {
      "text/plain": [
       "'muzaffarpur'"
      ]
     },
     "metadata": {},
     "output_type": "display_data"
    },
    {
     "data": {
      "text/plain": [
       "264"
      ]
     },
     "metadata": {},
     "output_type": "display_data"
    },
    {
     "data": {
      "text/plain": [
       "'bhagalpur'"
      ]
     },
     "metadata": {},
     "output_type": "display_data"
    },
    {
     "data": {
      "text/plain": [
       "265"
      ]
     },
     "metadata": {},
     "output_type": "display_data"
    },
    {
     "data": {
      "text/plain": [
       "'buxar'"
      ]
     },
     "metadata": {},
     "output_type": "display_data"
    },
    {
     "data": {
      "text/plain": [
       "266"
      ]
     },
     "metadata": {},
     "output_type": "display_data"
    },
    {
     "data": {
      "text/plain": [
       "'darbhanga'"
      ]
     },
     "metadata": {},
     "output_type": "display_data"
    },
    {
     "data": {
      "text/plain": [
       "267"
      ]
     },
     "metadata": {},
     "output_type": "display_data"
    },
    {
     "data": {
      "text/plain": [
       "'sasaram'"
      ]
     },
     "metadata": {},
     "output_type": "display_data"
    },
    {
     "data": {
      "text/plain": [
       "268"
      ]
     },
     "metadata": {},
     "output_type": "display_data"
    },
    {
     "data": {
      "text/plain": [
       "'bihar_sharif'"
      ]
     },
     "metadata": {},
     "output_type": "display_data"
    },
    {
     "data": {
      "text/plain": [
       "269"
      ]
     },
     "metadata": {},
     "output_type": "display_data"
    },
    {
     "data": {
      "text/plain": [
       "'purnia'"
      ]
     },
     "metadata": {},
     "output_type": "display_data"
    },
    {
     "data": {
      "text/plain": [
       "270"
      ]
     },
     "metadata": {},
     "output_type": "display_data"
    },
    {
     "data": {
      "text/plain": [
       "'manguraha'"
      ]
     },
     "metadata": {},
     "output_type": "display_data"
    },
    {
     "name": "stdout",
     "output_type": "stream",
     "text": [
      "City manguraha cannot be found through the api\n"
     ]
    },
    {
     "data": {
      "text/plain": [
       "271"
      ]
     },
     "metadata": {},
     "output_type": "display_data"
    },
    {
     "data": {
      "text/plain": [
       "'patna'"
      ]
     },
     "metadata": {},
     "output_type": "display_data"
    },
    {
     "data": {
      "text/plain": [
       "272"
      ]
     },
     "metadata": {},
     "output_type": "display_data"
    },
    {
     "data": {
      "text/plain": [
       "'arrah'"
      ]
     },
     "metadata": {},
     "output_type": "display_data"
    },
    {
     "data": {
      "text/plain": [
       "273"
      ]
     },
     "metadata": {},
     "output_type": "display_data"
    },
    {
     "data": {
      "text/plain": [
       "'hajipur'"
      ]
     },
     "metadata": {},
     "output_type": "display_data"
    },
    {
     "data": {
      "text/plain": [
       "274"
      ]
     },
     "metadata": {},
     "output_type": "display_data"
    },
    {
     "data": {
      "text/plain": [
       "'siwan'"
      ]
     },
     "metadata": {},
     "output_type": "display_data"
    },
    {
     "data": {
      "text/plain": [
       "275"
      ]
     },
     "metadata": {},
     "output_type": "display_data"
    },
    {
     "data": {
      "text/plain": [
       "'chhapra'"
      ]
     },
     "metadata": {},
     "output_type": "display_data"
    },
    {
     "data": {
      "text/plain": [
       "276"
      ]
     },
     "metadata": {},
     "output_type": "display_data"
    },
    {
     "data": {
      "text/plain": [
       "'kishanganj'"
      ]
     },
     "metadata": {},
     "output_type": "display_data"
    },
    {
     "data": {
      "text/plain": [
       "277"
      ]
     },
     "metadata": {},
     "output_type": "display_data"
    },
    {
     "data": {
      "text/plain": [
       "'munger'"
      ]
     },
     "metadata": {},
     "output_type": "display_data"
    },
    {
     "data": {
      "text/plain": [
       "278"
      ]
     },
     "metadata": {},
     "output_type": "display_data"
    },
    {
     "data": {
      "text/plain": [
       "'gaya'"
      ]
     },
     "metadata": {},
     "output_type": "display_data"
    },
    {
     "data": {
      "text/plain": [
       "279"
      ]
     },
     "metadata": {},
     "output_type": "display_data"
    },
    {
     "data": {
      "text/plain": [
       "'dhanbad'"
      ]
     },
     "metadata": {},
     "output_type": "display_data"
    },
    {
     "data": {
      "text/plain": [
       "280"
      ]
     },
     "metadata": {},
     "output_type": "display_data"
    },
    {
     "data": {
      "text/plain": [
       "'jorapokhar'"
      ]
     },
     "metadata": {},
     "output_type": "display_data"
    },
    {
     "data": {
      "text/plain": [
       "281"
      ]
     },
     "metadata": {},
     "output_type": "display_data"
    },
    {
     "data": {
      "text/plain": [
       "'pathardih'"
      ]
     },
     "metadata": {},
     "output_type": "display_data"
    },
    {
     "data": {
      "text/plain": [
       "282"
      ]
     },
     "metadata": {},
     "output_type": "display_data"
    },
    {
     "data": {
      "text/plain": [
       "'kohima'"
      ]
     },
     "metadata": {},
     "output_type": "display_data"
    },
    {
     "data": {
      "text/html": [
       "<div>\n",
       "<style scoped>\n",
       "    .dataframe tbody tr th:only-of-type {\n",
       "        vertical-align: middle;\n",
       "    }\n",
       "\n",
       "    .dataframe tbody tr th {\n",
       "        vertical-align: top;\n",
       "    }\n",
       "\n",
       "    .dataframe thead th {\n",
       "        text-align: right;\n",
       "    }\n",
       "</style>\n",
       "<table border=\"1\" class=\"dataframe\">\n",
       "  <thead>\n",
       "    <tr style=\"text-align: right;\">\n",
       "      <th></th>\n",
       "      <th>City</th>\n",
       "      <th>Temperature</th>\n",
       "      <th>Pressure</th>\n",
       "      <th>Humidity</th>\n",
       "      <th>Wind</th>\n",
       "      <th>Precipitation</th>\n",
       "      <th>Clouds</th>\n",
       "      <th>Sunshine</th>\n",
       "    </tr>\n",
       "  </thead>\n",
       "  <tbody>\n",
       "    <tr>\n",
       "      <th>0</th>\n",
       "      <td>naharlagun</td>\n",
       "      <td>288.80</td>\n",
       "      <td>1010.92</td>\n",
       "      <td>71.55</td>\n",
       "      <td>1.44</td>\n",
       "      <td>0.02</td>\n",
       "      <td>32.29</td>\n",
       "      <td>95.08</td>\n",
       "    </tr>\n",
       "    <tr>\n",
       "      <th>1</th>\n",
       "      <td>srinagar</td>\n",
       "      <td>271.28</td>\n",
       "      <td>906.50</td>\n",
       "      <td>71.02</td>\n",
       "      <td>0.96</td>\n",
       "      <td>0.01</td>\n",
       "      <td>45.14</td>\n",
       "      <td>111.38</td>\n",
       "    </tr>\n",
       "    <tr>\n",
       "      <th>2</th>\n",
       "      <td>chittoor</td>\n",
       "      <td>295.66</td>\n",
       "      <td>1001.07</td>\n",
       "      <td>74.38</td>\n",
       "      <td>2.30</td>\n",
       "      <td>0.02</td>\n",
       "      <td>35.85</td>\n",
       "      <td>125.92</td>\n",
       "    </tr>\n",
       "    <tr>\n",
       "      <th>3</th>\n",
       "      <td>kadapa</td>\n",
       "      <td>296.25</td>\n",
       "      <td>1002.93</td>\n",
       "      <td>71.07</td>\n",
       "      <td>2.43</td>\n",
       "      <td>0.01</td>\n",
       "      <td>29.30</td>\n",
       "      <td>119.31</td>\n",
       "    </tr>\n",
       "    <tr>\n",
       "      <th>4</th>\n",
       "      <td>anantapur</td>\n",
       "      <td>296.57</td>\n",
       "      <td>990.04</td>\n",
       "      <td>60.61</td>\n",
       "      <td>3.27</td>\n",
       "      <td>0.01</td>\n",
       "      <td>29.93</td>\n",
       "      <td>166.00</td>\n",
       "    </tr>\n",
       "    <tr>\n",
       "      <th>5</th>\n",
       "      <td>visakhapatnam</td>\n",
       "      <td>296.65</td>\n",
       "      <td>1016.07</td>\n",
       "      <td>77.01</td>\n",
       "      <td>2.58</td>\n",
       "      <td>0.00</td>\n",
       "      <td>22.71</td>\n",
       "      <td>134.31</td>\n",
       "    </tr>\n",
       "    <tr>\n",
       "      <th>6</th>\n",
       "      <td>amaravati</td>\n",
       "      <td>296.89</td>\n",
       "      <td>1015.44</td>\n",
       "      <td>74.87</td>\n",
       "      <td>1.93</td>\n",
       "      <td>0.01</td>\n",
       "      <td>25.91</td>\n",
       "      <td>101.85</td>\n",
       "    </tr>\n",
       "    <tr>\n",
       "      <th>7</th>\n",
       "      <td>vijayawada</td>\n",
       "      <td>296.89</td>\n",
       "      <td>1015.44</td>\n",
       "      <td>74.87</td>\n",
       "      <td>1.93</td>\n",
       "      <td>0.01</td>\n",
       "      <td>25.91</td>\n",
       "      <td>101.85</td>\n",
       "    </tr>\n",
       "    <tr>\n",
       "      <th>8</th>\n",
       "      <td>rajamahendravaram</td>\n",
       "      <td>297.04</td>\n",
       "      <td>1017.87</td>\n",
       "      <td>73.15</td>\n",
       "      <td>2.60</td>\n",
       "      <td>0.01</td>\n",
       "      <td>19.76</td>\n",
       "      <td>156.00</td>\n",
       "    </tr>\n",
       "    <tr>\n",
       "      <th>9</th>\n",
       "      <td>tirupati</td>\n",
       "      <td>295.39</td>\n",
       "      <td>998.49</td>\n",
       "      <td>76.42</td>\n",
       "      <td>1.98</td>\n",
       "      <td>0.01</td>\n",
       "      <td>28.68</td>\n",
       "      <td>87.92</td>\n",
       "    </tr>\n",
       "    <tr>\n",
       "      <th>10</th>\n",
       "      <td>imphal</td>\n",
       "      <td>285.85</td>\n",
       "      <td>978.25</td>\n",
       "      <td>75.42</td>\n",
       "      <td>1.24</td>\n",
       "      <td>0.01</td>\n",
       "      <td>26.42</td>\n",
       "      <td>88.54</td>\n",
       "    </tr>\n",
       "    <tr>\n",
       "      <th>11</th>\n",
       "      <td>mandideep</td>\n",
       "      <td>289.40</td>\n",
       "      <td>1000.42</td>\n",
       "      <td>62.59</td>\n",
       "      <td>2.31</td>\n",
       "      <td>0.01</td>\n",
       "      <td>16.27</td>\n",
       "      <td>209.92</td>\n",
       "    </tr>\n",
       "    <tr>\n",
       "      <th>12</th>\n",
       "      <td>satna</td>\n",
       "      <td>288.86</td>\n",
       "      <td>1001.83</td>\n",
       "      <td>64.10</td>\n",
       "      <td>1.93</td>\n",
       "      <td>0.04</td>\n",
       "      <td>17.66</td>\n",
       "      <td>206.69</td>\n",
       "    </tr>\n",
       "    <tr>\n",
       "      <th>13</th>\n",
       "      <td>bhopal</td>\n",
       "      <td>289.40</td>\n",
       "      <td>1000.42</td>\n",
       "      <td>62.59</td>\n",
       "      <td>2.31</td>\n",
       "      <td>0.01</td>\n",
       "      <td>16.27</td>\n",
       "      <td>209.92</td>\n",
       "    </tr>\n",
       "    <tr>\n",
       "      <th>14</th>\n",
       "      <td>ratlam</td>\n",
       "      <td>290.34</td>\n",
       "      <td>993.51</td>\n",
       "      <td>53.93</td>\n",
       "      <td>2.93</td>\n",
       "      <td>0.01</td>\n",
       "      <td>10.31</td>\n",
       "      <td>245.31</td>\n",
       "    </tr>\n",
       "    <tr>\n",
       "      <th>15</th>\n",
       "      <td>gwalior</td>\n",
       "      <td>287.79</td>\n",
       "      <td>1010.46</td>\n",
       "      <td>65.10</td>\n",
       "      <td>2.04</td>\n",
       "      <td>0.01</td>\n",
       "      <td>15.20</td>\n",
       "      <td>212.85</td>\n",
       "    </tr>\n",
       "    <tr>\n",
       "      <th>16</th>\n",
       "      <td>katni</td>\n",
       "      <td>289.08</td>\n",
       "      <td>995.46</td>\n",
       "      <td>60.17</td>\n",
       "      <td>1.95</td>\n",
       "      <td>0.02</td>\n",
       "      <td>15.20</td>\n",
       "      <td>235.69</td>\n",
       "    </tr>\n",
       "    <tr>\n",
       "      <th>17</th>\n",
       "      <td>maihar</td>\n",
       "      <td>288.86</td>\n",
       "      <td>1001.83</td>\n",
       "      <td>64.10</td>\n",
       "      <td>1.93</td>\n",
       "      <td>0.04</td>\n",
       "      <td>17.66</td>\n",
       "      <td>206.69</td>\n",
       "    </tr>\n",
       "    <tr>\n",
       "      <th>18</th>\n",
       "      <td>damoh</td>\n",
       "      <td>289.35</td>\n",
       "      <td>999.96</td>\n",
       "      <td>60.32</td>\n",
       "      <td>2.09</td>\n",
       "      <td>0.03</td>\n",
       "      <td>14.76</td>\n",
       "      <td>235.54</td>\n",
       "    </tr>\n",
       "    <tr>\n",
       "      <th>19</th>\n",
       "      <td>dewas</td>\n",
       "      <td>290.17</td>\n",
       "      <td>999.89</td>\n",
       "      <td>56.23</td>\n",
       "      <td>2.53</td>\n",
       "      <td>0.02</td>\n",
       "      <td>11.94</td>\n",
       "      <td>233.38</td>\n",
       "    </tr>\n",
       "    <tr>\n",
       "      <th>20</th>\n",
       "      <td>jabalpur</td>\n",
       "      <td>289.62</td>\n",
       "      <td>1000.28</td>\n",
       "      <td>63.37</td>\n",
       "      <td>2.08</td>\n",
       "      <td>0.01</td>\n",
       "      <td>16.41</td>\n",
       "      <td>211.62</td>\n",
       "    </tr>\n",
       "    <tr>\n",
       "      <th>21</th>\n",
       "      <td>ujjain</td>\n",
       "      <td>290.20</td>\n",
       "      <td>996.80</td>\n",
       "      <td>56.28</td>\n",
       "      <td>2.53</td>\n",
       "      <td>0.01</td>\n",
       "      <td>11.69</td>\n",
       "      <td>232.31</td>\n",
       "    </tr>\n",
       "    <tr>\n",
       "      <th>22</th>\n",
       "      <td>sagar</td>\n",
       "      <td>289.00</td>\n",
       "      <td>993.07</td>\n",
       "      <td>60.21</td>\n",
       "      <td>2.20</td>\n",
       "      <td>0.01</td>\n",
       "      <td>14.38</td>\n",
       "      <td>236.31</td>\n",
       "    </tr>\n",
       "    <tr>\n",
       "      <th>23</th>\n",
       "      <td>singrauli</td>\n",
       "      <td>288.74</td>\n",
       "      <td>1002.09</td>\n",
       "      <td>66.25</td>\n",
       "      <td>1.80</td>\n",
       "      <td>0.03</td>\n",
       "      <td>22.06</td>\n",
       "      <td>201.15</td>\n",
       "    </tr>\n",
       "    <tr>\n",
       "      <th>24</th>\n",
       "      <td>pithampur</td>\n",
       "      <td>290.37</td>\n",
       "      <td>995.97</td>\n",
       "      <td>59.66</td>\n",
       "      <td>2.48</td>\n",
       "      <td>0.01</td>\n",
       "      <td>12.41</td>\n",
       "      <td>222.15</td>\n",
       "    </tr>\n",
       "    <tr>\n",
       "      <th>25</th>\n",
       "      <td>indore</td>\n",
       "      <td>290.37</td>\n",
       "      <td>995.97</td>\n",
       "      <td>59.66</td>\n",
       "      <td>2.48</td>\n",
       "      <td>0.01</td>\n",
       "      <td>12.41</td>\n",
       "      <td>222.15</td>\n",
       "    </tr>\n",
       "    <tr>\n",
       "      <th>26</th>\n",
       "      <td>ambala</td>\n",
       "      <td>285.51</td>\n",
       "      <td>999.13</td>\n",
       "      <td>68.01</td>\n",
       "      <td>2.48</td>\n",
       "      <td>0.04</td>\n",
       "      <td>25.36</td>\n",
       "      <td>193.62</td>\n",
       "    </tr>\n",
       "    <tr>\n",
       "      <th>27</th>\n",
       "      <td>sirsa</td>\n",
       "      <td>286.70</td>\n",
       "      <td>1011.17</td>\n",
       "      <td>61.95</td>\n",
       "      <td>2.16</td>\n",
       "      <td>0.01</td>\n",
       "      <td>20.40</td>\n",
       "      <td>206.62</td>\n",
       "    </tr>\n",
       "    <tr>\n",
       "      <th>28</th>\n",
       "      <td>palwal</td>\n",
       "      <td>286.86</td>\n",
       "      <td>1013.70</td>\n",
       "      <td>70.86</td>\n",
       "      <td>2.45</td>\n",
       "      <td>0.01</td>\n",
       "      <td>22.44</td>\n",
       "      <td>179.15</td>\n",
       "    </tr>\n",
       "    <tr>\n",
       "      <th>29</th>\n",
       "      <td>kurukshetra</td>\n",
       "      <td>285.85</td>\n",
       "      <td>1007.86</td>\n",
       "      <td>71.63</td>\n",
       "      <td>2.68</td>\n",
       "      <td>0.03</td>\n",
       "      <td>24.14</td>\n",
       "      <td>197.46</td>\n",
       "    </tr>\n",
       "    <tr>\n",
       "      <th>30</th>\n",
       "      <td>ballabgarh</td>\n",
       "      <td>286.28</td>\n",
       "      <td>1015.53</td>\n",
       "      <td>70.89</td>\n",
       "      <td>2.33</td>\n",
       "      <td>0.01</td>\n",
       "      <td>26.03</td>\n",
       "      <td>158.92</td>\n",
       "    </tr>\n",
       "    <tr>\n",
       "      <th>31</th>\n",
       "      <td>manesar</td>\n",
       "      <td>286.26</td>\n",
       "      <td>1015.43</td>\n",
       "      <td>80.21</td>\n",
       "      <td>2.30</td>\n",
       "      <td>0.01</td>\n",
       "      <td>29.57</td>\n",
       "      <td>140.92</td>\n",
       "    </tr>\n",
       "    <tr>\n",
       "      <th>32</th>\n",
       "      <td>narnaul</td>\n",
       "      <td>286.65</td>\n",
       "      <td>1011.86</td>\n",
       "      <td>69.03</td>\n",
       "      <td>2.29</td>\n",
       "      <td>0.01</td>\n",
       "      <td>22.68</td>\n",
       "      <td>177.00</td>\n",
       "    </tr>\n",
       "    <tr>\n",
       "      <th>33</th>\n",
       "      <td>gurugram</td>\n",
       "      <td>286.26</td>\n",
       "      <td>1015.43</td>\n",
       "      <td>80.21</td>\n",
       "      <td>2.30</td>\n",
       "      <td>0.01</td>\n",
       "      <td>29.57</td>\n",
       "      <td>140.92</td>\n",
       "    </tr>\n",
       "    <tr>\n",
       "      <th>34</th>\n",
       "      <td>karnal</td>\n",
       "      <td>286.09</td>\n",
       "      <td>1008.94</td>\n",
       "      <td>71.91</td>\n",
       "      <td>2.62</td>\n",
       "      <td>0.02</td>\n",
       "      <td>22.44</td>\n",
       "      <td>203.31</td>\n",
       "    </tr>\n",
       "    <tr>\n",
       "      <th>35</th>\n",
       "      <td>bahadurgarh</td>\n",
       "      <td>286.24</td>\n",
       "      <td>1016.28</td>\n",
       "      <td>70.97</td>\n",
       "      <td>2.34</td>\n",
       "      <td>0.01</td>\n",
       "      <td>26.23</td>\n",
       "      <td>154.69</td>\n",
       "    </tr>\n",
       "    <tr>\n",
       "      <th>36</th>\n",
       "      <td>rohtak</td>\n",
       "      <td>286.36</td>\n",
       "      <td>1015.82</td>\n",
       "      <td>60.16</td>\n",
       "      <td>2.24</td>\n",
       "      <td>0.01</td>\n",
       "      <td>26.56</td>\n",
       "      <td>76.08</td>\n",
       "    </tr>\n",
       "    <tr>\n",
       "      <th>37</th>\n",
       "      <td>kaithal</td>\n",
       "      <td>285.59</td>\n",
       "      <td>1009.80</td>\n",
       "      <td>69.36</td>\n",
       "      <td>2.44</td>\n",
       "      <td>0.04</td>\n",
       "      <td>23.10</td>\n",
       "      <td>195.23</td>\n",
       "    </tr>\n",
       "    <tr>\n",
       "      <th>38</th>\n",
       "      <td>sonipat</td>\n",
       "      <td>286.49</td>\n",
       "      <td>1013.31</td>\n",
       "      <td>70.30</td>\n",
       "      <td>2.45</td>\n",
       "      <td>0.01</td>\n",
       "      <td>23.98</td>\n",
       "      <td>174.31</td>\n",
       "    </tr>\n",
       "    <tr>\n",
       "      <th>39</th>\n",
       "      <td>faridabad</td>\n",
       "      <td>286.28</td>\n",
       "      <td>1015.53</td>\n",
       "      <td>70.89</td>\n",
       "      <td>2.33</td>\n",
       "      <td>0.01</td>\n",
       "      <td>26.03</td>\n",
       "      <td>158.92</td>\n",
       "    </tr>\n",
       "    <tr>\n",
       "      <th>40</th>\n",
       "      <td>hisar</td>\n",
       "      <td>286.86</td>\n",
       "      <td>1010.28</td>\n",
       "      <td>63.37</td>\n",
       "      <td>2.33</td>\n",
       "      <td>0.02</td>\n",
       "      <td>20.28</td>\n",
       "      <td>209.00</td>\n",
       "    </tr>\n",
       "    <tr>\n",
       "      <th>41</th>\n",
       "      <td>yamunanagar</td>\n",
       "      <td>286.53</td>\n",
       "      <td>1014.47</td>\n",
       "      <td>57.17</td>\n",
       "      <td>2.49</td>\n",
       "      <td>0.02</td>\n",
       "      <td>29.53</td>\n",
       "      <td>72.54</td>\n",
       "    </tr>\n",
       "    <tr>\n",
       "      <th>42</th>\n",
       "      <td>charkhi_dadri</td>\n",
       "      <td>286.63</td>\n",
       "      <td>1009.68</td>\n",
       "      <td>64.10</td>\n",
       "      <td>2.31</td>\n",
       "      <td>0.02</td>\n",
       "      <td>19.57</td>\n",
       "      <td>210.85</td>\n",
       "    </tr>\n",
       "    <tr>\n",
       "      <th>43</th>\n",
       "      <td>jind</td>\n",
       "      <td>286.22</td>\n",
       "      <td>1010.43</td>\n",
       "      <td>69.85</td>\n",
       "      <td>2.40</td>\n",
       "      <td>0.02</td>\n",
       "      <td>21.37</td>\n",
       "      <td>204.23</td>\n",
       "    </tr>\n",
       "    <tr>\n",
       "      <th>44</th>\n",
       "      <td>panipat</td>\n",
       "      <td>286.12</td>\n",
       "      <td>1009.00</td>\n",
       "      <td>71.65</td>\n",
       "      <td>2.56</td>\n",
       "      <td>0.02</td>\n",
       "      <td>21.98</td>\n",
       "      <td>204.92</td>\n",
       "    </tr>\n",
       "    <tr>\n",
       "      <th>45</th>\n",
       "      <td>bhiwani</td>\n",
       "      <td>286.63</td>\n",
       "      <td>1009.68</td>\n",
       "      <td>64.10</td>\n",
       "      <td>2.31</td>\n",
       "      <td>0.02</td>\n",
       "      <td>19.57</td>\n",
       "      <td>210.85</td>\n",
       "    </tr>\n",
       "    <tr>\n",
       "      <th>46</th>\n",
       "      <td>panchkula</td>\n",
       "      <td>285.46</td>\n",
       "      <td>997.80</td>\n",
       "      <td>68.14</td>\n",
       "      <td>2.29</td>\n",
       "      <td>0.04</td>\n",
       "      <td>25.80</td>\n",
       "      <td>190.38</td>\n",
       "    </tr>\n",
       "    <tr>\n",
       "      <th>47</th>\n",
       "      <td>fatehabad</td>\n",
       "      <td>286.55</td>\n",
       "      <td>1011.16</td>\n",
       "      <td>64.39</td>\n",
       "      <td>2.25</td>\n",
       "      <td>0.03</td>\n",
       "      <td>20.80</td>\n",
       "      <td>205.77</td>\n",
       "    </tr>\n",
       "    <tr>\n",
       "      <th>48</th>\n",
       "      <td>dharuhera</td>\n",
       "      <td>286.65</td>\n",
       "      <td>1011.86</td>\n",
       "      <td>69.03</td>\n",
       "      <td>2.29</td>\n",
       "      <td>0.01</td>\n",
       "      <td>22.68</td>\n",
       "      <td>177.00</td>\n",
       "    </tr>\n",
       "    <tr>\n",
       "      <th>49</th>\n",
       "      <td>ankleshwar</td>\n",
       "      <td>294.79</td>\n",
       "      <td>1016.08</td>\n",
       "      <td>52.37</td>\n",
       "      <td>2.84</td>\n",
       "      <td>0.00</td>\n",
       "      <td>8.98</td>\n",
       "      <td>252.08</td>\n",
       "    </tr>\n",
       "    <tr>\n",
       "      <th>50</th>\n",
       "      <td>gandhinagar</td>\n",
       "      <td>292.53</td>\n",
       "      <td>1015.03</td>\n",
       "      <td>56.12</td>\n",
       "      <td>2.37</td>\n",
       "      <td>0.00</td>\n",
       "      <td>10.69</td>\n",
       "      <td>224.15</td>\n",
       "    </tr>\n",
       "    <tr>\n",
       "      <th>51</th>\n",
       "      <td>surat</td>\n",
       "      <td>295.91</td>\n",
       "      <td>1018.00</td>\n",
       "      <td>66.37</td>\n",
       "      <td>3.55</td>\n",
       "      <td>0.00</td>\n",
       "      <td>8.41</td>\n",
       "      <td>251.85</td>\n",
       "    </tr>\n",
       "    <tr>\n",
       "      <th>52</th>\n",
       "      <td>vapi</td>\n",
       "      <td>295.91</td>\n",
       "      <td>1018.00</td>\n",
       "      <td>66.37</td>\n",
       "      <td>3.55</td>\n",
       "      <td>0.00</td>\n",
       "      <td>8.41</td>\n",
       "      <td>251.85</td>\n",
       "    </tr>\n",
       "    <tr>\n",
       "      <th>53</th>\n",
       "      <td>ahmedabad</td>\n",
       "      <td>292.60</td>\n",
       "      <td>1015.10</td>\n",
       "      <td>56.00</td>\n",
       "      <td>2.40</td>\n",
       "      <td>0.00</td>\n",
       "      <td>9.74</td>\n",
       "      <td>239.00</td>\n",
       "    </tr>\n",
       "    <tr>\n",
       "      <th>54</th>\n",
       "      <td>gangtok</td>\n",
       "      <td>282.98</td>\n",
       "      <td>953.96</td>\n",
       "      <td>69.51</td>\n",
       "      <td>1.33</td>\n",
       "      <td>0.03</td>\n",
       "      <td>36.14</td>\n",
       "      <td>141.46</td>\n",
       "    </tr>\n",
       "    <tr>\n",
       "      <th>55</th>\n",
       "      <td>baddi</td>\n",
       "      <td>285.46</td>\n",
       "      <td>997.80</td>\n",
       "      <td>68.14</td>\n",
       "      <td>2.29</td>\n",
       "      <td>0.04</td>\n",
       "      <td>25.80</td>\n",
       "      <td>190.38</td>\n",
       "    </tr>\n",
       "    <tr>\n",
       "      <th>56</th>\n",
       "      <td>delhi</td>\n",
       "      <td>286.20</td>\n",
       "      <td>1015.52</td>\n",
       "      <td>80.63</td>\n",
       "      <td>2.32</td>\n",
       "      <td>0.01</td>\n",
       "      <td>29.83</td>\n",
       "      <td>136.46</td>\n",
       "    </tr>\n",
       "    <tr>\n",
       "      <th>57</th>\n",
       "      <td>ludhiana</td>\n",
       "      <td>284.95</td>\n",
       "      <td>1008.25</td>\n",
       "      <td>71.84</td>\n",
       "      <td>2.35</td>\n",
       "      <td>0.04</td>\n",
       "      <td>28.58</td>\n",
       "      <td>176.62</td>\n",
       "    </tr>\n",
       "    <tr>\n",
       "      <th>58</th>\n",
       "      <td>bathinda</td>\n",
       "      <td>286.38</td>\n",
       "      <td>1011.50</td>\n",
       "      <td>63.90</td>\n",
       "      <td>2.19</td>\n",
       "      <td>0.03</td>\n",
       "      <td>22.57</td>\n",
       "      <td>193.85</td>\n",
       "    </tr>\n",
       "    <tr>\n",
       "      <th>59</th>\n",
       "      <td>mandi_gobindgarh</td>\n",
       "      <td>285.20</td>\n",
       "      <td>1008.33</td>\n",
       "      <td>68.71</td>\n",
       "      <td>2.63</td>\n",
       "      <td>0.04</td>\n",
       "      <td>25.74</td>\n",
       "      <td>185.54</td>\n",
       "    </tr>\n",
       "    <tr>\n",
       "      <th>60</th>\n",
       "      <td>khanna</td>\n",
       "      <td>285.20</td>\n",
       "      <td>1008.33</td>\n",
       "      <td>68.71</td>\n",
       "      <td>2.63</td>\n",
       "      <td>0.04</td>\n",
       "      <td>25.74</td>\n",
       "      <td>185.54</td>\n",
       "    </tr>\n",
       "    <tr>\n",
       "      <th>61</th>\n",
       "      <td>rupnagar</td>\n",
       "      <td>285.46</td>\n",
       "      <td>997.80</td>\n",
       "      <td>68.14</td>\n",
       "      <td>2.29</td>\n",
       "      <td>0.04</td>\n",
       "      <td>25.80</td>\n",
       "      <td>190.38</td>\n",
       "    </tr>\n",
       "    <tr>\n",
       "      <th>62</th>\n",
       "      <td>jalandhar</td>\n",
       "      <td>284.91</td>\n",
       "      <td>1008.78</td>\n",
       "      <td>71.71</td>\n",
       "      <td>2.19</td>\n",
       "      <td>0.03</td>\n",
       "      <td>28.46</td>\n",
       "      <td>179.85</td>\n",
       "    </tr>\n",
       "    <tr>\n",
       "      <th>63</th>\n",
       "      <td>amritsar</td>\n",
       "      <td>284.29</td>\n",
       "      <td>1014.52</td>\n",
       "      <td>73.93</td>\n",
       "      <td>1.92</td>\n",
       "      <td>0.02</td>\n",
       "      <td>36.75</td>\n",
       "      <td>132.38</td>\n",
       "    </tr>\n",
       "    <tr>\n",
       "      <th>64</th>\n",
       "      <td>patiala</td>\n",
       "      <td>285.41</td>\n",
       "      <td>1007.68</td>\n",
       "      <td>69.11</td>\n",
       "      <td>2.68</td>\n",
       "      <td>0.04</td>\n",
       "      <td>25.30</td>\n",
       "      <td>189.31</td>\n",
       "    </tr>\n",
       "    <tr>\n",
       "      <th>65</th>\n",
       "      <td>mysuru</td>\n",
       "      <td>295.24</td>\n",
       "      <td>978.44</td>\n",
       "      <td>64.18</td>\n",
       "      <td>2.75</td>\n",
       "      <td>0.09</td>\n",
       "      <td>33.09</td>\n",
       "      <td>124.62</td>\n",
       "    </tr>\n",
       "    <tr>\n",
       "      <th>66</th>\n",
       "      <td>kolar</td>\n",
       "      <td>294.44</td>\n",
       "      <td>996.79</td>\n",
       "      <td>71.17</td>\n",
       "      <td>2.89</td>\n",
       "      <td>0.03</td>\n",
       "      <td>38.24</td>\n",
       "      <td>89.00</td>\n",
       "    </tr>\n",
       "    <tr>\n",
       "      <th>67</th>\n",
       "      <td>koppal</td>\n",
       "      <td>297.06</td>\n",
       "      <td>1002.25</td>\n",
       "      <td>53.16</td>\n",
       "      <td>3.50</td>\n",
       "      <td>0.00</td>\n",
       "      <td>30.55</td>\n",
       "      <td>71.85</td>\n",
       "    </tr>\n",
       "    <tr>\n",
       "      <th>68</th>\n",
       "      <td>bidar</td>\n",
       "      <td>295.09</td>\n",
       "      <td>985.65</td>\n",
       "      <td>53.10</td>\n",
       "      <td>2.82</td>\n",
       "      <td>0.01</td>\n",
       "      <td>19.50</td>\n",
       "      <td>212.00</td>\n",
       "    </tr>\n",
       "    <tr>\n",
       "      <th>69</th>\n",
       "      <td>vijayapura</td>\n",
       "      <td>295.73</td>\n",
       "      <td>983.76</td>\n",
       "      <td>52.44</td>\n",
       "      <td>3.11</td>\n",
       "      <td>0.06</td>\n",
       "      <td>22.75</td>\n",
       "      <td>187.77</td>\n",
       "    </tr>\n",
       "    <tr>\n",
       "      <th>70</th>\n",
       "      <td>gadag</td>\n",
       "      <td>295.72</td>\n",
       "      <td>983.73</td>\n",
       "      <td>55.43</td>\n",
       "      <td>3.21</td>\n",
       "      <td>0.01</td>\n",
       "      <td>22.42</td>\n",
       "      <td>171.77</td>\n",
       "    </tr>\n",
       "    <tr>\n",
       "      <th>71</th>\n",
       "      <td>mangalore</td>\n",
       "      <td>299.73</td>\n",
       "      <td>1013.34</td>\n",
       "      <td>73.14</td>\n",
       "      <td>2.44</td>\n",
       "      <td>0.01</td>\n",
       "      <td>27.49</td>\n",
       "      <td>124.92</td>\n",
       "    </tr>\n",
       "    <tr>\n",
       "      <th>72</th>\n",
       "      <td>kalaburagi</td>\n",
       "      <td>296.21</td>\n",
       "      <td>993.63</td>\n",
       "      <td>51.00</td>\n",
       "      <td>2.74</td>\n",
       "      <td>0.01</td>\n",
       "      <td>20.00</td>\n",
       "      <td>183.62</td>\n",
       "    </tr>\n",
       "    <tr>\n",
       "      <th>73</th>\n",
       "      <td>hubballi</td>\n",
       "      <td>295.61</td>\n",
       "      <td>982.15</td>\n",
       "      <td>57.35</td>\n",
       "      <td>2.87</td>\n",
       "      <td>0.00</td>\n",
       "      <td>20.10</td>\n",
       "      <td>167.15</td>\n",
       "    </tr>\n",
       "    <tr>\n",
       "      <th>74</th>\n",
       "      <td>udupi</td>\n",
       "      <td>299.39</td>\n",
       "      <td>1009.92</td>\n",
       "      <td>71.58</td>\n",
       "      <td>2.47</td>\n",
       "      <td>0.01</td>\n",
       "      <td>28.82</td>\n",
       "      <td>127.54</td>\n",
       "    </tr>\n",
       "    <tr>\n",
       "      <th>75</th>\n",
       "      <td>belgaum</td>\n",
       "      <td>295.09</td>\n",
       "      <td>985.89</td>\n",
       "      <td>58.18</td>\n",
       "      <td>2.18</td>\n",
       "      <td>0.01</td>\n",
       "      <td>24.37</td>\n",
       "      <td>159.77</td>\n",
       "    </tr>\n",
       "    <tr>\n",
       "      <th>76</th>\n",
       "      <td>madikeri</td>\n",
       "      <td>293.95</td>\n",
       "      <td>964.60</td>\n",
       "      <td>62.78</td>\n",
       "      <td>2.71</td>\n",
       "      <td>0.09</td>\n",
       "      <td>36.09</td>\n",
       "      <td>143.31</td>\n",
       "    </tr>\n",
       "    <tr>\n",
       "      <th>77</th>\n",
       "      <td>haveri</td>\n",
       "      <td>295.61</td>\n",
       "      <td>982.15</td>\n",
       "      <td>57.35</td>\n",
       "      <td>2.87</td>\n",
       "      <td>0.00</td>\n",
       "      <td>20.10</td>\n",
       "      <td>167.15</td>\n",
       "    </tr>\n",
       "    <tr>\n",
       "      <th>78</th>\n",
       "      <td>tumakuru</td>\n",
       "      <td>294.69</td>\n",
       "      <td>996.89</td>\n",
       "      <td>66.01</td>\n",
       "      <td>2.87</td>\n",
       "      <td>0.03</td>\n",
       "      <td>36.83</td>\n",
       "      <td>100.77</td>\n",
       "    </tr>\n",
       "    <tr>\n",
       "      <th>79</th>\n",
       "      <td>bengaluru</td>\n",
       "      <td>294.62</td>\n",
       "      <td>1006.72</td>\n",
       "      <td>69.36</td>\n",
       "      <td>2.74</td>\n",
       "      <td>0.01</td>\n",
       "      <td>34.59</td>\n",
       "      <td>92.77</td>\n",
       "    </tr>\n",
       "    <tr>\n",
       "      <th>80</th>\n",
       "      <td>dharwad</td>\n",
       "      <td>295.61</td>\n",
       "      <td>982.15</td>\n",
       "      <td>57.35</td>\n",
       "      <td>2.87</td>\n",
       "      <td>0.00</td>\n",
       "      <td>20.10</td>\n",
       "      <td>167.15</td>\n",
       "    </tr>\n",
       "    <tr>\n",
       "      <th>81</th>\n",
       "      <td>hassan</td>\n",
       "      <td>293.95</td>\n",
       "      <td>964.60</td>\n",
       "      <td>62.78</td>\n",
       "      <td>2.71</td>\n",
       "      <td>0.09</td>\n",
       "      <td>36.09</td>\n",
       "      <td>143.31</td>\n",
       "    </tr>\n",
       "    <tr>\n",
       "      <th>82</th>\n",
       "      <td>shivamogga</td>\n",
       "      <td>295.87</td>\n",
       "      <td>977.25</td>\n",
       "      <td>60.48</td>\n",
       "      <td>2.57</td>\n",
       "      <td>0.07</td>\n",
       "      <td>30.56</td>\n",
       "      <td>159.62</td>\n",
       "    </tr>\n",
       "    <tr>\n",
       "      <th>83</th>\n",
       "      <td>chikkamagaluru</td>\n",
       "      <td>294.58</td>\n",
       "      <td>966.74</td>\n",
       "      <td>59.28</td>\n",
       "      <td>1.70</td>\n",
       "      <td>0.08</td>\n",
       "      <td>33.37</td>\n",
       "      <td>143.08</td>\n",
       "    </tr>\n",
       "    <tr>\n",
       "      <th>84</th>\n",
       "      <td>bagalkot</td>\n",
       "      <td>295.73</td>\n",
       "      <td>983.76</td>\n",
       "      <td>52.44</td>\n",
       "      <td>3.11</td>\n",
       "      <td>0.06</td>\n",
       "      <td>22.75</td>\n",
       "      <td>187.77</td>\n",
       "    </tr>\n",
       "    <tr>\n",
       "      <th>85</th>\n",
       "      <td>davanagere</td>\n",
       "      <td>295.47</td>\n",
       "      <td>978.51</td>\n",
       "      <td>57.92</td>\n",
       "      <td>3.35</td>\n",
       "      <td>0.07</td>\n",
       "      <td>29.90</td>\n",
       "      <td>166.00</td>\n",
       "    </tr>\n",
       "    <tr>\n",
       "      <th>86</th>\n",
       "      <td>ramanagara</td>\n",
       "      <td>295.09</td>\n",
       "      <td>985.89</td>\n",
       "      <td>58.18</td>\n",
       "      <td>2.18</td>\n",
       "      <td>0.01</td>\n",
       "      <td>24.37</td>\n",
       "      <td>159.77</td>\n",
       "    </tr>\n",
       "    <tr>\n",
       "      <th>87</th>\n",
       "      <td>raichur</td>\n",
       "      <td>296.89</td>\n",
       "      <td>997.73</td>\n",
       "      <td>57.78</td>\n",
       "      <td>3.04</td>\n",
       "      <td>0.01</td>\n",
       "      <td>25.90</td>\n",
       "      <td>182.00</td>\n",
       "    </tr>\n",
       "    <tr>\n",
       "      <th>88</th>\n",
       "      <td>karwar</td>\n",
       "      <td>298.50</td>\n",
       "      <td>1013.42</td>\n",
       "      <td>74.94</td>\n",
       "      <td>2.93</td>\n",
       "      <td>0.01</td>\n",
       "      <td>22.37</td>\n",
       "      <td>170.31</td>\n",
       "    </tr>\n",
       "    <tr>\n",
       "      <th>89</th>\n",
       "      <td>latur</td>\n",
       "      <td>294.82</td>\n",
       "      <td>984.97</td>\n",
       "      <td>50.87</td>\n",
       "      <td>2.69</td>\n",
       "      <td>0.01</td>\n",
       "      <td>18.25</td>\n",
       "      <td>209.92</td>\n",
       "    </tr>\n",
       "    <tr>\n",
       "      <th>90</th>\n",
       "      <td>kalyan</td>\n",
       "      <td>297.29</td>\n",
       "      <td>1012.63</td>\n",
       "      <td>54.81</td>\n",
       "      <td>2.05</td>\n",
       "      <td>0.00</td>\n",
       "      <td>11.14</td>\n",
       "      <td>230.54</td>\n",
       "    </tr>\n",
       "    <tr>\n",
       "      <th>91</th>\n",
       "      <td>sangli</td>\n",
       "      <td>295.11</td>\n",
       "      <td>983.74</td>\n",
       "      <td>56.52</td>\n",
       "      <td>2.56</td>\n",
       "      <td>0.00</td>\n",
       "      <td>19.46</td>\n",
       "      <td>188.15</td>\n",
       "    </tr>\n",
       "    <tr>\n",
       "      <th>92</th>\n",
       "      <td>dhule</td>\n",
       "      <td>294.62</td>\n",
       "      <td>1007.02</td>\n",
       "      <td>49.26</td>\n",
       "      <td>2.35</td>\n",
       "      <td>0.01</td>\n",
       "      <td>11.98</td>\n",
       "      <td>249.77</td>\n",
       "    </tr>\n",
       "    <tr>\n",
       "      <th>93</th>\n",
       "      <td>bhiwandi</td>\n",
       "      <td>297.54</td>\n",
       "      <td>1013.55</td>\n",
       "      <td>55.10</td>\n",
       "      <td>2.21</td>\n",
       "      <td>0.00</td>\n",
       "      <td>11.12</td>\n",
       "      <td>228.69</td>\n",
       "    </tr>\n",
       "    <tr>\n",
       "      <th>94</th>\n",
       "      <td>virar</td>\n",
       "      <td>298.38</td>\n",
       "      <td>1016.13</td>\n",
       "      <td>64.16</td>\n",
       "      <td>3.45</td>\n",
       "      <td>0.00</td>\n",
       "      <td>10.66</td>\n",
       "      <td>234.31</td>\n",
       "    </tr>\n",
       "    <tr>\n",
       "      <th>95</th>\n",
       "      <td>kolhapur</td>\n",
       "      <td>294.76</td>\n",
       "      <td>984.05</td>\n",
       "      <td>59.57</td>\n",
       "      <td>2.20</td>\n",
       "      <td>0.00</td>\n",
       "      <td>19.56</td>\n",
       "      <td>188.54</td>\n",
       "    </tr>\n",
       "    <tr>\n",
       "      <th>96</th>\n",
       "      <td>nagpur</td>\n",
       "      <td>293.77</td>\n",
       "      <td>1013.42</td>\n",
       "      <td>59.99</td>\n",
       "      <td>1.64</td>\n",
       "      <td>0.01</td>\n",
       "      <td>17.05</td>\n",
       "      <td>189.62</td>\n",
       "    </tr>\n",
       "    <tr>\n",
       "      <th>97</th>\n",
       "      <td>chandrapur</td>\n",
       "      <td>294.49</td>\n",
       "      <td>1007.29</td>\n",
       "      <td>56.25</td>\n",
       "      <td>1.92</td>\n",
       "      <td>0.01</td>\n",
       "      <td>13.53</td>\n",
       "      <td>227.31</td>\n",
       "    </tr>\n",
       "    <tr>\n",
       "      <th>98</th>\n",
       "      <td>pune</td>\n",
       "      <td>293.89</td>\n",
       "      <td>984.38</td>\n",
       "      <td>54.60</td>\n",
       "      <td>2.11</td>\n",
       "      <td>0.00</td>\n",
       "      <td>13.41</td>\n",
       "      <td>228.31</td>\n",
       "    </tr>\n",
       "    <tr>\n",
       "      <th>99</th>\n",
       "      <td>jalgaon</td>\n",
       "      <td>294.25</td>\n",
       "      <td>1006.53</td>\n",
       "      <td>49.30</td>\n",
       "      <td>2.35</td>\n",
       "      <td>0.01</td>\n",
       "      <td>11.60</td>\n",
       "      <td>249.85</td>\n",
       "    </tr>\n",
       "    <tr>\n",
       "      <th>100</th>\n",
       "      <td>solapur</td>\n",
       "      <td>296.49</td>\n",
       "      <td>990.87</td>\n",
       "      <td>49.65</td>\n",
       "      <td>2.93</td>\n",
       "      <td>0.00</td>\n",
       "      <td>18.07</td>\n",
       "      <td>214.92</td>\n",
       "    </tr>\n",
       "    <tr>\n",
       "      <th>101</th>\n",
       "      <td>ulhasnagar</td>\n",
       "      <td>297.36</td>\n",
       "      <td>1012.75</td>\n",
       "      <td>55.46</td>\n",
       "      <td>2.09</td>\n",
       "      <td>0.00</td>\n",
       "      <td>11.17</td>\n",
       "      <td>228.46</td>\n",
       "    </tr>\n",
       "    <tr>\n",
       "      <th>102</th>\n",
       "      <td>amravati</td>\n",
       "      <td>293.89</td>\n",
       "      <td>1002.11</td>\n",
       "      <td>52.30</td>\n",
       "      <td>2.31</td>\n",
       "      <td>0.02</td>\n",
       "      <td>14.86</td>\n",
       "      <td>230.00</td>\n",
       "    </tr>\n",
       "    <tr>\n",
       "      <th>103</th>\n",
       "      <td>parbhani</td>\n",
       "      <td>295.11</td>\n",
       "      <td>996.23</td>\n",
       "      <td>50.86</td>\n",
       "      <td>2.39</td>\n",
       "      <td>0.00</td>\n",
       "      <td>16.40</td>\n",
       "      <td>220.77</td>\n",
       "    </tr>\n",
       "    <tr>\n",
       "      <th>104</th>\n",
       "      <td>badlapur</td>\n",
       "      <td>294.15</td>\n",
       "      <td>999.19</td>\n",
       "      <td>49.56</td>\n",
       "      <td>2.28</td>\n",
       "      <td>0.01</td>\n",
       "      <td>14.59</td>\n",
       "      <td>234.92</td>\n",
       "    </tr>\n",
       "    <tr>\n",
       "      <th>105</th>\n",
       "      <td>akola</td>\n",
       "      <td>294.15</td>\n",
       "      <td>999.19</td>\n",
       "      <td>49.56</td>\n",
       "      <td>2.28</td>\n",
       "      <td>0.01</td>\n",
       "      <td>14.59</td>\n",
       "      <td>234.92</td>\n",
       "    </tr>\n",
       "    <tr>\n",
       "      <th>106</th>\n",
       "      <td>boisar</td>\n",
       "      <td>298.46</td>\n",
       "      <td>1015.93</td>\n",
       "      <td>65.75</td>\n",
       "      <td>3.61</td>\n",
       "      <td>0.00</td>\n",
       "      <td>9.39</td>\n",
       "      <td>244.69</td>\n",
       "    </tr>\n",
       "    <tr>\n",
       "      <th>107</th>\n",
       "      <td>mumbai</td>\n",
       "      <td>298.40</td>\n",
       "      <td>1015.77</td>\n",
       "      <td>64.39</td>\n",
       "      <td>3.17</td>\n",
       "      <td>0.00</td>\n",
       "      <td>11.22</td>\n",
       "      <td>223.62</td>\n",
       "    </tr>\n",
       "    <tr>\n",
       "      <th>108</th>\n",
       "      <td>jalna</td>\n",
       "      <td>293.82</td>\n",
       "      <td>996.42</td>\n",
       "      <td>52.71</td>\n",
       "      <td>2.31</td>\n",
       "      <td>0.00</td>\n",
       "      <td>15.30</td>\n",
       "      <td>214.69</td>\n",
       "    </tr>\n",
       "    <tr>\n",
       "      <th>109</th>\n",
       "      <td>nashik</td>\n",
       "      <td>292.83</td>\n",
       "      <td>981.66</td>\n",
       "      <td>52.38</td>\n",
       "      <td>2.20</td>\n",
       "      <td>0.00</td>\n",
       "      <td>12.67</td>\n",
       "      <td>237.69</td>\n",
       "    </tr>\n",
       "    <tr>\n",
       "      <th>110</th>\n",
       "      <td>belapur</td>\n",
       "      <td>297.61</td>\n",
       "      <td>1013.43</td>\n",
       "      <td>58.89</td>\n",
       "      <td>2.43</td>\n",
       "      <td>0.00</td>\n",
       "      <td>11.68</td>\n",
       "      <td>219.08</td>\n",
       "    </tr>\n",
       "    <tr>\n",
       "      <th>111</th>\n",
       "      <td>malegaon</td>\n",
       "      <td>293.67</td>\n",
       "      <td>987.64</td>\n",
       "      <td>49.72</td>\n",
       "      <td>2.32</td>\n",
       "      <td>0.00</td>\n",
       "      <td>12.69</td>\n",
       "      <td>242.46</td>\n",
       "    </tr>\n",
       "    <tr>\n",
       "      <th>112</th>\n",
       "      <td>thane</td>\n",
       "      <td>297.86</td>\n",
       "      <td>1014.56</td>\n",
       "      <td>60.58</td>\n",
       "      <td>2.66</td>\n",
       "      <td>0.00</td>\n",
       "      <td>11.28</td>\n",
       "      <td>222.38</td>\n",
       "    </tr>\n",
       "    <tr>\n",
       "      <th>113</th>\n",
       "      <td>navi_mumbai</td>\n",
       "      <td>297.61</td>\n",
       "      <td>1013.43</td>\n",
       "      <td>58.89</td>\n",
       "      <td>2.43</td>\n",
       "      <td>0.00</td>\n",
       "      <td>11.68</td>\n",
       "      <td>219.08</td>\n",
       "    </tr>\n",
       "    <tr>\n",
       "      <th>114</th>\n",
       "      <td>mahad</td>\n",
       "      <td>296.10</td>\n",
       "      <td>1004.94</td>\n",
       "      <td>63.79</td>\n",
       "      <td>1.75</td>\n",
       "      <td>0.00</td>\n",
       "      <td>12.32</td>\n",
       "      <td>233.38</td>\n",
       "    </tr>\n",
       "    <tr>\n",
       "      <th>115</th>\n",
       "      <td>nanded</td>\n",
       "      <td>293.77</td>\n",
       "      <td>1013.42</td>\n",
       "      <td>59.99</td>\n",
       "      <td>1.64</td>\n",
       "      <td>0.01</td>\n",
       "      <td>17.05</td>\n",
       "      <td>189.62</td>\n",
       "    </tr>\n",
       "    <tr>\n",
       "      <th>116</th>\n",
       "      <td>sirohi</td>\n",
       "      <td>291.25</td>\n",
       "      <td>1010.01</td>\n",
       "      <td>50.55</td>\n",
       "      <td>2.33</td>\n",
       "      <td>0.00</td>\n",
       "      <td>8.90</td>\n",
       "      <td>245.38</td>\n",
       "    </tr>\n",
       "    <tr>\n",
       "      <th>117</th>\n",
       "      <td>baran</td>\n",
       "      <td>288.94</td>\n",
       "      <td>1001.89</td>\n",
       "      <td>58.57</td>\n",
       "      <td>1.94</td>\n",
       "      <td>0.01</td>\n",
       "      <td>11.71</td>\n",
       "      <td>246.77</td>\n",
       "    </tr>\n",
       "    <tr>\n",
       "      <th>118</th>\n",
       "      <td>banswara</td>\n",
       "      <td>290.34</td>\n",
       "      <td>993.51</td>\n",
       "      <td>53.93</td>\n",
       "      <td>2.93</td>\n",
       "      <td>0.01</td>\n",
       "      <td>10.31</td>\n",
       "      <td>245.31</td>\n",
       "    </tr>\n",
       "    <tr>\n",
       "      <th>119</th>\n",
       "      <td>hanumangarh</td>\n",
       "      <td>286.82</td>\n",
       "      <td>1012.65</td>\n",
       "      <td>60.03</td>\n",
       "      <td>2.13</td>\n",
       "      <td>0.01</td>\n",
       "      <td>20.15</td>\n",
       "      <td>204.69</td>\n",
       "    </tr>\n",
       "    <tr>\n",
       "      <th>120</th>\n",
       "      <td>bharatpur</td>\n",
       "      <td>287.25</td>\n",
       "      <td>1010.78</td>\n",
       "      <td>68.27</td>\n",
       "      <td>2.14</td>\n",
       "      <td>0.01</td>\n",
       "      <td>15.59</td>\n",
       "      <td>231.31</td>\n",
       "    </tr>\n",
       "    <tr>\n",
       "      <th>121</th>\n",
       "      <td>bikaner</td>\n",
       "      <td>287.73</td>\n",
       "      <td>1010.36</td>\n",
       "      <td>54.07</td>\n",
       "      <td>2.40</td>\n",
       "      <td>0.01</td>\n",
       "      <td>15.60</td>\n",
       "      <td>226.77</td>\n",
       "    </tr>\n",
       "    <tr>\n",
       "      <th>122</th>\n",
       "      <td>jalore</td>\n",
       "      <td>289.90</td>\n",
       "      <td>1009.34</td>\n",
       "      <td>46.61</td>\n",
       "      <td>2.53</td>\n",
       "      <td>0.00</td>\n",
       "      <td>9.89</td>\n",
       "      <td>259.46</td>\n",
       "    </tr>\n",
       "    <tr>\n",
       "      <th>123</th>\n",
       "      <td>bhiwadi</td>\n",
       "      <td>286.65</td>\n",
       "      <td>1011.86</td>\n",
       "      <td>69.03</td>\n",
       "      <td>2.29</td>\n",
       "      <td>0.01</td>\n",
       "      <td>22.68</td>\n",
       "      <td>177.00</td>\n",
       "    </tr>\n",
       "    <tr>\n",
       "      <th>124</th>\n",
       "      <td>sikar</td>\n",
       "      <td>286.98</td>\n",
       "      <td>997.84</td>\n",
       "      <td>51.59</td>\n",
       "      <td>2.34</td>\n",
       "      <td>0.01</td>\n",
       "      <td>14.90</td>\n",
       "      <td>232.31</td>\n",
       "    </tr>\n",
       "    <tr>\n",
       "      <th>125</th>\n",
       "      <td>karauli</td>\n",
       "      <td>287.87</td>\n",
       "      <td>1006.77</td>\n",
       "      <td>60.05</td>\n",
       "      <td>2.05</td>\n",
       "      <td>0.01</td>\n",
       "      <td>13.56</td>\n",
       "      <td>236.46</td>\n",
       "    </tr>\n",
       "    <tr>\n",
       "      <th>126</th>\n",
       "      <td>bhilwara</td>\n",
       "      <td>288.40</td>\n",
       "      <td>996.71</td>\n",
       "      <td>56.29</td>\n",
       "      <td>2.16</td>\n",
       "      <td>0.01</td>\n",
       "      <td>11.39</td>\n",
       "      <td>230.08</td>\n",
       "    </tr>\n",
       "    <tr>\n",
       "      <th>127</th>\n",
       "      <td>alwar</td>\n",
       "      <td>286.65</td>\n",
       "      <td>1004.95</td>\n",
       "      <td>62.64</td>\n",
       "      <td>1.91</td>\n",
       "      <td>0.02</td>\n",
       "      <td>16.32</td>\n",
       "      <td>224.08</td>\n",
       "    </tr>\n",
       "    <tr>\n",
       "      <th>128</th>\n",
       "      <td>bundi</td>\n",
       "      <td>288.94</td>\n",
       "      <td>1001.89</td>\n",
       "      <td>58.57</td>\n",
       "      <td>1.94</td>\n",
       "      <td>0.01</td>\n",
       "      <td>11.71</td>\n",
       "      <td>246.77</td>\n",
       "    </tr>\n",
       "    <tr>\n",
       "      <th>129</th>\n",
       "      <td>dausa</td>\n",
       "      <td>288.30</td>\n",
       "      <td>1014.04</td>\n",
       "      <td>61.94</td>\n",
       "      <td>1.98</td>\n",
       "      <td>0.00</td>\n",
       "      <td>19.86</td>\n",
       "      <td>170.69</td>\n",
       "    </tr>\n",
       "    <tr>\n",
       "      <th>130</th>\n",
       "      <td>chittorgarh</td>\n",
       "      <td>288.91</td>\n",
       "      <td>997.22</td>\n",
       "      <td>56.47</td>\n",
       "      <td>2.21</td>\n",
       "      <td>0.01</td>\n",
       "      <td>10.98</td>\n",
       "      <td>233.15</td>\n",
       "    </tr>\n",
       "    <tr>\n",
       "      <th>131</th>\n",
       "      <td>barmer</td>\n",
       "      <td>289.42</td>\n",
       "      <td>1007.51</td>\n",
       "      <td>45.77</td>\n",
       "      <td>2.82</td>\n",
       "      <td>0.01</td>\n",
       "      <td>10.81</td>\n",
       "      <td>256.38</td>\n",
       "    </tr>\n",
       "    <tr>\n",
       "      <th>132</th>\n",
       "      <td>jaipur</td>\n",
       "      <td>288.30</td>\n",
       "      <td>1014.04</td>\n",
       "      <td>61.94</td>\n",
       "      <td>1.98</td>\n",
       "      <td>0.00</td>\n",
       "      <td>19.86</td>\n",
       "      <td>170.69</td>\n",
       "    </tr>\n",
       "    <tr>\n",
       "      <th>133</th>\n",
       "      <td>jaisalmer</td>\n",
       "      <td>288.45</td>\n",
       "      <td>1018.06</td>\n",
       "      <td>55.65</td>\n",
       "      <td>2.53</td>\n",
       "      <td>0.01</td>\n",
       "      <td>15.79</td>\n",
       "      <td>210.69</td>\n",
       "    </tr>\n",
       "    <tr>\n",
       "      <th>134</th>\n",
       "      <td>pratapgarh</td>\n",
       "      <td>289.61</td>\n",
       "      <td>996.62</td>\n",
       "      <td>56.69</td>\n",
       "      <td>2.68</td>\n",
       "      <td>0.01</td>\n",
       "      <td>9.99</td>\n",
       "      <td>251.46</td>\n",
       "    </tr>\n",
       "    <tr>\n",
       "      <th>135</th>\n",
       "      <td>sawai_madhopur</td>\n",
       "      <td>288.16</td>\n",
       "      <td>1006.62</td>\n",
       "      <td>60.30</td>\n",
       "      <td>1.86</td>\n",
       "      <td>0.01</td>\n",
       "      <td>11.97</td>\n",
       "      <td>245.15</td>\n",
       "    </tr>\n",
       "    <tr>\n",
       "      <th>136</th>\n",
       "      <td>jhalawar</td>\n",
       "      <td>288.94</td>\n",
       "      <td>1001.89</td>\n",
       "      <td>58.57</td>\n",
       "      <td>1.94</td>\n",
       "      <td>0.01</td>\n",
       "      <td>11.71</td>\n",
       "      <td>246.77</td>\n",
       "    </tr>\n",
       "    <tr>\n",
       "      <th>137</th>\n",
       "      <td>jhunjhunu</td>\n",
       "      <td>286.97</td>\n",
       "      <td>1004.59</td>\n",
       "      <td>53.69</td>\n",
       "      <td>2.28</td>\n",
       "      <td>0.02</td>\n",
       "      <td>16.87</td>\n",
       "      <td>222.69</td>\n",
       "    </tr>\n",
       "    <tr>\n",
       "      <th>138</th>\n",
       "      <td>nagaur</td>\n",
       "      <td>287.73</td>\n",
       "      <td>1010.36</td>\n",
       "      <td>54.07</td>\n",
       "      <td>2.40</td>\n",
       "      <td>0.01</td>\n",
       "      <td>15.60</td>\n",
       "      <td>226.77</td>\n",
       "    </tr>\n",
       "    <tr>\n",
       "      <th>139</th>\n",
       "      <td>ajmer</td>\n",
       "      <td>287.99</td>\n",
       "      <td>996.77</td>\n",
       "      <td>51.56</td>\n",
       "      <td>2.28</td>\n",
       "      <td>0.01</td>\n",
       "      <td>11.62</td>\n",
       "      <td>252.69</td>\n",
       "    </tr>\n",
       "    <tr>\n",
       "      <th>140</th>\n",
       "      <td>rajsamand</td>\n",
       "      <td>288.20</td>\n",
       "      <td>989.22</td>\n",
       "      <td>54.18</td>\n",
       "      <td>2.12</td>\n",
       "      <td>0.01</td>\n",
       "      <td>11.27</td>\n",
       "      <td>238.46</td>\n",
       "    </tr>\n",
       "    <tr>\n",
       "      <th>141</th>\n",
       "      <td>jodhpur</td>\n",
       "      <td>289.42</td>\n",
       "      <td>1007.51</td>\n",
       "      <td>45.77</td>\n",
       "      <td>2.82</td>\n",
       "      <td>0.01</td>\n",
       "      <td>10.81</td>\n",
       "      <td>256.38</td>\n",
       "    </tr>\n",
       "    <tr>\n",
       "      <th>142</th>\n",
       "      <td>sri_ganganagar</td>\n",
       "      <td>286.61</td>\n",
       "      <td>1013.57</td>\n",
       "      <td>61.90</td>\n",
       "      <td>2.04</td>\n",
       "      <td>0.01</td>\n",
       "      <td>21.81</td>\n",
       "      <td>186.54</td>\n",
       "    </tr>\n",
       "    <tr>\n",
       "      <th>143</th>\n",
       "      <td>pali</td>\n",
       "      <td>289.90</td>\n",
       "      <td>1009.34</td>\n",
       "      <td>46.61</td>\n",
       "      <td>2.53</td>\n",
       "      <td>0.00</td>\n",
       "      <td>9.89</td>\n",
       "      <td>259.46</td>\n",
       "    </tr>\n",
       "    <tr>\n",
       "      <th>144</th>\n",
       "      <td>kota</td>\n",
       "      <td>288.94</td>\n",
       "      <td>1001.89</td>\n",
       "      <td>58.57</td>\n",
       "      <td>1.94</td>\n",
       "      <td>0.01</td>\n",
       "      <td>11.71</td>\n",
       "      <td>246.77</td>\n",
       "    </tr>\n",
       "    <tr>\n",
       "      <th>145</th>\n",
       "      <td>dholpur</td>\n",
       "      <td>287.59</td>\n",
       "      <td>1013.72</td>\n",
       "      <td>68.13</td>\n",
       "      <td>2.11</td>\n",
       "      <td>0.02</td>\n",
       "      <td>15.42</td>\n",
       "      <td>225.69</td>\n",
       "    </tr>\n",
       "    <tr>\n",
       "      <th>146</th>\n",
       "      <td>dungarpur</td>\n",
       "      <td>288.20</td>\n",
       "      <td>989.22</td>\n",
       "      <td>54.18</td>\n",
       "      <td>2.12</td>\n",
       "      <td>0.01</td>\n",
       "      <td>11.27</td>\n",
       "      <td>238.46</td>\n",
       "    </tr>\n",
       "    <tr>\n",
       "      <th>147</th>\n",
       "      <td>tonk</td>\n",
       "      <td>288.41</td>\n",
       "      <td>1003.98</td>\n",
       "      <td>57.82</td>\n",
       "      <td>2.13</td>\n",
       "      <td>0.01</td>\n",
       "      <td>12.22</td>\n",
       "      <td>247.62</td>\n",
       "    </tr>\n",
       "    <tr>\n",
       "      <th>148</th>\n",
       "      <td>churu</td>\n",
       "      <td>287.40</td>\n",
       "      <td>1005.02</td>\n",
       "      <td>51.46</td>\n",
       "      <td>2.36</td>\n",
       "      <td>0.01</td>\n",
       "      <td>17.47</td>\n",
       "      <td>220.92</td>\n",
       "    </tr>\n",
       "    <tr>\n",
       "      <th>149</th>\n",
       "      <td>udaipur</td>\n",
       "      <td>288.20</td>\n",
       "      <td>989.22</td>\n",
       "      <td>54.18</td>\n",
       "      <td>2.12</td>\n",
       "      <td>0.01</td>\n",
       "      <td>11.27</td>\n",
       "      <td>238.46</td>\n",
       "    </tr>\n",
       "    <tr>\n",
       "      <th>150</th>\n",
       "      <td>chandigarh</td>\n",
       "      <td>285.46</td>\n",
       "      <td>997.80</td>\n",
       "      <td>68.14</td>\n",
       "      <td>2.29</td>\n",
       "      <td>0.04</td>\n",
       "      <td>25.80</td>\n",
       "      <td>190.38</td>\n",
       "    </tr>\n",
       "    <tr>\n",
       "      <th>151</th>\n",
       "      <td>thiruvananthapuram</td>\n",
       "      <td>301.06</td>\n",
       "      <td>1010.78</td>\n",
       "      <td>73.05</td>\n",
       "      <td>2.06</td>\n",
       "      <td>0.02</td>\n",
       "      <td>29.62</td>\n",
       "      <td>23.31</td>\n",
       "    </tr>\n",
       "    <tr>\n",
       "      <th>152</th>\n",
       "      <td>thrissur</td>\n",
       "      <td>300.01</td>\n",
       "      <td>1011.66</td>\n",
       "      <td>68.17</td>\n",
       "      <td>2.58</td>\n",
       "      <td>0.02</td>\n",
       "      <td>35.34</td>\n",
       "      <td>101.00</td>\n",
       "    </tr>\n",
       "    <tr>\n",
       "      <th>153</th>\n",
       "      <td>kozhikode</td>\n",
       "      <td>299.88</td>\n",
       "      <td>1011.14</td>\n",
       "      <td>72.68</td>\n",
       "      <td>2.45</td>\n",
       "      <td>0.01</td>\n",
       "      <td>31.02</td>\n",
       "      <td>86.92</td>\n",
       "    </tr>\n",
       "    <tr>\n",
       "      <th>154</th>\n",
       "      <td>kollam</td>\n",
       "      <td>300.39</td>\n",
       "      <td>1012.37</td>\n",
       "      <td>75.81</td>\n",
       "      <td>2.48</td>\n",
       "      <td>0.04</td>\n",
       "      <td>36.57</td>\n",
       "      <td>39.38</td>\n",
       "    </tr>\n",
       "    <tr>\n",
       "      <th>155</th>\n",
       "      <td>kannur</td>\n",
       "      <td>299.88</td>\n",
       "      <td>1011.14</td>\n",
       "      <td>72.68</td>\n",
       "      <td>2.45</td>\n",
       "      <td>0.01</td>\n",
       "      <td>31.02</td>\n",
       "      <td>86.92</td>\n",
       "    </tr>\n",
       "    <tr>\n",
       "      <th>156</th>\n",
       "      <td>eloor</td>\n",
       "      <td>299.86</td>\n",
       "      <td>1013.85</td>\n",
       "      <td>73.01</td>\n",
       "      <td>2.38</td>\n",
       "      <td>0.08</td>\n",
       "      <td>35.98</td>\n",
       "      <td>98.46</td>\n",
       "    </tr>\n",
       "    <tr>\n",
       "      <th>157</th>\n",
       "      <td>ernakulam</td>\n",
       "      <td>299.86</td>\n",
       "      <td>1013.85</td>\n",
       "      <td>73.01</td>\n",
       "      <td>2.38</td>\n",
       "      <td>0.08</td>\n",
       "      <td>35.98</td>\n",
       "      <td>98.46</td>\n",
       "    </tr>\n",
       "    <tr>\n",
       "      <th>158</th>\n",
       "      <td>kochi</td>\n",
       "      <td>299.86</td>\n",
       "      <td>1013.85</td>\n",
       "      <td>73.01</td>\n",
       "      <td>2.38</td>\n",
       "      <td>0.08</td>\n",
       "      <td>35.98</td>\n",
       "      <td>98.46</td>\n",
       "    </tr>\n",
       "    <tr>\n",
       "      <th>159</th>\n",
       "      <td>raipur</td>\n",
       "      <td>292.97</td>\n",
       "      <td>1004.17</td>\n",
       "      <td>61.20</td>\n",
       "      <td>1.84</td>\n",
       "      <td>0.01</td>\n",
       "      <td>15.77</td>\n",
       "      <td>199.00</td>\n",
       "    </tr>\n",
       "    <tr>\n",
       "      <th>160</th>\n",
       "      <td>aizawl</td>\n",
       "      <td>287.16</td>\n",
       "      <td>990.53</td>\n",
       "      <td>76.78</td>\n",
       "      <td>1.06</td>\n",
       "      <td>0.02</td>\n",
       "      <td>24.40</td>\n",
       "      <td>165.31</td>\n",
       "    </tr>\n",
       "    <tr>\n",
       "      <th>161</th>\n",
       "      <td>silchar</td>\n",
       "      <td>289.70</td>\n",
       "      <td>1008.65</td>\n",
       "      <td>73.45</td>\n",
       "      <td>1.29</td>\n",
       "      <td>0.08</td>\n",
       "      <td>21.58</td>\n",
       "      <td>213.38</td>\n",
       "    </tr>\n",
       "    <tr>\n",
       "      <th>162</th>\n",
       "      <td>nalbari</td>\n",
       "      <td>290.22</td>\n",
       "      <td>1013.45</td>\n",
       "      <td>79.79</td>\n",
       "      <td>1.50</td>\n",
       "      <td>0.01</td>\n",
       "      <td>35.12</td>\n",
       "      <td>85.69</td>\n",
       "    </tr>\n",
       "    <tr>\n",
       "      <th>163</th>\n",
       "      <td>guwahati</td>\n",
       "      <td>290.22</td>\n",
       "      <td>1013.45</td>\n",
       "      <td>79.79</td>\n",
       "      <td>1.50</td>\n",
       "      <td>0.01</td>\n",
       "      <td>35.12</td>\n",
       "      <td>85.69</td>\n",
       "    </tr>\n",
       "    <tr>\n",
       "      <th>164</th>\n",
       "      <td>nagaon</td>\n",
       "      <td>290.22</td>\n",
       "      <td>1013.45</td>\n",
       "      <td>79.79</td>\n",
       "      <td>1.50</td>\n",
       "      <td>0.01</td>\n",
       "      <td>35.12</td>\n",
       "      <td>85.69</td>\n",
       "    </tr>\n",
       "    <tr>\n",
       "      <th>165</th>\n",
       "      <td>sivasagar</td>\n",
       "      <td>288.80</td>\n",
       "      <td>1010.92</td>\n",
       "      <td>71.55</td>\n",
       "      <td>1.44</td>\n",
       "      <td>0.02</td>\n",
       "      <td>32.29</td>\n",
       "      <td>95.08</td>\n",
       "    </tr>\n",
       "    <tr>\n",
       "      <th>166</th>\n",
       "      <td>shillong</td>\n",
       "      <td>286.27</td>\n",
       "      <td>984.09</td>\n",
       "      <td>76.99</td>\n",
       "      <td>1.17</td>\n",
       "      <td>0.02</td>\n",
       "      <td>33.25</td>\n",
       "      <td>93.15</td>\n",
       "    </tr>\n",
       "    <tr>\n",
       "      <th>167</th>\n",
       "      <td>tiruchirappalli</td>\n",
       "      <td>298.80</td>\n",
       "      <td>1012.71</td>\n",
       "      <td>72.95</td>\n",
       "      <td>3.15</td>\n",
       "      <td>0.01</td>\n",
       "      <td>32.62</td>\n",
       "      <td>29.69</td>\n",
       "    </tr>\n",
       "    <tr>\n",
       "      <th>168</th>\n",
       "      <td>nagapattinam</td>\n",
       "      <td>297.49</td>\n",
       "      <td>1017.03</td>\n",
       "      <td>76.86</td>\n",
       "      <td>3.68</td>\n",
       "      <td>0.03</td>\n",
       "      <td>39.77</td>\n",
       "      <td>91.08</td>\n",
       "    </tr>\n",
       "    <tr>\n",
       "      <th>169</th>\n",
       "      <td>coimbatore</td>\n",
       "      <td>297.33</td>\n",
       "      <td>1001.13</td>\n",
       "      <td>66.30</td>\n",
       "      <td>2.33</td>\n",
       "      <td>0.02</td>\n",
       "      <td>35.43</td>\n",
       "      <td>54.77</td>\n",
       "    </tr>\n",
       "    <tr>\n",
       "      <th>170</th>\n",
       "      <td>vellore</td>\n",
       "      <td>295.66</td>\n",
       "      <td>1001.07</td>\n",
       "      <td>74.38</td>\n",
       "      <td>2.30</td>\n",
       "      <td>0.02</td>\n",
       "      <td>35.85</td>\n",
       "      <td>125.92</td>\n",
       "    </tr>\n",
       "    <tr>\n",
       "      <th>171</th>\n",
       "      <td>ranipet</td>\n",
       "      <td>295.66</td>\n",
       "      <td>1001.07</td>\n",
       "      <td>74.38</td>\n",
       "      <td>2.30</td>\n",
       "      <td>0.02</td>\n",
       "      <td>35.85</td>\n",
       "      <td>125.92</td>\n",
       "    </tr>\n",
       "    <tr>\n",
       "      <th>172</th>\n",
       "      <td>dindigul</td>\n",
       "      <td>297.29</td>\n",
       "      <td>999.10</td>\n",
       "      <td>71.89</td>\n",
       "      <td>1.93</td>\n",
       "      <td>0.03</td>\n",
       "      <td>41.24</td>\n",
       "      <td>45.08</td>\n",
       "    </tr>\n",
       "    <tr>\n",
       "      <th>173</th>\n",
       "      <td>ooty</td>\n",
       "      <td>297.33</td>\n",
       "      <td>1001.13</td>\n",
       "      <td>66.30</td>\n",
       "      <td>2.33</td>\n",
       "      <td>0.02</td>\n",
       "      <td>35.43</td>\n",
       "      <td>54.77</td>\n",
       "    </tr>\n",
       "    <tr>\n",
       "      <th>174</th>\n",
       "      <td>kanchipuram</td>\n",
       "      <td>298.13</td>\n",
       "      <td>1013.28</td>\n",
       "      <td>75.07</td>\n",
       "      <td>2.90</td>\n",
       "      <td>0.01</td>\n",
       "      <td>37.32</td>\n",
       "      <td>44.31</td>\n",
       "    </tr>\n",
       "    <tr>\n",
       "      <th>175</th>\n",
       "      <td>tirunelveli</td>\n",
       "      <td>298.12</td>\n",
       "      <td>1002.80</td>\n",
       "      <td>73.50</td>\n",
       "      <td>2.68</td>\n",
       "      <td>0.05</td>\n",
       "      <td>41.18</td>\n",
       "      <td>89.15</td>\n",
       "    </tr>\n",
       "    <tr>\n",
       "      <th>176</th>\n",
       "      <td>chennai</td>\n",
       "      <td>299.01</td>\n",
       "      <td>1014.56</td>\n",
       "      <td>76.84</td>\n",
       "      <td>2.97</td>\n",
       "      <td>0.01</td>\n",
       "      <td>32.50</td>\n",
       "      <td>29.54</td>\n",
       "    </tr>\n",
       "    <tr>\n",
       "      <th>177</th>\n",
       "      <td>perundurai</td>\n",
       "      <td>297.17</td>\n",
       "      <td>1001.22</td>\n",
       "      <td>69.02</td>\n",
       "      <td>1.91</td>\n",
       "      <td>0.02</td>\n",
       "      <td>39.13</td>\n",
       "      <td>108.23</td>\n",
       "    </tr>\n",
       "    <tr>\n",
       "      <th>178</th>\n",
       "      <td>thanjavur</td>\n",
       "      <td>298.49</td>\n",
       "      <td>1013.75</td>\n",
       "      <td>75.66</td>\n",
       "      <td>3.35</td>\n",
       "      <td>0.02</td>\n",
       "      <td>39.24</td>\n",
       "      <td>39.69</td>\n",
       "    </tr>\n",
       "    <tr>\n",
       "      <th>179</th>\n",
       "      <td>cuddalore</td>\n",
       "      <td>298.47</td>\n",
       "      <td>1017.82</td>\n",
       "      <td>82.68</td>\n",
       "      <td>4.46</td>\n",
       "      <td>0.03</td>\n",
       "      <td>38.63</td>\n",
       "      <td>96.54</td>\n",
       "    </tr>\n",
       "    <tr>\n",
       "      <th>180</th>\n",
       "      <td>karur</td>\n",
       "      <td>297.17</td>\n",
       "      <td>1001.22</td>\n",
       "      <td>69.02</td>\n",
       "      <td>1.91</td>\n",
       "      <td>0.02</td>\n",
       "      <td>39.13</td>\n",
       "      <td>108.23</td>\n",
       "    </tr>\n",
       "    <tr>\n",
       "      <th>181</th>\n",
       "      <td>thoothukudi</td>\n",
       "      <td>298.12</td>\n",
       "      <td>1002.80</td>\n",
       "      <td>73.50</td>\n",
       "      <td>2.68</td>\n",
       "      <td>0.05</td>\n",
       "      <td>41.18</td>\n",
       "      <td>89.15</td>\n",
       "    </tr>\n",
       "    <tr>\n",
       "      <th>182</th>\n",
       "      <td>pudukottai</td>\n",
       "      <td>298.39</td>\n",
       "      <td>1012.25</td>\n",
       "      <td>74.34</td>\n",
       "      <td>3.44</td>\n",
       "      <td>0.02</td>\n",
       "      <td>40.92</td>\n",
       "      <td>38.69</td>\n",
       "    </tr>\n",
       "    <tr>\n",
       "      <th>183</th>\n",
       "      <td>ariyalur</td>\n",
       "      <td>299.01</td>\n",
       "      <td>1014.56</td>\n",
       "      <td>76.84</td>\n",
       "      <td>2.97</td>\n",
       "      <td>0.01</td>\n",
       "      <td>32.50</td>\n",
       "      <td>29.54</td>\n",
       "    </tr>\n",
       "    <tr>\n",
       "      <th>184</th>\n",
       "      <td>salem</td>\n",
       "      <td>296.87</td>\n",
       "      <td>1001.93</td>\n",
       "      <td>69.89</td>\n",
       "      <td>2.10</td>\n",
       "      <td>0.03</td>\n",
       "      <td>36.71</td>\n",
       "      <td>104.69</td>\n",
       "    </tr>\n",
       "    <tr>\n",
       "      <th>185</th>\n",
       "      <td>madurai</td>\n",
       "      <td>298.39</td>\n",
       "      <td>1007.58</td>\n",
       "      <td>70.56</td>\n",
       "      <td>2.53</td>\n",
       "      <td>0.02</td>\n",
       "      <td>38.32</td>\n",
       "      <td>41.62</td>\n",
       "    </tr>\n",
       "    <tr>\n",
       "      <th>186</th>\n",
       "      <td>ramanathapuram</td>\n",
       "      <td>298.39</td>\n",
       "      <td>1007.58</td>\n",
       "      <td>70.56</td>\n",
       "      <td>2.53</td>\n",
       "      <td>0.02</td>\n",
       "      <td>38.32</td>\n",
       "      <td>41.62</td>\n",
       "    </tr>\n",
       "    <tr>\n",
       "      <th>187</th>\n",
       "      <td>virudhunagar</td>\n",
       "      <td>298.39</td>\n",
       "      <td>1007.58</td>\n",
       "      <td>70.56</td>\n",
       "      <td>2.53</td>\n",
       "      <td>0.02</td>\n",
       "      <td>38.32</td>\n",
       "      <td>41.62</td>\n",
       "    </tr>\n",
       "    <tr>\n",
       "      <th>188</th>\n",
       "      <td>hosur</td>\n",
       "      <td>294.56</td>\n",
       "      <td>1003.55</td>\n",
       "      <td>70.44</td>\n",
       "      <td>2.72</td>\n",
       "      <td>0.02</td>\n",
       "      <td>38.93</td>\n",
       "      <td>85.46</td>\n",
       "    </tr>\n",
       "    <tr>\n",
       "      <th>189</th>\n",
       "      <td>chengalpattu</td>\n",
       "      <td>298.13</td>\n",
       "      <td>1013.28</td>\n",
       "      <td>75.07</td>\n",
       "      <td>2.90</td>\n",
       "      <td>0.01</td>\n",
       "      <td>37.32</td>\n",
       "      <td>44.31</td>\n",
       "    </tr>\n",
       "    <tr>\n",
       "      <th>190</th>\n",
       "      <td>kolkata</td>\n",
       "      <td>291.82</td>\n",
       "      <td>1014.81</td>\n",
       "      <td>72.64</td>\n",
       "      <td>2.16</td>\n",
       "      <td>0.01</td>\n",
       "      <td>20.43</td>\n",
       "      <td>188.77</td>\n",
       "    </tr>\n",
       "    <tr>\n",
       "      <th>191</th>\n",
       "      <td>haldia</td>\n",
       "      <td>293.10</td>\n",
       "      <td>1019.97</td>\n",
       "      <td>61.19</td>\n",
       "      <td>2.57</td>\n",
       "      <td>0.01</td>\n",
       "      <td>18.83</td>\n",
       "      <td>220.54</td>\n",
       "    </tr>\n",
       "    <tr>\n",
       "      <th>192</th>\n",
       "      <td>durgapur</td>\n",
       "      <td>291.09</td>\n",
       "      <td>1017.39</td>\n",
       "      <td>63.83</td>\n",
       "      <td>2.32</td>\n",
       "      <td>0.01</td>\n",
       "      <td>15.40</td>\n",
       "      <td>197.46</td>\n",
       "    </tr>\n",
       "    <tr>\n",
       "      <th>193</th>\n",
       "      <td>siliguri</td>\n",
       "      <td>288.98</td>\n",
       "      <td>976.05</td>\n",
       "      <td>64.14</td>\n",
       "      <td>1.55</td>\n",
       "      <td>0.03</td>\n",
       "      <td>28.36</td>\n",
       "      <td>170.77</td>\n",
       "    </tr>\n",
       "    <tr>\n",
       "      <th>194</th>\n",
       "      <td>asansol</td>\n",
       "      <td>292.04</td>\n",
       "      <td>1013.82</td>\n",
       "      <td>60.61</td>\n",
       "      <td>2.44</td>\n",
       "      <td>0.05</td>\n",
       "      <td>21.89</td>\n",
       "      <td>186.69</td>\n",
       "    </tr>\n",
       "    <tr>\n",
       "      <th>195</th>\n",
       "      <td>howrah</td>\n",
       "      <td>291.80</td>\n",
       "      <td>1015.70</td>\n",
       "      <td>72.85</td>\n",
       "      <td>2.16</td>\n",
       "      <td>0.01</td>\n",
       "      <td>20.53</td>\n",
       "      <td>188.92</td>\n",
       "    </tr>\n",
       "    <tr>\n",
       "      <th>196</th>\n",
       "      <td>barrackpore</td>\n",
       "      <td>291.87</td>\n",
       "      <td>1014.81</td>\n",
       "      <td>72.11</td>\n",
       "      <td>2.16</td>\n",
       "      <td>0.01</td>\n",
       "      <td>18.48</td>\n",
       "      <td>190.23</td>\n",
       "    </tr>\n",
       "    <tr>\n",
       "      <th>197</th>\n",
       "      <td>agra</td>\n",
       "      <td>287.48</td>\n",
       "      <td>1013.13</td>\n",
       "      <td>69.28</td>\n",
       "      <td>2.23</td>\n",
       "      <td>0.01</td>\n",
       "      <td>15.15</td>\n",
       "      <td>229.46</td>\n",
       "    </tr>\n",
       "    <tr>\n",
       "      <th>198</th>\n",
       "      <td>prayagraj</td>\n",
       "      <td>288.67</td>\n",
       "      <td>1015.41</td>\n",
       "      <td>69.52</td>\n",
       "      <td>2.13</td>\n",
       "      <td>0.02</td>\n",
       "      <td>21.61</td>\n",
       "      <td>203.62</td>\n",
       "    </tr>\n",
       "    <tr>\n",
       "      <th>199</th>\n",
       "      <td>meerut</td>\n",
       "      <td>286.49</td>\n",
       "      <td>1009.86</td>\n",
       "      <td>69.33</td>\n",
       "      <td>2.60</td>\n",
       "      <td>0.03</td>\n",
       "      <td>20.57</td>\n",
       "      <td>208.54</td>\n",
       "    </tr>\n",
       "    <tr>\n",
       "      <th>200</th>\n",
       "      <td>jhansi</td>\n",
       "      <td>288.38</td>\n",
       "      <td>1004.63</td>\n",
       "      <td>64.21</td>\n",
       "      <td>2.03</td>\n",
       "      <td>0.02</td>\n",
       "      <td>13.98</td>\n",
       "      <td>237.15</td>\n",
       "    </tr>\n",
       "    <tr>\n",
       "      <th>201</th>\n",
       "      <td>greater_noida</td>\n",
       "      <td>286.65</td>\n",
       "      <td>1014.53</td>\n",
       "      <td>69.48</td>\n",
       "      <td>2.40</td>\n",
       "      <td>0.01</td>\n",
       "      <td>23.29</td>\n",
       "      <td>173.92</td>\n",
       "    </tr>\n",
       "    <tr>\n",
       "      <th>202</th>\n",
       "      <td>kanpur</td>\n",
       "      <td>287.51</td>\n",
       "      <td>1015.58</td>\n",
       "      <td>72.16</td>\n",
       "      <td>2.10</td>\n",
       "      <td>0.03</td>\n",
       "      <td>29.72</td>\n",
       "      <td>170.08</td>\n",
       "    </tr>\n",
       "    <tr>\n",
       "      <th>203</th>\n",
       "      <td>bulandshahr</td>\n",
       "      <td>286.66</td>\n",
       "      <td>1010.83</td>\n",
       "      <td>71.45</td>\n",
       "      <td>2.52</td>\n",
       "      <td>0.02</td>\n",
       "      <td>18.76</td>\n",
       "      <td>212.92</td>\n",
       "    </tr>\n",
       "    <tr>\n",
       "      <th>204</th>\n",
       "      <td>lucknow</td>\n",
       "      <td>286.76</td>\n",
       "      <td>1016.24</td>\n",
       "      <td>81.80</td>\n",
       "      <td>1.81</td>\n",
       "      <td>0.01</td>\n",
       "      <td>37.76</td>\n",
       "      <td>130.08</td>\n",
       "    </tr>\n",
       "    <tr>\n",
       "      <th>205</th>\n",
       "      <td>firozabad</td>\n",
       "      <td>287.37</td>\n",
       "      <td>1013.99</td>\n",
       "      <td>68.66</td>\n",
       "      <td>2.30</td>\n",
       "      <td>0.02</td>\n",
       "      <td>15.34</td>\n",
       "      <td>228.23</td>\n",
       "    </tr>\n",
       "    <tr>\n",
       "      <th>206</th>\n",
       "      <td>moradabad</td>\n",
       "      <td>286.77</td>\n",
       "      <td>1010.98</td>\n",
       "      <td>71.58</td>\n",
       "      <td>2.48</td>\n",
       "      <td>0.03</td>\n",
       "      <td>22.10</td>\n",
       "      <td>185.85</td>\n",
       "    </tr>\n",
       "    <tr>\n",
       "      <th>207</th>\n",
       "      <td>hapur</td>\n",
       "      <td>286.62</td>\n",
       "      <td>1014.62</td>\n",
       "      <td>71.19</td>\n",
       "      <td>2.56</td>\n",
       "      <td>0.01</td>\n",
       "      <td>23.47</td>\n",
       "      <td>172.92</td>\n",
       "    </tr>\n",
       "    <tr>\n",
       "      <th>208</th>\n",
       "      <td>vrindavan</td>\n",
       "      <td>286.97</td>\n",
       "      <td>1011.90</td>\n",
       "      <td>68.85</td>\n",
       "      <td>2.26</td>\n",
       "      <td>0.02</td>\n",
       "      <td>16.73</td>\n",
       "      <td>221.92</td>\n",
       "    </tr>\n",
       "    <tr>\n",
       "      <th>209</th>\n",
       "      <td>ghaziabad</td>\n",
       "      <td>286.22</td>\n",
       "      <td>1015.41</td>\n",
       "      <td>70.98</td>\n",
       "      <td>2.40</td>\n",
       "      <td>0.01</td>\n",
       "      <td>26.44</td>\n",
       "      <td>154.54</td>\n",
       "    </tr>\n",
       "    <tr>\n",
       "      <th>210</th>\n",
       "      <td>bareilly</td>\n",
       "      <td>287.04</td>\n",
       "      <td>1012.18</td>\n",
       "      <td>71.66</td>\n",
       "      <td>2.50</td>\n",
       "      <td>0.02</td>\n",
       "      <td>19.58</td>\n",
       "      <td>189.15</td>\n",
       "    </tr>\n",
       "    <tr>\n",
       "      <th>211</th>\n",
       "      <td>noida</td>\n",
       "      <td>286.24</td>\n",
       "      <td>1016.25</td>\n",
       "      <td>70.26</td>\n",
       "      <td>2.35</td>\n",
       "      <td>0.02</td>\n",
       "      <td>26.15</td>\n",
       "      <td>152.46</td>\n",
       "    </tr>\n",
       "    <tr>\n",
       "      <th>212</th>\n",
       "      <td>varanasi</td>\n",
       "      <td>287.77</td>\n",
       "      <td>1016.65</td>\n",
       "      <td>80.49</td>\n",
       "      <td>1.96</td>\n",
       "      <td>0.02</td>\n",
       "      <td>29.65</td>\n",
       "      <td>144.15</td>\n",
       "    </tr>\n",
       "    <tr>\n",
       "      <th>213</th>\n",
       "      <td>muzaffarnagar</td>\n",
       "      <td>286.03</td>\n",
       "      <td>1008.14</td>\n",
       "      <td>71.06</td>\n",
       "      <td>2.54</td>\n",
       "      <td>0.03</td>\n",
       "      <td>22.57</td>\n",
       "      <td>203.38</td>\n",
       "    </tr>\n",
       "    <tr>\n",
       "      <th>214</th>\n",
       "      <td>gorakhpur</td>\n",
       "      <td>288.09</td>\n",
       "      <td>1017.35</td>\n",
       "      <td>70.98</td>\n",
       "      <td>2.46</td>\n",
       "      <td>0.02</td>\n",
       "      <td>15.84</td>\n",
       "      <td>211.00</td>\n",
       "    </tr>\n",
       "    <tr>\n",
       "      <th>215</th>\n",
       "      <td>khurja</td>\n",
       "      <td>286.70</td>\n",
       "      <td>1011.63</td>\n",
       "      <td>71.00</td>\n",
       "      <td>2.50</td>\n",
       "      <td>0.02</td>\n",
       "      <td>18.24</td>\n",
       "      <td>214.69</td>\n",
       "    </tr>\n",
       "    <tr>\n",
       "      <th>216</th>\n",
       "      <td>baghpat</td>\n",
       "      <td>286.49</td>\n",
       "      <td>1013.31</td>\n",
       "      <td>70.30</td>\n",
       "      <td>2.45</td>\n",
       "      <td>0.01</td>\n",
       "      <td>23.98</td>\n",
       "      <td>174.31</td>\n",
       "    </tr>\n",
       "    <tr>\n",
       "      <th>217</th>\n",
       "      <td>puducherry</td>\n",
       "      <td>298.47</td>\n",
       "      <td>1017.89</td>\n",
       "      <td>82.61</td>\n",
       "      <td>4.30</td>\n",
       "      <td>0.03</td>\n",
       "      <td>39.96</td>\n",
       "      <td>89.92</td>\n",
       "    </tr>\n",
       "    <tr>\n",
       "      <th>218</th>\n",
       "      <td>rajgir</td>\n",
       "      <td>288.34</td>\n",
       "      <td>1016.78</td>\n",
       "      <td>72.38</td>\n",
       "      <td>2.13</td>\n",
       "      <td>0.07</td>\n",
       "      <td>27.05</td>\n",
       "      <td>159.85</td>\n",
       "    </tr>\n",
       "    <tr>\n",
       "      <th>219</th>\n",
       "      <td>araria</td>\n",
       "      <td>289.85</td>\n",
       "      <td>1019.54</td>\n",
       "      <td>66.77</td>\n",
       "      <td>2.58</td>\n",
       "      <td>0.21</td>\n",
       "      <td>19.90</td>\n",
       "      <td>215.77</td>\n",
       "    </tr>\n",
       "    <tr>\n",
       "      <th>220</th>\n",
       "      <td>bettiah</td>\n",
       "      <td>288.70</td>\n",
       "      <td>1016.61</td>\n",
       "      <td>67.12</td>\n",
       "      <td>2.23</td>\n",
       "      <td>0.08</td>\n",
       "      <td>21.01</td>\n",
       "      <td>197.62</td>\n",
       "    </tr>\n",
       "    <tr>\n",
       "      <th>221</th>\n",
       "      <td>begusarai</td>\n",
       "      <td>288.56</td>\n",
       "      <td>1017.53</td>\n",
       "      <td>68.37</td>\n",
       "      <td>2.32</td>\n",
       "      <td>0.08</td>\n",
       "      <td>18.82</td>\n",
       "      <td>198.15</td>\n",
       "    </tr>\n",
       "    <tr>\n",
       "      <th>222</th>\n",
       "      <td>katihar</td>\n",
       "      <td>289.85</td>\n",
       "      <td>1018.81</td>\n",
       "      <td>66.26</td>\n",
       "      <td>2.59</td>\n",
       "      <td>0.22</td>\n",
       "      <td>19.64</td>\n",
       "      <td>215.15</td>\n",
       "    </tr>\n",
       "    <tr>\n",
       "      <th>223</th>\n",
       "      <td>saharsa</td>\n",
       "      <td>289.15</td>\n",
       "      <td>1019.41</td>\n",
       "      <td>67.93</td>\n",
       "      <td>2.59</td>\n",
       "      <td>0.22</td>\n",
       "      <td>20.31</td>\n",
       "      <td>198.00</td>\n",
       "    </tr>\n",
       "    <tr>\n",
       "      <th>224</th>\n",
       "      <td>samastipur</td>\n",
       "      <td>289.27</td>\n",
       "      <td>1018.25</td>\n",
       "      <td>66.20</td>\n",
       "      <td>2.55</td>\n",
       "      <td>0.21</td>\n",
       "      <td>20.71</td>\n",
       "      <td>188.85</td>\n",
       "    </tr>\n",
       "    <tr>\n",
       "      <th>225</th>\n",
       "      <td>motihari</td>\n",
       "      <td>289.00</td>\n",
       "      <td>1018.51</td>\n",
       "      <td>67.51</td>\n",
       "      <td>2.31</td>\n",
       "      <td>0.08</td>\n",
       "      <td>20.75</td>\n",
       "      <td>193.38</td>\n",
       "    </tr>\n",
       "    <tr>\n",
       "      <th>226</th>\n",
       "      <td>muzaffarpur</td>\n",
       "      <td>288.28</td>\n",
       "      <td>1016.90</td>\n",
       "      <td>71.95</td>\n",
       "      <td>2.31</td>\n",
       "      <td>0.82</td>\n",
       "      <td>26.76</td>\n",
       "      <td>153.62</td>\n",
       "    </tr>\n",
       "    <tr>\n",
       "      <th>227</th>\n",
       "      <td>bhagalpur</td>\n",
       "      <td>289.06</td>\n",
       "      <td>1018.95</td>\n",
       "      <td>66.67</td>\n",
       "      <td>2.51</td>\n",
       "      <td>0.07</td>\n",
       "      <td>20.21</td>\n",
       "      <td>218.85</td>\n",
       "    </tr>\n",
       "    <tr>\n",
       "      <th>228</th>\n",
       "      <td>buxar</td>\n",
       "      <td>288.40</td>\n",
       "      <td>1017.99</td>\n",
       "      <td>71.29</td>\n",
       "      <td>2.28</td>\n",
       "      <td>0.04</td>\n",
       "      <td>19.05</td>\n",
       "      <td>192.38</td>\n",
       "    </tr>\n",
       "    <tr>\n",
       "      <th>229</th>\n",
       "      <td>darbhanga</td>\n",
       "      <td>289.27</td>\n",
       "      <td>1018.25</td>\n",
       "      <td>66.20</td>\n",
       "      <td>2.55</td>\n",
       "      <td>0.21</td>\n",
       "      <td>20.71</td>\n",
       "      <td>188.85</td>\n",
       "    </tr>\n",
       "    <tr>\n",
       "      <th>230</th>\n",
       "      <td>sasaram</td>\n",
       "      <td>288.08</td>\n",
       "      <td>1011.90</td>\n",
       "      <td>66.76</td>\n",
       "      <td>1.89</td>\n",
       "      <td>0.09</td>\n",
       "      <td>21.57</td>\n",
       "      <td>196.54</td>\n",
       "    </tr>\n",
       "    <tr>\n",
       "      <th>231</th>\n",
       "      <td>bihar_sharif</td>\n",
       "      <td>288.34</td>\n",
       "      <td>1016.78</td>\n",
       "      <td>72.38</td>\n",
       "      <td>2.13</td>\n",
       "      <td>0.07</td>\n",
       "      <td>27.05</td>\n",
       "      <td>159.85</td>\n",
       "    </tr>\n",
       "    <tr>\n",
       "      <th>232</th>\n",
       "      <td>purnia</td>\n",
       "      <td>289.85</td>\n",
       "      <td>1019.54</td>\n",
       "      <td>66.77</td>\n",
       "      <td>2.58</td>\n",
       "      <td>0.21</td>\n",
       "      <td>19.90</td>\n",
       "      <td>215.77</td>\n",
       "    </tr>\n",
       "    <tr>\n",
       "      <th>233</th>\n",
       "      <td>patna</td>\n",
       "      <td>287.93</td>\n",
       "      <td>1017.06</td>\n",
       "      <td>81.31</td>\n",
       "      <td>1.89</td>\n",
       "      <td>0.16</td>\n",
       "      <td>32.26</td>\n",
       "      <td>118.62</td>\n",
       "    </tr>\n",
       "    <tr>\n",
       "      <th>234</th>\n",
       "      <td>arrah</td>\n",
       "      <td>288.05</td>\n",
       "      <td>1016.37</td>\n",
       "      <td>72.82</td>\n",
       "      <td>2.17</td>\n",
       "      <td>0.21</td>\n",
       "      <td>26.04</td>\n",
       "      <td>155.92</td>\n",
       "    </tr>\n",
       "    <tr>\n",
       "      <th>235</th>\n",
       "      <td>hajipur</td>\n",
       "      <td>287.92</td>\n",
       "      <td>1016.50</td>\n",
       "      <td>81.16</td>\n",
       "      <td>1.90</td>\n",
       "      <td>0.15</td>\n",
       "      <td>31.71</td>\n",
       "      <td>120.00</td>\n",
       "    </tr>\n",
       "    <tr>\n",
       "      <th>236</th>\n",
       "      <td>siwan</td>\n",
       "      <td>288.56</td>\n",
       "      <td>1018.20</td>\n",
       "      <td>69.33</td>\n",
       "      <td>2.43</td>\n",
       "      <td>0.08</td>\n",
       "      <td>20.64</td>\n",
       "      <td>198.00</td>\n",
       "    </tr>\n",
       "    <tr>\n",
       "      <th>237</th>\n",
       "      <td>chhapra</td>\n",
       "      <td>288.05</td>\n",
       "      <td>1016.37</td>\n",
       "      <td>72.82</td>\n",
       "      <td>2.17</td>\n",
       "      <td>0.21</td>\n",
       "      <td>26.04</td>\n",
       "      <td>155.92</td>\n",
       "    </tr>\n",
       "    <tr>\n",
       "      <th>238</th>\n",
       "      <td>kishanganj</td>\n",
       "      <td>290.23</td>\n",
       "      <td>1019.40</td>\n",
       "      <td>65.29</td>\n",
       "      <td>2.34</td>\n",
       "      <td>0.21</td>\n",
       "      <td>19.80</td>\n",
       "      <td>214.38</td>\n",
       "    </tr>\n",
       "    <tr>\n",
       "      <th>239</th>\n",
       "      <td>munger</td>\n",
       "      <td>288.68</td>\n",
       "      <td>1017.91</td>\n",
       "      <td>68.10</td>\n",
       "      <td>2.35</td>\n",
       "      <td>0.07</td>\n",
       "      <td>18.96</td>\n",
       "      <td>200.46</td>\n",
       "    </tr>\n",
       "    <tr>\n",
       "      <th>240</th>\n",
       "      <td>gaya</td>\n",
       "      <td>288.41</td>\n",
       "      <td>1013.66</td>\n",
       "      <td>71.86</td>\n",
       "      <td>2.14</td>\n",
       "      <td>0.07</td>\n",
       "      <td>28.00</td>\n",
       "      <td>156.46</td>\n",
       "    </tr>\n",
       "    <tr>\n",
       "      <th>241</th>\n",
       "      <td>dhanbad</td>\n",
       "      <td>290.40</td>\n",
       "      <td>1006.76</td>\n",
       "      <td>58.06</td>\n",
       "      <td>2.33</td>\n",
       "      <td>0.02</td>\n",
       "      <td>17.45</td>\n",
       "      <td>217.15</td>\n",
       "    </tr>\n",
       "    <tr>\n",
       "      <th>242</th>\n",
       "      <td>jorapokhar</td>\n",
       "      <td>290.40</td>\n",
       "      <td>1006.76</td>\n",
       "      <td>58.06</td>\n",
       "      <td>2.33</td>\n",
       "      <td>0.02</td>\n",
       "      <td>17.45</td>\n",
       "      <td>217.15</td>\n",
       "    </tr>\n",
       "    <tr>\n",
       "      <th>243</th>\n",
       "      <td>pathardih</td>\n",
       "      <td>290.40</td>\n",
       "      <td>1006.76</td>\n",
       "      <td>58.06</td>\n",
       "      <td>2.33</td>\n",
       "      <td>0.02</td>\n",
       "      <td>17.45</td>\n",
       "      <td>217.15</td>\n",
       "    </tr>\n",
       "    <tr>\n",
       "      <th>244</th>\n",
       "      <td>kohima</td>\n",
       "      <td>288.71</td>\n",
       "      <td>997.90</td>\n",
       "      <td>76.66</td>\n",
       "      <td>1.03</td>\n",
       "      <td>0.02</td>\n",
       "      <td>25.51</td>\n",
       "      <td>169.77</td>\n",
       "    </tr>\n",
       "  </tbody>\n",
       "</table>\n",
       "</div>"
      ],
      "text/plain": [
       "                   City  Temperature  Pressure  Humidity  Wind  Precipitation  \\\n",
       "0            naharlagun       288.80   1010.92     71.55  1.44           0.02   \n",
       "1              srinagar       271.28    906.50     71.02  0.96           0.01   \n",
       "2              chittoor       295.66   1001.07     74.38  2.30           0.02   \n",
       "3                kadapa       296.25   1002.93     71.07  2.43           0.01   \n",
       "4             anantapur       296.57    990.04     60.61  3.27           0.01   \n",
       "5         visakhapatnam       296.65   1016.07     77.01  2.58           0.00   \n",
       "6             amaravati       296.89   1015.44     74.87  1.93           0.01   \n",
       "7            vijayawada       296.89   1015.44     74.87  1.93           0.01   \n",
       "8     rajamahendravaram       297.04   1017.87     73.15  2.60           0.01   \n",
       "9              tirupati       295.39    998.49     76.42  1.98           0.01   \n",
       "10               imphal       285.85    978.25     75.42  1.24           0.01   \n",
       "11            mandideep       289.40   1000.42     62.59  2.31           0.01   \n",
       "12                satna       288.86   1001.83     64.10  1.93           0.04   \n",
       "13               bhopal       289.40   1000.42     62.59  2.31           0.01   \n",
       "14               ratlam       290.34    993.51     53.93  2.93           0.01   \n",
       "15              gwalior       287.79   1010.46     65.10  2.04           0.01   \n",
       "16                katni       289.08    995.46     60.17  1.95           0.02   \n",
       "17               maihar       288.86   1001.83     64.10  1.93           0.04   \n",
       "18                damoh       289.35    999.96     60.32  2.09           0.03   \n",
       "19                dewas       290.17    999.89     56.23  2.53           0.02   \n",
       "20             jabalpur       289.62   1000.28     63.37  2.08           0.01   \n",
       "21               ujjain       290.20    996.80     56.28  2.53           0.01   \n",
       "22                sagar       289.00    993.07     60.21  2.20           0.01   \n",
       "23            singrauli       288.74   1002.09     66.25  1.80           0.03   \n",
       "24            pithampur       290.37    995.97     59.66  2.48           0.01   \n",
       "25               indore       290.37    995.97     59.66  2.48           0.01   \n",
       "26               ambala       285.51    999.13     68.01  2.48           0.04   \n",
       "27                sirsa       286.70   1011.17     61.95  2.16           0.01   \n",
       "28               palwal       286.86   1013.70     70.86  2.45           0.01   \n",
       "29          kurukshetra       285.85   1007.86     71.63  2.68           0.03   \n",
       "30           ballabgarh       286.28   1015.53     70.89  2.33           0.01   \n",
       "31              manesar       286.26   1015.43     80.21  2.30           0.01   \n",
       "32              narnaul       286.65   1011.86     69.03  2.29           0.01   \n",
       "33             gurugram       286.26   1015.43     80.21  2.30           0.01   \n",
       "34               karnal       286.09   1008.94     71.91  2.62           0.02   \n",
       "35          bahadurgarh       286.24   1016.28     70.97  2.34           0.01   \n",
       "36               rohtak       286.36   1015.82     60.16  2.24           0.01   \n",
       "37              kaithal       285.59   1009.80     69.36  2.44           0.04   \n",
       "38              sonipat       286.49   1013.31     70.30  2.45           0.01   \n",
       "39            faridabad       286.28   1015.53     70.89  2.33           0.01   \n",
       "40                hisar       286.86   1010.28     63.37  2.33           0.02   \n",
       "41          yamunanagar       286.53   1014.47     57.17  2.49           0.02   \n",
       "42        charkhi_dadri       286.63   1009.68     64.10  2.31           0.02   \n",
       "43                 jind       286.22   1010.43     69.85  2.40           0.02   \n",
       "44              panipat       286.12   1009.00     71.65  2.56           0.02   \n",
       "45              bhiwani       286.63   1009.68     64.10  2.31           0.02   \n",
       "46            panchkula       285.46    997.80     68.14  2.29           0.04   \n",
       "47            fatehabad       286.55   1011.16     64.39  2.25           0.03   \n",
       "48            dharuhera       286.65   1011.86     69.03  2.29           0.01   \n",
       "49           ankleshwar       294.79   1016.08     52.37  2.84           0.00   \n",
       "50          gandhinagar       292.53   1015.03     56.12  2.37           0.00   \n",
       "51                surat       295.91   1018.00     66.37  3.55           0.00   \n",
       "52                 vapi       295.91   1018.00     66.37  3.55           0.00   \n",
       "53            ahmedabad       292.60   1015.10     56.00  2.40           0.00   \n",
       "54              gangtok       282.98    953.96     69.51  1.33           0.03   \n",
       "55                baddi       285.46    997.80     68.14  2.29           0.04   \n",
       "56                delhi       286.20   1015.52     80.63  2.32           0.01   \n",
       "57             ludhiana       284.95   1008.25     71.84  2.35           0.04   \n",
       "58             bathinda       286.38   1011.50     63.90  2.19           0.03   \n",
       "59     mandi_gobindgarh       285.20   1008.33     68.71  2.63           0.04   \n",
       "60               khanna       285.20   1008.33     68.71  2.63           0.04   \n",
       "61             rupnagar       285.46    997.80     68.14  2.29           0.04   \n",
       "62            jalandhar       284.91   1008.78     71.71  2.19           0.03   \n",
       "63             amritsar       284.29   1014.52     73.93  1.92           0.02   \n",
       "64              patiala       285.41   1007.68     69.11  2.68           0.04   \n",
       "65               mysuru       295.24    978.44     64.18  2.75           0.09   \n",
       "66                kolar       294.44    996.79     71.17  2.89           0.03   \n",
       "67               koppal       297.06   1002.25     53.16  3.50           0.00   \n",
       "68                bidar       295.09    985.65     53.10  2.82           0.01   \n",
       "69           vijayapura       295.73    983.76     52.44  3.11           0.06   \n",
       "70                gadag       295.72    983.73     55.43  3.21           0.01   \n",
       "71            mangalore       299.73   1013.34     73.14  2.44           0.01   \n",
       "72           kalaburagi       296.21    993.63     51.00  2.74           0.01   \n",
       "73             hubballi       295.61    982.15     57.35  2.87           0.00   \n",
       "74                udupi       299.39   1009.92     71.58  2.47           0.01   \n",
       "75              belgaum       295.09    985.89     58.18  2.18           0.01   \n",
       "76             madikeri       293.95    964.60     62.78  2.71           0.09   \n",
       "77               haveri       295.61    982.15     57.35  2.87           0.00   \n",
       "78             tumakuru       294.69    996.89     66.01  2.87           0.03   \n",
       "79            bengaluru       294.62   1006.72     69.36  2.74           0.01   \n",
       "80              dharwad       295.61    982.15     57.35  2.87           0.00   \n",
       "81               hassan       293.95    964.60     62.78  2.71           0.09   \n",
       "82           shivamogga       295.87    977.25     60.48  2.57           0.07   \n",
       "83       chikkamagaluru       294.58    966.74     59.28  1.70           0.08   \n",
       "84             bagalkot       295.73    983.76     52.44  3.11           0.06   \n",
       "85           davanagere       295.47    978.51     57.92  3.35           0.07   \n",
       "86           ramanagara       295.09    985.89     58.18  2.18           0.01   \n",
       "87              raichur       296.89    997.73     57.78  3.04           0.01   \n",
       "88               karwar       298.50   1013.42     74.94  2.93           0.01   \n",
       "89                latur       294.82    984.97     50.87  2.69           0.01   \n",
       "90               kalyan       297.29   1012.63     54.81  2.05           0.00   \n",
       "91               sangli       295.11    983.74     56.52  2.56           0.00   \n",
       "92                dhule       294.62   1007.02     49.26  2.35           0.01   \n",
       "93             bhiwandi       297.54   1013.55     55.10  2.21           0.00   \n",
       "94                virar       298.38   1016.13     64.16  3.45           0.00   \n",
       "95             kolhapur       294.76    984.05     59.57  2.20           0.00   \n",
       "96               nagpur       293.77   1013.42     59.99  1.64           0.01   \n",
       "97           chandrapur       294.49   1007.29     56.25  1.92           0.01   \n",
       "98                 pune       293.89    984.38     54.60  2.11           0.00   \n",
       "99              jalgaon       294.25   1006.53     49.30  2.35           0.01   \n",
       "100             solapur       296.49    990.87     49.65  2.93           0.00   \n",
       "101          ulhasnagar       297.36   1012.75     55.46  2.09           0.00   \n",
       "102            amravati       293.89   1002.11     52.30  2.31           0.02   \n",
       "103            parbhani       295.11    996.23     50.86  2.39           0.00   \n",
       "104            badlapur       294.15    999.19     49.56  2.28           0.01   \n",
       "105               akola       294.15    999.19     49.56  2.28           0.01   \n",
       "106              boisar       298.46   1015.93     65.75  3.61           0.00   \n",
       "107              mumbai       298.40   1015.77     64.39  3.17           0.00   \n",
       "108               jalna       293.82    996.42     52.71  2.31           0.00   \n",
       "109              nashik       292.83    981.66     52.38  2.20           0.00   \n",
       "110             belapur       297.61   1013.43     58.89  2.43           0.00   \n",
       "111            malegaon       293.67    987.64     49.72  2.32           0.00   \n",
       "112               thane       297.86   1014.56     60.58  2.66           0.00   \n",
       "113         navi_mumbai       297.61   1013.43     58.89  2.43           0.00   \n",
       "114               mahad       296.10   1004.94     63.79  1.75           0.00   \n",
       "115              nanded       293.77   1013.42     59.99  1.64           0.01   \n",
       "116              sirohi       291.25   1010.01     50.55  2.33           0.00   \n",
       "117               baran       288.94   1001.89     58.57  1.94           0.01   \n",
       "118            banswara       290.34    993.51     53.93  2.93           0.01   \n",
       "119         hanumangarh       286.82   1012.65     60.03  2.13           0.01   \n",
       "120           bharatpur       287.25   1010.78     68.27  2.14           0.01   \n",
       "121             bikaner       287.73   1010.36     54.07  2.40           0.01   \n",
       "122              jalore       289.90   1009.34     46.61  2.53           0.00   \n",
       "123             bhiwadi       286.65   1011.86     69.03  2.29           0.01   \n",
       "124               sikar       286.98    997.84     51.59  2.34           0.01   \n",
       "125             karauli       287.87   1006.77     60.05  2.05           0.01   \n",
       "126            bhilwara       288.40    996.71     56.29  2.16           0.01   \n",
       "127               alwar       286.65   1004.95     62.64  1.91           0.02   \n",
       "128               bundi       288.94   1001.89     58.57  1.94           0.01   \n",
       "129               dausa       288.30   1014.04     61.94  1.98           0.00   \n",
       "130         chittorgarh       288.91    997.22     56.47  2.21           0.01   \n",
       "131              barmer       289.42   1007.51     45.77  2.82           0.01   \n",
       "132              jaipur       288.30   1014.04     61.94  1.98           0.00   \n",
       "133           jaisalmer       288.45   1018.06     55.65  2.53           0.01   \n",
       "134          pratapgarh       289.61    996.62     56.69  2.68           0.01   \n",
       "135      sawai_madhopur       288.16   1006.62     60.30  1.86           0.01   \n",
       "136            jhalawar       288.94   1001.89     58.57  1.94           0.01   \n",
       "137           jhunjhunu       286.97   1004.59     53.69  2.28           0.02   \n",
       "138              nagaur       287.73   1010.36     54.07  2.40           0.01   \n",
       "139               ajmer       287.99    996.77     51.56  2.28           0.01   \n",
       "140           rajsamand       288.20    989.22     54.18  2.12           0.01   \n",
       "141             jodhpur       289.42   1007.51     45.77  2.82           0.01   \n",
       "142      sri_ganganagar       286.61   1013.57     61.90  2.04           0.01   \n",
       "143                pali       289.90   1009.34     46.61  2.53           0.00   \n",
       "144                kota       288.94   1001.89     58.57  1.94           0.01   \n",
       "145             dholpur       287.59   1013.72     68.13  2.11           0.02   \n",
       "146           dungarpur       288.20    989.22     54.18  2.12           0.01   \n",
       "147                tonk       288.41   1003.98     57.82  2.13           0.01   \n",
       "148               churu       287.40   1005.02     51.46  2.36           0.01   \n",
       "149             udaipur       288.20    989.22     54.18  2.12           0.01   \n",
       "150          chandigarh       285.46    997.80     68.14  2.29           0.04   \n",
       "151  thiruvananthapuram       301.06   1010.78     73.05  2.06           0.02   \n",
       "152            thrissur       300.01   1011.66     68.17  2.58           0.02   \n",
       "153           kozhikode       299.88   1011.14     72.68  2.45           0.01   \n",
       "154              kollam       300.39   1012.37     75.81  2.48           0.04   \n",
       "155              kannur       299.88   1011.14     72.68  2.45           0.01   \n",
       "156               eloor       299.86   1013.85     73.01  2.38           0.08   \n",
       "157           ernakulam       299.86   1013.85     73.01  2.38           0.08   \n",
       "158               kochi       299.86   1013.85     73.01  2.38           0.08   \n",
       "159              raipur       292.97   1004.17     61.20  1.84           0.01   \n",
       "160              aizawl       287.16    990.53     76.78  1.06           0.02   \n",
       "161             silchar       289.70   1008.65     73.45  1.29           0.08   \n",
       "162             nalbari       290.22   1013.45     79.79  1.50           0.01   \n",
       "163            guwahati       290.22   1013.45     79.79  1.50           0.01   \n",
       "164              nagaon       290.22   1013.45     79.79  1.50           0.01   \n",
       "165           sivasagar       288.80   1010.92     71.55  1.44           0.02   \n",
       "166            shillong       286.27    984.09     76.99  1.17           0.02   \n",
       "167     tiruchirappalli       298.80   1012.71     72.95  3.15           0.01   \n",
       "168        nagapattinam       297.49   1017.03     76.86  3.68           0.03   \n",
       "169          coimbatore       297.33   1001.13     66.30  2.33           0.02   \n",
       "170             vellore       295.66   1001.07     74.38  2.30           0.02   \n",
       "171             ranipet       295.66   1001.07     74.38  2.30           0.02   \n",
       "172            dindigul       297.29    999.10     71.89  1.93           0.03   \n",
       "173                ooty       297.33   1001.13     66.30  2.33           0.02   \n",
       "174         kanchipuram       298.13   1013.28     75.07  2.90           0.01   \n",
       "175         tirunelveli       298.12   1002.80     73.50  2.68           0.05   \n",
       "176             chennai       299.01   1014.56     76.84  2.97           0.01   \n",
       "177          perundurai       297.17   1001.22     69.02  1.91           0.02   \n",
       "178           thanjavur       298.49   1013.75     75.66  3.35           0.02   \n",
       "179           cuddalore       298.47   1017.82     82.68  4.46           0.03   \n",
       "180               karur       297.17   1001.22     69.02  1.91           0.02   \n",
       "181         thoothukudi       298.12   1002.80     73.50  2.68           0.05   \n",
       "182          pudukottai       298.39   1012.25     74.34  3.44           0.02   \n",
       "183            ariyalur       299.01   1014.56     76.84  2.97           0.01   \n",
       "184               salem       296.87   1001.93     69.89  2.10           0.03   \n",
       "185             madurai       298.39   1007.58     70.56  2.53           0.02   \n",
       "186      ramanathapuram       298.39   1007.58     70.56  2.53           0.02   \n",
       "187        virudhunagar       298.39   1007.58     70.56  2.53           0.02   \n",
       "188               hosur       294.56   1003.55     70.44  2.72           0.02   \n",
       "189        chengalpattu       298.13   1013.28     75.07  2.90           0.01   \n",
       "190             kolkata       291.82   1014.81     72.64  2.16           0.01   \n",
       "191              haldia       293.10   1019.97     61.19  2.57           0.01   \n",
       "192            durgapur       291.09   1017.39     63.83  2.32           0.01   \n",
       "193            siliguri       288.98    976.05     64.14  1.55           0.03   \n",
       "194             asansol       292.04   1013.82     60.61  2.44           0.05   \n",
       "195              howrah       291.80   1015.70     72.85  2.16           0.01   \n",
       "196         barrackpore       291.87   1014.81     72.11  2.16           0.01   \n",
       "197                agra       287.48   1013.13     69.28  2.23           0.01   \n",
       "198           prayagraj       288.67   1015.41     69.52  2.13           0.02   \n",
       "199              meerut       286.49   1009.86     69.33  2.60           0.03   \n",
       "200              jhansi       288.38   1004.63     64.21  2.03           0.02   \n",
       "201       greater_noida       286.65   1014.53     69.48  2.40           0.01   \n",
       "202              kanpur       287.51   1015.58     72.16  2.10           0.03   \n",
       "203         bulandshahr       286.66   1010.83     71.45  2.52           0.02   \n",
       "204             lucknow       286.76   1016.24     81.80  1.81           0.01   \n",
       "205           firozabad       287.37   1013.99     68.66  2.30           0.02   \n",
       "206           moradabad       286.77   1010.98     71.58  2.48           0.03   \n",
       "207               hapur       286.62   1014.62     71.19  2.56           0.01   \n",
       "208           vrindavan       286.97   1011.90     68.85  2.26           0.02   \n",
       "209           ghaziabad       286.22   1015.41     70.98  2.40           0.01   \n",
       "210            bareilly       287.04   1012.18     71.66  2.50           0.02   \n",
       "211               noida       286.24   1016.25     70.26  2.35           0.02   \n",
       "212            varanasi       287.77   1016.65     80.49  1.96           0.02   \n",
       "213       muzaffarnagar       286.03   1008.14     71.06  2.54           0.03   \n",
       "214           gorakhpur       288.09   1017.35     70.98  2.46           0.02   \n",
       "215              khurja       286.70   1011.63     71.00  2.50           0.02   \n",
       "216             baghpat       286.49   1013.31     70.30  2.45           0.01   \n",
       "217          puducherry       298.47   1017.89     82.61  4.30           0.03   \n",
       "218              rajgir       288.34   1016.78     72.38  2.13           0.07   \n",
       "219              araria       289.85   1019.54     66.77  2.58           0.21   \n",
       "220             bettiah       288.70   1016.61     67.12  2.23           0.08   \n",
       "221           begusarai       288.56   1017.53     68.37  2.32           0.08   \n",
       "222             katihar       289.85   1018.81     66.26  2.59           0.22   \n",
       "223             saharsa       289.15   1019.41     67.93  2.59           0.22   \n",
       "224          samastipur       289.27   1018.25     66.20  2.55           0.21   \n",
       "225            motihari       289.00   1018.51     67.51  2.31           0.08   \n",
       "226         muzaffarpur       288.28   1016.90     71.95  2.31           0.82   \n",
       "227           bhagalpur       289.06   1018.95     66.67  2.51           0.07   \n",
       "228               buxar       288.40   1017.99     71.29  2.28           0.04   \n",
       "229           darbhanga       289.27   1018.25     66.20  2.55           0.21   \n",
       "230             sasaram       288.08   1011.90     66.76  1.89           0.09   \n",
       "231        bihar_sharif       288.34   1016.78     72.38  2.13           0.07   \n",
       "232              purnia       289.85   1019.54     66.77  2.58           0.21   \n",
       "233               patna       287.93   1017.06     81.31  1.89           0.16   \n",
       "234               arrah       288.05   1016.37     72.82  2.17           0.21   \n",
       "235             hajipur       287.92   1016.50     81.16  1.90           0.15   \n",
       "236               siwan       288.56   1018.20     69.33  2.43           0.08   \n",
       "237             chhapra       288.05   1016.37     72.82  2.17           0.21   \n",
       "238          kishanganj       290.23   1019.40     65.29  2.34           0.21   \n",
       "239              munger       288.68   1017.91     68.10  2.35           0.07   \n",
       "240                gaya       288.41   1013.66     71.86  2.14           0.07   \n",
       "241             dhanbad       290.40   1006.76     58.06  2.33           0.02   \n",
       "242          jorapokhar       290.40   1006.76     58.06  2.33           0.02   \n",
       "243           pathardih       290.40   1006.76     58.06  2.33           0.02   \n",
       "244              kohima       288.71    997.90     76.66  1.03           0.02   \n",
       "\n",
       "     Clouds  Sunshine  \n",
       "0     32.29     95.08  \n",
       "1     45.14    111.38  \n",
       "2     35.85    125.92  \n",
       "3     29.30    119.31  \n",
       "4     29.93    166.00  \n",
       "5     22.71    134.31  \n",
       "6     25.91    101.85  \n",
       "7     25.91    101.85  \n",
       "8     19.76    156.00  \n",
       "9     28.68     87.92  \n",
       "10    26.42     88.54  \n",
       "11    16.27    209.92  \n",
       "12    17.66    206.69  \n",
       "13    16.27    209.92  \n",
       "14    10.31    245.31  \n",
       "15    15.20    212.85  \n",
       "16    15.20    235.69  \n",
       "17    17.66    206.69  \n",
       "18    14.76    235.54  \n",
       "19    11.94    233.38  \n",
       "20    16.41    211.62  \n",
       "21    11.69    232.31  \n",
       "22    14.38    236.31  \n",
       "23    22.06    201.15  \n",
       "24    12.41    222.15  \n",
       "25    12.41    222.15  \n",
       "26    25.36    193.62  \n",
       "27    20.40    206.62  \n",
       "28    22.44    179.15  \n",
       "29    24.14    197.46  \n",
       "30    26.03    158.92  \n",
       "31    29.57    140.92  \n",
       "32    22.68    177.00  \n",
       "33    29.57    140.92  \n",
       "34    22.44    203.31  \n",
       "35    26.23    154.69  \n",
       "36    26.56     76.08  \n",
       "37    23.10    195.23  \n",
       "38    23.98    174.31  \n",
       "39    26.03    158.92  \n",
       "40    20.28    209.00  \n",
       "41    29.53     72.54  \n",
       "42    19.57    210.85  \n",
       "43    21.37    204.23  \n",
       "44    21.98    204.92  \n",
       "45    19.57    210.85  \n",
       "46    25.80    190.38  \n",
       "47    20.80    205.77  \n",
       "48    22.68    177.00  \n",
       "49     8.98    252.08  \n",
       "50    10.69    224.15  \n",
       "51     8.41    251.85  \n",
       "52     8.41    251.85  \n",
       "53     9.74    239.00  \n",
       "54    36.14    141.46  \n",
       "55    25.80    190.38  \n",
       "56    29.83    136.46  \n",
       "57    28.58    176.62  \n",
       "58    22.57    193.85  \n",
       "59    25.74    185.54  \n",
       "60    25.74    185.54  \n",
       "61    25.80    190.38  \n",
       "62    28.46    179.85  \n",
       "63    36.75    132.38  \n",
       "64    25.30    189.31  \n",
       "65    33.09    124.62  \n",
       "66    38.24     89.00  \n",
       "67    30.55     71.85  \n",
       "68    19.50    212.00  \n",
       "69    22.75    187.77  \n",
       "70    22.42    171.77  \n",
       "71    27.49    124.92  \n",
       "72    20.00    183.62  \n",
       "73    20.10    167.15  \n",
       "74    28.82    127.54  \n",
       "75    24.37    159.77  \n",
       "76    36.09    143.31  \n",
       "77    20.10    167.15  \n",
       "78    36.83    100.77  \n",
       "79    34.59     92.77  \n",
       "80    20.10    167.15  \n",
       "81    36.09    143.31  \n",
       "82    30.56    159.62  \n",
       "83    33.37    143.08  \n",
       "84    22.75    187.77  \n",
       "85    29.90    166.00  \n",
       "86    24.37    159.77  \n",
       "87    25.90    182.00  \n",
       "88    22.37    170.31  \n",
       "89    18.25    209.92  \n",
       "90    11.14    230.54  \n",
       "91    19.46    188.15  \n",
       "92    11.98    249.77  \n",
       "93    11.12    228.69  \n",
       "94    10.66    234.31  \n",
       "95    19.56    188.54  \n",
       "96    17.05    189.62  \n",
       "97    13.53    227.31  \n",
       "98    13.41    228.31  \n",
       "99    11.60    249.85  \n",
       "100   18.07    214.92  \n",
       "101   11.17    228.46  \n",
       "102   14.86    230.00  \n",
       "103   16.40    220.77  \n",
       "104   14.59    234.92  \n",
       "105   14.59    234.92  \n",
       "106    9.39    244.69  \n",
       "107   11.22    223.62  \n",
       "108   15.30    214.69  \n",
       "109   12.67    237.69  \n",
       "110   11.68    219.08  \n",
       "111   12.69    242.46  \n",
       "112   11.28    222.38  \n",
       "113   11.68    219.08  \n",
       "114   12.32    233.38  \n",
       "115   17.05    189.62  \n",
       "116    8.90    245.38  \n",
       "117   11.71    246.77  \n",
       "118   10.31    245.31  \n",
       "119   20.15    204.69  \n",
       "120   15.59    231.31  \n",
       "121   15.60    226.77  \n",
       "122    9.89    259.46  \n",
       "123   22.68    177.00  \n",
       "124   14.90    232.31  \n",
       "125   13.56    236.46  \n",
       "126   11.39    230.08  \n",
       "127   16.32    224.08  \n",
       "128   11.71    246.77  \n",
       "129   19.86    170.69  \n",
       "130   10.98    233.15  \n",
       "131   10.81    256.38  \n",
       "132   19.86    170.69  \n",
       "133   15.79    210.69  \n",
       "134    9.99    251.46  \n",
       "135   11.97    245.15  \n",
       "136   11.71    246.77  \n",
       "137   16.87    222.69  \n",
       "138   15.60    226.77  \n",
       "139   11.62    252.69  \n",
       "140   11.27    238.46  \n",
       "141   10.81    256.38  \n",
       "142   21.81    186.54  \n",
       "143    9.89    259.46  \n",
       "144   11.71    246.77  \n",
       "145   15.42    225.69  \n",
       "146   11.27    238.46  \n",
       "147   12.22    247.62  \n",
       "148   17.47    220.92  \n",
       "149   11.27    238.46  \n",
       "150   25.80    190.38  \n",
       "151   29.62     23.31  \n",
       "152   35.34    101.00  \n",
       "153   31.02     86.92  \n",
       "154   36.57     39.38  \n",
       "155   31.02     86.92  \n",
       "156   35.98     98.46  \n",
       "157   35.98     98.46  \n",
       "158   35.98     98.46  \n",
       "159   15.77    199.00  \n",
       "160   24.40    165.31  \n",
       "161   21.58    213.38  \n",
       "162   35.12     85.69  \n",
       "163   35.12     85.69  \n",
       "164   35.12     85.69  \n",
       "165   32.29     95.08  \n",
       "166   33.25     93.15  \n",
       "167   32.62     29.69  \n",
       "168   39.77     91.08  \n",
       "169   35.43     54.77  \n",
       "170   35.85    125.92  \n",
       "171   35.85    125.92  \n",
       "172   41.24     45.08  \n",
       "173   35.43     54.77  \n",
       "174   37.32     44.31  \n",
       "175   41.18     89.15  \n",
       "176   32.50     29.54  \n",
       "177   39.13    108.23  \n",
       "178   39.24     39.69  \n",
       "179   38.63     96.54  \n",
       "180   39.13    108.23  \n",
       "181   41.18     89.15  \n",
       "182   40.92     38.69  \n",
       "183   32.50     29.54  \n",
       "184   36.71    104.69  \n",
       "185   38.32     41.62  \n",
       "186   38.32     41.62  \n",
       "187   38.32     41.62  \n",
       "188   38.93     85.46  \n",
       "189   37.32     44.31  \n",
       "190   20.43    188.77  \n",
       "191   18.83    220.54  \n",
       "192   15.40    197.46  \n",
       "193   28.36    170.77  \n",
       "194   21.89    186.69  \n",
       "195   20.53    188.92  \n",
       "196   18.48    190.23  \n",
       "197   15.15    229.46  \n",
       "198   21.61    203.62  \n",
       "199   20.57    208.54  \n",
       "200   13.98    237.15  \n",
       "201   23.29    173.92  \n",
       "202   29.72    170.08  \n",
       "203   18.76    212.92  \n",
       "204   37.76    130.08  \n",
       "205   15.34    228.23  \n",
       "206   22.10    185.85  \n",
       "207   23.47    172.92  \n",
       "208   16.73    221.92  \n",
       "209   26.44    154.54  \n",
       "210   19.58    189.15  \n",
       "211   26.15    152.46  \n",
       "212   29.65    144.15  \n",
       "213   22.57    203.38  \n",
       "214   15.84    211.00  \n",
       "215   18.24    214.69  \n",
       "216   23.98    174.31  \n",
       "217   39.96     89.92  \n",
       "218   27.05    159.85  \n",
       "219   19.90    215.77  \n",
       "220   21.01    197.62  \n",
       "221   18.82    198.15  \n",
       "222   19.64    215.15  \n",
       "223   20.31    198.00  \n",
       "224   20.71    188.85  \n",
       "225   20.75    193.38  \n",
       "226   26.76    153.62  \n",
       "227   20.21    218.85  \n",
       "228   19.05    192.38  \n",
       "229   20.71    188.85  \n",
       "230   21.57    196.54  \n",
       "231   27.05    159.85  \n",
       "232   19.90    215.77  \n",
       "233   32.26    118.62  \n",
       "234   26.04    155.92  \n",
       "235   31.71    120.00  \n",
       "236   20.64    198.00  \n",
       "237   26.04    155.92  \n",
       "238   19.80    214.38  \n",
       "239   18.96    200.46  \n",
       "240   28.00    156.46  \n",
       "241   17.45    217.15  \n",
       "242   17.45    217.15  \n",
       "243   17.45    217.15  \n",
       "244   25.51    169.77  "
      ]
     },
     "metadata": {},
     "output_type": "display_data"
    }
   ],
   "source": [
    "# Creating a weather dictionary\n",
    "weather = {}\n",
    "weather[\"City\"] = city_list\n",
    "weather[\"Temperature\"] = []\n",
    "weather[\"Pressure\"]=[]\n",
    "weather[\"Humidity\"]=[]\n",
    "weather[\"Wind\"] = []\n",
    "weather[\"Precipitation\"] = []\n",
    "weather[\"Clouds\"] = []\n",
    "weather[\"Sunshine\"]=[]\n",
    "count = 0\n",
    "\n",
    "# Obtaining the weather information\n",
    "try:\n",
    "    for key, value in city_dict.items():\n",
    "        stt = states[key]\n",
    "        for i in value:\n",
    "            count += 1\n",
    "            display(count)\n",
    "            display(i)\n",
    "            # Make the request to obtain the longitude and latitude\n",
    "            query = 'q='+i+','+stt+',IN' \n",
    "            response=requests.get('http://api.openweathermap.org/geo/1.0/direct?'+query+'&APPID='+api_key) \n",
    "            response.raise_for_status() # Check for errors\n",
    "            loc_info = response.json()\n",
    "            if len(loc_info)==0:\n",
    "                print(\"City \"+i+\" cannot be found through the api\")\n",
    "                weather[\"City\"].remove(i)\n",
    "                continue\n",
    "            else:\n",
    "                lat = loc_info[0]['lat']\n",
    "                lon = loc_info[0]['lon']\n",
    "                qlat = 'lat='+str(lat)\n",
    "                qlon = 'lon='+str(lon)\n",
    "        \n",
    "            # Make the request to obtain weather information\n",
    "            response1 = requests.get('https://history.openweathermap.org/data/2.5/aggregated/month?month=1&'+qlat+'&'+qlon+'&appid='+api_key)\n",
    "            weather_info = response1.json()\n",
    "        \n",
    "            # Store weather information in dictionary, if missing enter \"NONE\"\n",
    "            if \"temp\" in weather_info['result']:\n",
    "                weather[\"Temperature\"].append(weather_info['result']['temp']['mean'])\n",
    "            else: \n",
    "                weather[\"Temperature\"].append(\"NONE\")\n",
    "            if \"wind\" in weather_info['result']:\n",
    "                weather[\"Wind\"].append(weather_info['result']['wind']['mean'])\n",
    "            else:\n",
    "                weather[\"Wind\"].append(\"NONE\")\n",
    "            if \"precipitation\" in weather_info['result']:\n",
    "                weather[\"Precipitation\"].append(weather_info['result']['precipitation']['mean'])\n",
    "            else:\n",
    "                weather[\"Precipitation\"].append(\"NONE\")\n",
    "            if \"pressure\" in weather_info['result']:\n",
    "                weather[\"Pressure\"].append(weather_info['result']['pressure']['mean'])\n",
    "            else: \n",
    "                weather[\"Pressure\"].append(\"NONE\") \n",
    "            if \"humidity\" in weather_info['result']:\n",
    "                weather[\"Humidity\"].append(weather_info['result']['humidity']['mean'])\n",
    "            else: \n",
    "                weather[\"Humidity\"].append(\"NONE\")\n",
    "            if \"clouds\" in weather_info['result']:\n",
    "                weather[\"Clouds\"].append(weather_info['result']['clouds']['mean'])\n",
    "            else: \n",
    "                weather[\"Clouds\"].append(\"NONE\") \n",
    "            if \"sunshine_hours\" in weather_info['result']:\n",
    "                weather[\"Sunshine\"].append(weather_info['result']['sunshine_hours'])\n",
    "            else: \n",
    "                weather[\"Sunshine\"].append(\"NONE\") \n",
    "     \n",
    "    # Create Data Frame\n",
    "    df_weather= pd.DataFrame.from_dict(weather)\n",
    "    with pd.option_context('display.max_rows', None,\n",
    "                           'display.max_columns', None,\n",
    "                           'display.precision', 3\n",
    "                          ):\n",
    "        display(df_weather)\n",
    "        #df_weather.to_csv(\"weather_data.csv\")\n",
    "        \n",
    "# Error messages in case the request was not successful or an other error occurred\n",
    "except requests.exceptions.HTTPError as http_err:\n",
    "    print(f\"HTTP error occurred: {http_err}\")\n",
    "except Exception as err:\n",
    "    print(f\"Other error occurred: {err}\")"
   ]
  },
  {
   "cell_type": "code",
   "execution_count": 11,
   "metadata": {},
   "outputs": [],
   "source": [
    "df_weather.to_csv(\"DATA_INDIA/weather/jan_2024_weather.csv\")"
   ]
  }
 ],
 "metadata": {
  "kernelspec": {
   "display_name": "Python 3",
   "language": "python",
   "name": "python3"
  },
  "language_info": {
   "codemirror_mode": {
    "name": "ipython",
    "version": 3
   },
   "file_extension": ".py",
   "mimetype": "text/x-python",
   "name": "python",
   "nbconvert_exporter": "python",
   "pygments_lexer": "ipython3",
   "version": "3.8.5"
  }
 },
 "nbformat": 4,
 "nbformat_minor": 4
}
