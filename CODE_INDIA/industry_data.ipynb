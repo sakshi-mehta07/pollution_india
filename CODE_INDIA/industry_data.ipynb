{
 "cells": [
  {
   "cell_type": "markdown",
   "id": "273d2db6-e5e6-4488-8a85-edc8d33c6723",
   "metadata": {},
   "source": [
    "# Industry data at city level from Wikipedia:\n",
    "    All tables say they are incomplete. I just want to check if it contains info on our 240 cities.\n",
    "    If there is enough overlap we can decide what to do.\n",
    "\n",
    "Wiki data origins\n",
    "------\n",
    "    https://clustermapping.in/data-by-cluster/\n",
    "    https://web.archive.org/web/20190907005843/http://www.dcmsme.gov.in/clusters/clus/smelist.htm\n",
    "\n",
    "    https://web.archive.org/web/20181119051351/http://www.dcmsme.gov.in/clusters/unido/methcludata.htm"
   ]
  },
  {
   "cell_type": "code",
   "execution_count": null,
   "id": "cab8ac5a-f051-49f1-9025-922c3d04aa33",
   "metadata": {},
   "outputs": [],
   "source": []
  },
  {
   "cell_type": "code",
   "execution_count": 1,
   "id": "0f9d389d-321c-4cd4-9241-2de8f6c975a8",
   "metadata": {},
   "outputs": [],
   "source": [
    "import pandas as pd\n",
    "from bs4 import BeautifulSoup\n",
    "import requests\n",
    "import os\n",
    "\n"
   ]
  },
  {
   "cell_type": "code",
   "execution_count": 2,
   "id": "cd8b8ca2-ce03-43c7-9297-bef4c36499d5",
   "metadata": {},
   "outputs": [],
   "source": [
    "os.getcwd()\n",
    "# Directory should be at github repo level.\n",
    "# .. to move up one directory level.\n",
    "\n",
    "os.chdir(\"..\")"
   ]
  },
  {
   "cell_type": "code",
   "execution_count": 3,
   "id": "2ff9153f-44c7-4c23-b568-841dae5cca0c",
   "metadata": {},
   "outputs": [
    {
     "name": "stdout",
     "output_type": "stream",
     "text": [
      "<Response [200]>\n"
     ]
    }
   ],
   "source": [
    "link_web = \"https://en.wikipedia.org/wiki/List_of_industrial_cities_in_India\"\n",
    "cities_web = requests.get(link_web)\n",
    "print(cities_web)\n",
    "soup = BeautifulSoup(cities_web.content,\"lxml\")"
   ]
  },
  {
   "cell_type": "code",
   "execution_count": 4,
   "id": "c6c7602e-f80b-47fd-ba8b-38d128cdfd83",
   "metadata": {},
   "outputs": [],
   "source": [
    "def tables_to_df(soup=soup,table_num=2):\n",
    "    table = soup.find_all('table')[table_num]\n",
    "    \n",
    "    headers = []\n",
    "    rows = []\n",
    "    for i, row in enumerate(table.find_all('tr')):\n",
    "        if i == 0:\n",
    "            headers = [el.text.strip() for el in row.find_all('th')]\n",
    "        else:\n",
    "            rows.append([el.text.strip() for el in row.find_all('td')])\n",
    "\n",
    "    return pd.DataFrame(rows,columns=headers)"
   ]
  },
  {
   "cell_type": "code",
   "execution_count": 11,
   "id": "77fb05a0-f239-499d-9bbe-79e931c2e593",
   "metadata": {},
   "outputs": [
    {
     "data": {
      "text/html": [
       "<div>\n",
       "<style scoped>\n",
       "    .dataframe tbody tr th:only-of-type {\n",
       "        vertical-align: middle;\n",
       "    }\n",
       "\n",
       "    .dataframe tbody tr th {\n",
       "        vertical-align: top;\n",
       "    }\n",
       "\n",
       "    .dataframe thead th {\n",
       "        text-align: right;\n",
       "    }\n",
       "</style>\n",
       "<table border=\"1\" class=\"dataframe\">\n",
       "  <thead>\n",
       "    <tr style=\"text-align: right;\">\n",
       "      <th></th>\n",
       "    </tr>\n",
       "  </thead>\n",
       "  <tbody>\n",
       "  </tbody>\n",
       "</table>\n",
       "</div>"
      ],
      "text/plain": [
       "Empty DataFrame\n",
       "Columns: []\n",
       "Index: []"
      ]
     },
     "execution_count": 11,
     "metadata": {},
     "output_type": "execute_result"
    }
   ],
   "source": [
    "tables_to_df(table_num=7)"
   ]
  }
 ],
 "metadata": {
  "kernelspec": {
   "display_name": "Python 3 (ipykernel)",
   "language": "python",
   "name": "python3"
  },
  "language_info": {
   "codemirror_mode": {
    "name": "ipython",
    "version": 3
   },
   "file_extension": ".py",
   "mimetype": "text/x-python",
   "name": "python",
   "nbconvert_exporter": "python",
   "pygments_lexer": "ipython3",
   "version": "3.12.8"
  }
 },
 "nbformat": 4,
 "nbformat_minor": 5
}
