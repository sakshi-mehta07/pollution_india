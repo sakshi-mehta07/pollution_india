{
 "cells": [
  {
   "cell_type": "markdown",
   "id": "7a187282-dcb0-4cc8-a043-5d911a5a2ccb",
   "metadata": {},
   "source": [
    "# Pollution in Indian cities 2024.\n",
    "USE JANUARY FROM 2024\n",
    "Dowload from each city individually. Merge together\n",
    "Tripura state not there as data goes to 2023 only."
   ]
  },
  {
   "cell_type": "code",
   "execution_count": 1,
   "id": "26d44461-ea9d-4784-b166-b50a5e692c18",
   "metadata": {},
   "outputs": [],
   "source": [
    "import os\n",
    "import pandas as pd\n",
    "import numpy as np\n",
    "\n"
   ]
  },
  {
   "cell_type": "code",
   "execution_count": 2,
   "id": "81beea9e-1e38-44e3-a04b-d250413fa861",
   "metadata": {},
   "outputs": [
    {
     "data": {
      "text/plain": [
       "'/Users/elenalarrauri/LSE/COURSES/AT/Managing_data/2024-project-pollution-team'"
      ]
     },
     "execution_count": 2,
     "metadata": {},
     "output_type": "execute_result"
    }
   ],
   "source": [
    "os.getcwd()"
   ]
  },
  {
   "cell_type": "markdown",
   "id": "dac7bddc-3415-4e6c-98a8-c56dd253ab33",
   "metadata": {
    "jp-MarkdownHeadingCollapsed": true
   },
   "source": [
    "# Test for a single excel file.\n",
    "There are NaN values and NA values, we will have to switch NA to NaN"
   ]
  },
  {
   "cell_type": "code",
   "execution_count": 3,
   "id": "63c2f2a9-60fe-421c-bee1-3dbe8c598a15",
   "metadata": {},
   "outputs": [],
   "source": [
    "# To avoid a warning.\n",
    "pd.set_option(\"future.no_silent_downcasting\", True)\n"
   ]
  },
  {
   "cell_type": "code",
   "execution_count": 4,
   "id": "d8a9949c-2870-43f1-842b-599c2f9d6086",
   "metadata": {},
   "outputs": [],
   "source": [
    "pollution_city = pd.read_excel(\"pollution_cities/andhra pradesh/AQI_daily_city_level_amaravati_2024_amaravati_2024.xlsx\",nrows=31)"
   ]
  },
  {
   "cell_type": "code",
   "execution_count": 5,
   "id": "658c12fc-4c0e-4842-82f9-8bf1e63d3aeb",
   "metadata": {},
   "outputs": [
    {
     "data": {
      "text/plain": [
       "['January',\n",
       " 'February',\n",
       " 'March',\n",
       " 'April',\n",
       " 'May',\n",
       " 'June',\n",
       " 'July',\n",
       " 'August',\n",
       " 'September',\n",
       " 'October',\n",
       " 'November',\n",
       " 'December']"
      ]
     },
     "execution_count": 5,
     "metadata": {},
     "output_type": "execute_result"
    }
   ],
   "source": [
    "value_vars = pollution_city.columns.to_list()\n",
    "value_vars.remove(\"Date\")\n",
    "value_vars"
   ]
  },
  {
   "cell_type": "code",
   "execution_count": 6,
   "id": "b1b3418e-0585-4d86-b2b3-286a833536a6",
   "metadata": {},
   "outputs": [],
   "source": [
    "VALUE_VARS = tuple(value_vars)"
   ]
  },
  {
   "cell_type": "code",
   "execution_count": 7,
   "id": "48a962f2-b58d-42ea-b6d4-95ba1bb0aa13",
   "metadata": {},
   "outputs": [],
   "source": [
    "#\"pollution_cities/andhra pradesh/AQI_daily_city_level_amaravati_2024_amaravati_2024.xlsx\"\n",
    "def read_excel(path,city,state,value_vars=VALUE_VARS):\n",
    "    \"\"\"\n",
    "    Takes excel for different cities and cleans and converts to long format\n",
    "    \"\"\"\n",
    "    \n",
    "    pollution_city = pd.read_excel(path,nrows=31)\n",
    "    \n",
    "    pollution_city.replace('NA ', np.nan, inplace=True)\n",
    "    # Just in case\n",
    "    pollution_city.replace('NA', np.nan, inplace=True)\n",
    "    \n",
    "    pollution_city_long = pollution_city.melt(id_vars=\"Date\",value_vars=value_vars)\n",
    "    \n",
    "    pollution_city_long[\"value\"] = pd.to_numeric(pollution_city_long[\"value\"])\n",
    "\n",
    "    # Add state and city identifier.\n",
    "    pollution_city_long[\"city\"] = city\n",
    "    pollution_city_long[\"state\"] = state\n",
    "\n",
    "    return pollution_city_long\n",
    "    \n",
    "    \n",
    "    "
   ]
  },
  {
   "cell_type": "code",
   "execution_count": 8,
   "id": "d380e939-cc96-40c5-9710-052ed04e5ce8",
   "metadata": {},
   "outputs": [
    {
     "data": {
      "text/html": [
       "<div>\n",
       "<style scoped>\n",
       "    .dataframe tbody tr th:only-of-type {\n",
       "        vertical-align: middle;\n",
       "    }\n",
       "\n",
       "    .dataframe tbody tr th {\n",
       "        vertical-align: top;\n",
       "    }\n",
       "\n",
       "    .dataframe thead th {\n",
       "        text-align: right;\n",
       "    }\n",
       "</style>\n",
       "<table border=\"1\" class=\"dataframe\">\n",
       "  <thead>\n",
       "    <tr style=\"text-align: right;\">\n",
       "      <th></th>\n",
       "      <th>Date</th>\n",
       "      <th>variable</th>\n",
       "      <th>value</th>\n",
       "      <th>city</th>\n",
       "      <th>state</th>\n",
       "    </tr>\n",
       "  </thead>\n",
       "  <tbody>\n",
       "    <tr>\n",
       "      <th>0</th>\n",
       "      <td>1</td>\n",
       "      <td>January</td>\n",
       "      <td>241.0</td>\n",
       "      <td>amaravati</td>\n",
       "      <td>andhra pradesh</td>\n",
       "    </tr>\n",
       "    <tr>\n",
       "      <th>1</th>\n",
       "      <td>2</td>\n",
       "      <td>January</td>\n",
       "      <td>224.0</td>\n",
       "      <td>amaravati</td>\n",
       "      <td>andhra pradesh</td>\n",
       "    </tr>\n",
       "    <tr>\n",
       "      <th>2</th>\n",
       "      <td>3</td>\n",
       "      <td>January</td>\n",
       "      <td>261.0</td>\n",
       "      <td>amaravati</td>\n",
       "      <td>andhra pradesh</td>\n",
       "    </tr>\n",
       "    <tr>\n",
       "      <th>3</th>\n",
       "      <td>4</td>\n",
       "      <td>January</td>\n",
       "      <td>241.0</td>\n",
       "      <td>amaravati</td>\n",
       "      <td>andhra pradesh</td>\n",
       "    </tr>\n",
       "    <tr>\n",
       "      <th>4</th>\n",
       "      <td>5</td>\n",
       "      <td>January</td>\n",
       "      <td>151.0</td>\n",
       "      <td>amaravati</td>\n",
       "      <td>andhra pradesh</td>\n",
       "    </tr>\n",
       "    <tr>\n",
       "      <th>...</th>\n",
       "      <td>...</td>\n",
       "      <td>...</td>\n",
       "      <td>...</td>\n",
       "      <td>...</td>\n",
       "      <td>...</td>\n",
       "    </tr>\n",
       "    <tr>\n",
       "      <th>367</th>\n",
       "      <td>27</td>\n",
       "      <td>December</td>\n",
       "      <td>NaN</td>\n",
       "      <td>amaravati</td>\n",
       "      <td>andhra pradesh</td>\n",
       "    </tr>\n",
       "    <tr>\n",
       "      <th>368</th>\n",
       "      <td>28</td>\n",
       "      <td>December</td>\n",
       "      <td>NaN</td>\n",
       "      <td>amaravati</td>\n",
       "      <td>andhra pradesh</td>\n",
       "    </tr>\n",
       "    <tr>\n",
       "      <th>369</th>\n",
       "      <td>29</td>\n",
       "      <td>December</td>\n",
       "      <td>NaN</td>\n",
       "      <td>amaravati</td>\n",
       "      <td>andhra pradesh</td>\n",
       "    </tr>\n",
       "    <tr>\n",
       "      <th>370</th>\n",
       "      <td>30</td>\n",
       "      <td>December</td>\n",
       "      <td>NaN</td>\n",
       "      <td>amaravati</td>\n",
       "      <td>andhra pradesh</td>\n",
       "    </tr>\n",
       "    <tr>\n",
       "      <th>371</th>\n",
       "      <td>31</td>\n",
       "      <td>December</td>\n",
       "      <td>NaN</td>\n",
       "      <td>amaravati</td>\n",
       "      <td>andhra pradesh</td>\n",
       "    </tr>\n",
       "  </tbody>\n",
       "</table>\n",
       "<p>372 rows × 5 columns</p>\n",
       "</div>"
      ],
      "text/plain": [
       "     Date  variable  value       city           state\n",
       "0       1   January  241.0  amaravati  andhra pradesh\n",
       "1       2   January  224.0  amaravati  andhra pradesh\n",
       "2       3   January  261.0  amaravati  andhra pradesh\n",
       "3       4   January  241.0  amaravati  andhra pradesh\n",
       "4       5   January  151.0  amaravati  andhra pradesh\n",
       "..    ...       ...    ...        ...             ...\n",
       "367    27  December    NaN  amaravati  andhra pradesh\n",
       "368    28  December    NaN  amaravati  andhra pradesh\n",
       "369    29  December    NaN  amaravati  andhra pradesh\n",
       "370    30  December    NaN  amaravati  andhra pradesh\n",
       "371    31  December    NaN  amaravati  andhra pradesh\n",
       "\n",
       "[372 rows x 5 columns]"
      ]
     },
     "execution_count": 8,
     "metadata": {},
     "output_type": "execute_result"
    }
   ],
   "source": [
    "read_excel(\"pollution_cities/andhra pradesh/AQI_daily_city_level_amaravati_2024_amaravati_2024.xlsx\",\"amaravati\",\"andhra pradesh\")"
   ]
  },
  {
   "cell_type": "markdown",
   "id": "1af7d853-b050-495d-9bb7-7dcb447f5edf",
   "metadata": {},
   "source": [
    "# Loop over multiple cities."
   ]
  },
  {
   "cell_type": "code",
   "execution_count": 9,
   "id": "7f264f8c-c713-4de2-964e-9a38246019e2",
   "metadata": {},
   "outputs": [],
   "source": [
    "test_str = 'AQI_daily_city_level_chittoor_2024_chittoor_2024.xlsx'"
   ]
  },
  {
   "cell_type": "code",
   "execution_count": 10,
   "id": "31fb5916-efae-4c0a-8acb-c42a47829311",
   "metadata": {},
   "outputs": [],
   "source": [
    "# https://www.geeksforgeeks.org/python-extract-string-between-two-substrings/\n",
    "\n",
    "def city_name(test_str):\n",
    "    \"\"\"\n",
    "    \n",
    "    Get the city name from the name of the excel file\n",
    "    \n",
    "    \"\"\"\n",
    "    idx1 = test_str.index(\"AQI_daily_city_level_\")\n",
    "    idx2 = test_str.index(\"_2024_\")\n",
    "     \n",
    "    # length of substring 1 is added to\n",
    "    # get string from next character\n",
    "    res = test_str[idx1 + len(\"AQI_daily_city_level_\"): idx2]\n",
    "    \n",
    "    return res"
   ]
  },
  {
   "cell_type": "code",
   "execution_count": 11,
   "id": "9fc74d41-5db6-4579-b774-58978fc2c826",
   "metadata": {},
   "outputs": [
    {
     "data": {
      "text/plain": [
       "'chittoor'"
      ]
     },
     "execution_count": 11,
     "metadata": {},
     "output_type": "execute_result"
    }
   ],
   "source": [
    "city_name(test_str)"
   ]
  },
  {
   "cell_type": "code",
   "execution_count": 12,
   "id": "b59880fc-8021-4c45-8fc7-42b5a2eb8003",
   "metadata": {},
   "outputs": [],
   "source": [
    "list_df = []"
   ]
  },
  {
   "cell_type": "code",
   "execution_count": 13,
   "id": "4b187b75-568f-47b9-8c19-281f91aa8eb1",
   "metadata": {
    "scrolled": true
   },
   "outputs": [],
   "source": [
    "# Use os to loop over every file in the directory.\n",
    "counter = 0\n",
    "for state in os.listdir(\"pollution_cities\"):\n",
    "    if state != \".DS_Store\":\n",
    "        \n",
    "        # Go through every city in each state.\n",
    "        \n",
    "        for city in os.listdir(f\"pollution_cities/{state}\"):\n",
    "            \n",
    "            if city != \".DS_Store\" and city != \".ipynb_checkpoints\":\n",
    "                # Count the number of cities.\n",
    "                counter +=1\n",
    "                \n",
    "                # For each city extract the name, using the function defined above.\n",
    "                #print(city,state)\n",
    "                name_city = city_name(city)\n",
    "\n",
    "                # Read the excel file.\n",
    "                full_path = \"pollution_cities/\"+state+\"/\"+city\n",
    "\n",
    "                # append the cleaned city dataframe.\n",
    "                list_df.append(read_excel(path=full_path,city=name_city,state=state))\n",
    "                \n",
    "                \n",
    "        \n",
    "        \n",
    "        \n",
    "                "
   ]
  },
  {
   "cell_type": "code",
   "execution_count": 14,
   "id": "c504d562-a3ee-4c0b-8b68-61e02b834918",
   "metadata": {},
   "outputs": [],
   "source": [
    "# Remarkably well formatted across cities, so nice :)\n",
    "df = pd.concat(list_df\n",
    "         )\n",
    "\n"
   ]
  },
  {
   "cell_type": "code",
   "execution_count": 15,
   "id": "a480f26d-843a-4769-bd37-131439c181a0",
   "metadata": {},
   "outputs": [
    {
     "data": {
      "text/html": [
       "<div>\n",
       "<style scoped>\n",
       "    .dataframe tbody tr th:only-of-type {\n",
       "        vertical-align: middle;\n",
       "    }\n",
       "\n",
       "    .dataframe tbody tr th {\n",
       "        vertical-align: top;\n",
       "    }\n",
       "\n",
       "    .dataframe thead th {\n",
       "        text-align: right;\n",
       "    }\n",
       "</style>\n",
       "<table border=\"1\" class=\"dataframe\">\n",
       "  <thead>\n",
       "    <tr style=\"text-align: right;\">\n",
       "      <th></th>\n",
       "      <th>Date</th>\n",
       "      <th>variable</th>\n",
       "      <th>value</th>\n",
       "      <th>city</th>\n",
       "      <th>state</th>\n",
       "    </tr>\n",
       "  </thead>\n",
       "  <tbody>\n",
       "    <tr>\n",
       "      <th>0</th>\n",
       "      <td>1</td>\n",
       "      <td>January</td>\n",
       "      <td>NaN</td>\n",
       "      <td>naharlagun</td>\n",
       "      <td>arunachal pradesh</td>\n",
       "    </tr>\n",
       "    <tr>\n",
       "      <th>1</th>\n",
       "      <td>2</td>\n",
       "      <td>January</td>\n",
       "      <td>NaN</td>\n",
       "      <td>naharlagun</td>\n",
       "      <td>arunachal pradesh</td>\n",
       "    </tr>\n",
       "    <tr>\n",
       "      <th>2</th>\n",
       "      <td>3</td>\n",
       "      <td>January</td>\n",
       "      <td>NaN</td>\n",
       "      <td>naharlagun</td>\n",
       "      <td>arunachal pradesh</td>\n",
       "    </tr>\n",
       "    <tr>\n",
       "      <th>3</th>\n",
       "      <td>4</td>\n",
       "      <td>January</td>\n",
       "      <td>NaN</td>\n",
       "      <td>naharlagun</td>\n",
       "      <td>arunachal pradesh</td>\n",
       "    </tr>\n",
       "    <tr>\n",
       "      <th>4</th>\n",
       "      <td>5</td>\n",
       "      <td>January</td>\n",
       "      <td>NaN</td>\n",
       "      <td>naharlagun</td>\n",
       "      <td>arunachal pradesh</td>\n",
       "    </tr>\n",
       "    <tr>\n",
       "      <th>...</th>\n",
       "      <td>...</td>\n",
       "      <td>...</td>\n",
       "      <td>...</td>\n",
       "      <td>...</td>\n",
       "      <td>...</td>\n",
       "    </tr>\n",
       "    <tr>\n",
       "      <th>367</th>\n",
       "      <td>27</td>\n",
       "      <td>December</td>\n",
       "      <td>NaN</td>\n",
       "      <td>kohima</td>\n",
       "      <td>nagaland</td>\n",
       "    </tr>\n",
       "    <tr>\n",
       "      <th>368</th>\n",
       "      <td>28</td>\n",
       "      <td>December</td>\n",
       "      <td>NaN</td>\n",
       "      <td>kohima</td>\n",
       "      <td>nagaland</td>\n",
       "    </tr>\n",
       "    <tr>\n",
       "      <th>369</th>\n",
       "      <td>29</td>\n",
       "      <td>December</td>\n",
       "      <td>NaN</td>\n",
       "      <td>kohima</td>\n",
       "      <td>nagaland</td>\n",
       "    </tr>\n",
       "    <tr>\n",
       "      <th>370</th>\n",
       "      <td>30</td>\n",
       "      <td>December</td>\n",
       "      <td>NaN</td>\n",
       "      <td>kohima</td>\n",
       "      <td>nagaland</td>\n",
       "    </tr>\n",
       "    <tr>\n",
       "      <th>371</th>\n",
       "      <td>31</td>\n",
       "      <td>December</td>\n",
       "      <td>NaN</td>\n",
       "      <td>kohima</td>\n",
       "      <td>nagaland</td>\n",
       "    </tr>\n",
       "  </tbody>\n",
       "</table>\n",
       "<p>104904 rows × 5 columns</p>\n",
       "</div>"
      ],
      "text/plain": [
       "     Date  variable  value        city              state\n",
       "0       1   January    NaN  naharlagun  arunachal pradesh\n",
       "1       2   January    NaN  naharlagun  arunachal pradesh\n",
       "2       3   January    NaN  naharlagun  arunachal pradesh\n",
       "3       4   January    NaN  naharlagun  arunachal pradesh\n",
       "4       5   January    NaN  naharlagun  arunachal pradesh\n",
       "..    ...       ...    ...         ...                ...\n",
       "367    27  December    NaN      kohima           nagaland\n",
       "368    28  December    NaN      kohima           nagaland\n",
       "369    29  December    NaN      kohima           nagaland\n",
       "370    30  December    NaN      kohima           nagaland\n",
       "371    31  December    NaN      kohima           nagaland\n",
       "\n",
       "[104904 rows x 5 columns]"
      ]
     },
     "execution_count": 15,
     "metadata": {},
     "output_type": "execute_result"
    }
   ],
   "source": [
    "df"
   ]
  },
  {
   "cell_type": "code",
   "execution_count": 16,
   "id": "24d2b9a8-b178-45d6-ab79-602dce05f0bd",
   "metadata": {},
   "outputs": [],
   "source": [
    "df.rename(columns={\"Date\":\"date\",\"value\":\"aqi\",\"variable\":\"month\"},inplace=True)"
   ]
  },
  {
   "cell_type": "code",
   "execution_count": 17,
   "id": "7b5c464b-c9fc-4a29-8051-dd9198f2c6ed",
   "metadata": {},
   "outputs": [],
   "source": [
    "df.to_csv(\"aqi_india_cities_2024\")"
   ]
  },
  {
   "cell_type": "markdown",
   "id": "b6a53d59-0717-44cb-8524-37c951744e13",
   "metadata": {},
   "source": [
    "# Deprecated, dictionary of cities by state."
   ]
  },
  {
   "cell_type": "code",
   "execution_count": 18,
   "id": "08697493-361e-4662-88d2-5f86e1ce17fe",
   "metadata": {},
   "outputs": [],
   "source": [
    "cities_by_state = {}"
   ]
  },
  {
   "cell_type": "code",
   "execution_count": null,
   "id": "ac9e1a1a-1012-48a3-8584-3ce1ca104d17",
   "metadata": {},
   "outputs": [],
   "source": []
  },
  {
   "cell_type": "code",
   "execution_count": 19,
   "id": "aed2d6c7-6d50-436f-bd40-98ecb4fafb5e",
   "metadata": {
    "scrolled": true
   },
   "outputs": [],
   "source": [
    "# Use os to loop over every file in the directory.\n",
    "for state in os.listdir(\"pollution_cities\"):\n",
    "    if state != \".DS_Store\":\n",
    "        \n",
    "        # Go through every city in each state.\n",
    "        name_list = []\n",
    "        for city in os.listdir(f\"pollution_cities/{state}\"):\n",
    "            if city != \".DS_Store\" and city != \".ipynb_checkpoints\":\n",
    "                # For each city extract the name, using the function defined above.\n",
    "                #print(city,state)\n",
    "                name_list.append(city_name(city))\n",
    "        # After completing the list of cities in state put into dictionary.\n",
    "        cities_by_state[state] = name_list\n",
    "                "
   ]
  }
 ],
 "metadata": {
  "kernelspec": {
   "display_name": "Python 3 (ipykernel)",
   "language": "python",
   "name": "python3"
  },
  "language_info": {
   "codemirror_mode": {
    "name": "ipython",
    "version": 3
   },
   "file_extension": ".py",
   "mimetype": "text/x-python",
   "name": "python",
   "nbconvert_exporter": "python",
   "pygments_lexer": "ipython3",
   "version": "3.12.8"
  }
 },
 "nbformat": 4,
 "nbformat_minor": 5
}
